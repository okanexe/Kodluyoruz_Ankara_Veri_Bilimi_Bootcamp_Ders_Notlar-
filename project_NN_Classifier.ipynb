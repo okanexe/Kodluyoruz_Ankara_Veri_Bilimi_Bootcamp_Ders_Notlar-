{
 "cells": [
  {
   "cell_type": "code",
   "execution_count": 1,
   "metadata": {},
   "outputs": [],
   "source": [
    "import numpy as np\n",
    "import pandas as pd \n",
    "from sklearn.model_selection import train_test_split, GridSearchCV,cross_val_score\n",
    "from sklearn.metrics import mean_squared_error, r2_score, accuracy_score, confusion_matrix, classification_report\n",
    "import matplotlib.pyplot as plt\n",
    "from sklearn.preprocessing import scale \n",
    "from sklearn import model_selection\n",
    "from sklearn.tree import DecisionTreeRegressor, DecisionTreeClassifier\n",
    "from sklearn.neighbors import KNeighborsRegressor\n",
    "from sklearn.ensemble import BaggingRegressor\n",
    "from sklearn.model_selection import train_test_split, GridSearchCV, cross_val_score\n",
    "\n",
    "from warnings import filterwarnings\n",
    "filterwarnings('ignore')"
   ]
  },
  {
   "cell_type": "code",
   "execution_count": 2,
   "metadata": {},
   "outputs": [],
   "source": [
    "data = pd.read_csv(\"last_data.csv\")"
   ]
  },
  {
   "cell_type": "code",
   "execution_count": 3,
   "metadata": {},
   "outputs": [
    {
     "data": {
      "text/html": [
       "<div>\n",
       "<style scoped>\n",
       "    .dataframe tbody tr th:only-of-type {\n",
       "        vertical-align: middle;\n",
       "    }\n",
       "\n",
       "    .dataframe tbody tr th {\n",
       "        vertical-align: top;\n",
       "    }\n",
       "\n",
       "    .dataframe thead th {\n",
       "        text-align: right;\n",
       "    }\n",
       "</style>\n",
       "<table border=\"1\" class=\"dataframe\">\n",
       "  <thead>\n",
       "    <tr style=\"text-align: right;\">\n",
       "      <th></th>\n",
       "      <th>Unnamed: 0</th>\n",
       "      <th>ID</th>\n",
       "      <th>Dates</th>\n",
       "      <th>city</th>\n",
       "      <th>Hafta_Gunu</th>\n",
       "      <th>Racer</th>\n",
       "      <th>Racer_1</th>\n",
       "      <th>LAST_RACER_SAME_AS_CURRENT_RACER</th>\n",
       "      <th>LAST_RACER_SAME_AS_CURRENT_RACER_BINARY</th>\n",
       "      <th>Speed_in_Secs</th>\n",
       "      <th>...</th>\n",
       "      <th>K</th>\n",
       "      <th>DB</th>\n",
       "      <th>SK</th>\n",
       "      <th>SKG</th>\n",
       "      <th>GKR</th>\n",
       "      <th>YP</th>\n",
       "      <th>TGK</th>\n",
       "      <th>ÖG</th>\n",
       "      <th>SGKR</th>\n",
       "      <th>Winner</th>\n",
       "    </tr>\n",
       "  </thead>\n",
       "  <tbody>\n",
       "    <tr>\n",
       "      <th>0</th>\n",
       "      <td>0</td>\n",
       "      <td>ENGİNYAR(12) KG  SK</td>\n",
       "      <td>2015-08-07</td>\n",
       "      <td>Elazığ</td>\n",
       "      <td>Hafta İçi</td>\n",
       "      <td>S.KAPLAN</td>\n",
       "      <td>S.KAPLAN</td>\n",
       "      <td>True</td>\n",
       "      <td>1</td>\n",
       "      <td>157.51</td>\n",
       "      <td>...</td>\n",
       "      <td>0</td>\n",
       "      <td>0</td>\n",
       "      <td>1</td>\n",
       "      <td>0</td>\n",
       "      <td>0</td>\n",
       "      <td>0</td>\n",
       "      <td>0</td>\n",
       "      <td>0</td>\n",
       "      <td>0</td>\n",
       "      <td>0</td>\n",
       "    </tr>\n",
       "    <tr>\n",
       "      <th>1</th>\n",
       "      <td>1</td>\n",
       "      <td>TÜRK LOKUMU(8) KG</td>\n",
       "      <td>2015-07-29</td>\n",
       "      <td>Elazığ</td>\n",
       "      <td>Hafta İçi</td>\n",
       "      <td>R.YILDIRIM</td>\n",
       "      <td>R.YILDIRIM</td>\n",
       "      <td>True</td>\n",
       "      <td>1</td>\n",
       "      <td>167.86</td>\n",
       "      <td>...</td>\n",
       "      <td>0</td>\n",
       "      <td>0</td>\n",
       "      <td>0</td>\n",
       "      <td>0</td>\n",
       "      <td>0</td>\n",
       "      <td>0</td>\n",
       "      <td>0</td>\n",
       "      <td>0</td>\n",
       "      <td>0</td>\n",
       "      <td>0</td>\n",
       "    </tr>\n",
       "    <tr>\n",
       "      <th>2</th>\n",
       "      <td>2</td>\n",
       "      <td>KINGDOM(6) KG  K</td>\n",
       "      <td>2015-07-29</td>\n",
       "      <td>Elazığ</td>\n",
       "      <td>Hafta İçi</td>\n",
       "      <td>C.TEPE</td>\n",
       "      <td>C.TEPE</td>\n",
       "      <td>True</td>\n",
       "      <td>1</td>\n",
       "      <td>147.87</td>\n",
       "      <td>...</td>\n",
       "      <td>1</td>\n",
       "      <td>0</td>\n",
       "      <td>0</td>\n",
       "      <td>0</td>\n",
       "      <td>0</td>\n",
       "      <td>0</td>\n",
       "      <td>0</td>\n",
       "      <td>0</td>\n",
       "      <td>0</td>\n",
       "      <td>0</td>\n",
       "    </tr>\n",
       "    <tr>\n",
       "      <th>3</th>\n",
       "      <td>3</td>\n",
       "      <td>ŞAHDİLDAR(10) KG  K</td>\n",
       "      <td>2015-07-21</td>\n",
       "      <td>Ankara</td>\n",
       "      <td>Hafta İçi</td>\n",
       "      <td>MÜS.ÇELİK</td>\n",
       "      <td>MÜS.ÇELİK</td>\n",
       "      <td>True</td>\n",
       "      <td>1</td>\n",
       "      <td>74.67</td>\n",
       "      <td>...</td>\n",
       "      <td>1</td>\n",
       "      <td>0</td>\n",
       "      <td>0</td>\n",
       "      <td>0</td>\n",
       "      <td>0</td>\n",
       "      <td>0</td>\n",
       "      <td>0</td>\n",
       "      <td>0</td>\n",
       "      <td>0</td>\n",
       "      <td>0</td>\n",
       "    </tr>\n",
       "    <tr>\n",
       "      <th>4</th>\n",
       "      <td>4</td>\n",
       "      <td>DEHERE VERE(8) SKG  SK</td>\n",
       "      <td>2015-07-21</td>\n",
       "      <td>Ankara</td>\n",
       "      <td>Hafta İçi</td>\n",
       "      <td>E.METİN</td>\n",
       "      <td>E.METİN</td>\n",
       "      <td>True</td>\n",
       "      <td>1</td>\n",
       "      <td>73.96</td>\n",
       "      <td>...</td>\n",
       "      <td>0</td>\n",
       "      <td>0</td>\n",
       "      <td>1</td>\n",
       "      <td>1</td>\n",
       "      <td>0</td>\n",
       "      <td>0</td>\n",
       "      <td>0</td>\n",
       "      <td>0</td>\n",
       "      <td>0</td>\n",
       "      <td>0</td>\n",
       "    </tr>\n",
       "    <tr>\n",
       "      <th>...</th>\n",
       "      <td>...</td>\n",
       "      <td>...</td>\n",
       "      <td>...</td>\n",
       "      <td>...</td>\n",
       "      <td>...</td>\n",
       "      <td>...</td>\n",
       "      <td>...</td>\n",
       "      <td>...</td>\n",
       "      <td>...</td>\n",
       "      <td>...</td>\n",
       "      <td>...</td>\n",
       "      <td>...</td>\n",
       "      <td>...</td>\n",
       "      <td>...</td>\n",
       "      <td>...</td>\n",
       "      <td>...</td>\n",
       "      <td>...</td>\n",
       "      <td>...</td>\n",
       "      <td>...</td>\n",
       "      <td>...</td>\n",
       "      <td>...</td>\n",
       "    </tr>\n",
       "    <tr>\n",
       "      <th>12354</th>\n",
       "      <td>12354</td>\n",
       "      <td>ADAMINDİBİ(1) KG  SK</td>\n",
       "      <td>2019-12-30</td>\n",
       "      <td>Bursa</td>\n",
       "      <td>Hafta İçi</td>\n",
       "      <td>E.ERGÜR</td>\n",
       "      <td>F.ARSLAN</td>\n",
       "      <td>False</td>\n",
       "      <td>0</td>\n",
       "      <td>110.45</td>\n",
       "      <td>...</td>\n",
       "      <td>0</td>\n",
       "      <td>0</td>\n",
       "      <td>1</td>\n",
       "      <td>0</td>\n",
       "      <td>0</td>\n",
       "      <td>0</td>\n",
       "      <td>0</td>\n",
       "      <td>0</td>\n",
       "      <td>0</td>\n",
       "      <td>0</td>\n",
       "    </tr>\n",
       "    <tr>\n",
       "      <th>12355</th>\n",
       "      <td>12355</td>\n",
       "      <td>KUBİ DAYI(10) KG  DB  SK</td>\n",
       "      <td>2019-12-29</td>\n",
       "      <td>Adana</td>\n",
       "      <td>Hafta Sonu</td>\n",
       "      <td>T.BALİ</td>\n",
       "      <td>M.ÖZDEMİR</td>\n",
       "      <td>False</td>\n",
       "      <td>0</td>\n",
       "      <td>131.47</td>\n",
       "      <td>...</td>\n",
       "      <td>0</td>\n",
       "      <td>1</td>\n",
       "      <td>1</td>\n",
       "      <td>0</td>\n",
       "      <td>0</td>\n",
       "      <td>0</td>\n",
       "      <td>0</td>\n",
       "      <td>0</td>\n",
       "      <td>0</td>\n",
       "      <td>0</td>\n",
       "    </tr>\n",
       "    <tr>\n",
       "      <th>12356</th>\n",
       "      <td>12356</td>\n",
       "      <td>KING OF DIAMONDS(13) DB  SK</td>\n",
       "      <td>2019-12-30</td>\n",
       "      <td>Şanlıurfa</td>\n",
       "      <td>Hafta İçi</td>\n",
       "      <td>R.DOĞAN</td>\n",
       "      <td>R.DOĞAN</td>\n",
       "      <td>True</td>\n",
       "      <td>1</td>\n",
       "      <td>150.31</td>\n",
       "      <td>...</td>\n",
       "      <td>0</td>\n",
       "      <td>1</td>\n",
       "      <td>1</td>\n",
       "      <td>0</td>\n",
       "      <td>0</td>\n",
       "      <td>0</td>\n",
       "      <td>0</td>\n",
       "      <td>0</td>\n",
       "      <td>0</td>\n",
       "      <td>0</td>\n",
       "    </tr>\n",
       "    <tr>\n",
       "      <th>12357</th>\n",
       "      <td>12357</td>\n",
       "      <td>BEY POYRAZ(2) SK</td>\n",
       "      <td>2019-12-30</td>\n",
       "      <td>Şanlıurfa</td>\n",
       "      <td>Hafta İçi</td>\n",
       "      <td>İ.AKYAVUZ</td>\n",
       "      <td>İ.AKYAVUZ</td>\n",
       "      <td>True</td>\n",
       "      <td>1</td>\n",
       "      <td>102.02</td>\n",
       "      <td>...</td>\n",
       "      <td>0</td>\n",
       "      <td>0</td>\n",
       "      <td>1</td>\n",
       "      <td>0</td>\n",
       "      <td>0</td>\n",
       "      <td>0</td>\n",
       "      <td>0</td>\n",
       "      <td>0</td>\n",
       "      <td>0</td>\n",
       "      <td>0</td>\n",
       "    </tr>\n",
       "    <tr>\n",
       "      <th>12358</th>\n",
       "      <td>12358</td>\n",
       "      <td>ZAMANIN HARİKASI(9) KG  DB  SK</td>\n",
       "      <td>2019-12-31</td>\n",
       "      <td>Adana</td>\n",
       "      <td>Hafta İçi</td>\n",
       "      <td>H.BUDAK</td>\n",
       "      <td>H.BUDAK</td>\n",
       "      <td>True</td>\n",
       "      <td>1</td>\n",
       "      <td>103.13</td>\n",
       "      <td>...</td>\n",
       "      <td>0</td>\n",
       "      <td>1</td>\n",
       "      <td>1</td>\n",
       "      <td>0</td>\n",
       "      <td>0</td>\n",
       "      <td>0</td>\n",
       "      <td>0</td>\n",
       "      <td>0</td>\n",
       "      <td>0</td>\n",
       "      <td>0</td>\n",
       "    </tr>\n",
       "  </tbody>\n",
       "</table>\n",
       "<p>12359 rows × 61 columns</p>\n",
       "</div>"
      ],
      "text/plain": [
       "       Unnamed: 0                                ID       Dates       city  \\\n",
       "0               0             ENGİNYAR(12) KG  SK    2015-08-07     Elazığ   \n",
       "1               1               TÜRK LOKUMU(8) KG    2015-07-29     Elazığ   \n",
       "2               2                KINGDOM(6) KG  K    2015-07-29     Elazığ   \n",
       "3               3             ŞAHDİLDAR(10) KG  K    2015-07-21     Ankara   \n",
       "4               4          DEHERE VERE(8) SKG  SK    2015-07-21     Ankara   \n",
       "...           ...                               ...         ...        ...   \n",
       "12354       12354            ADAMINDİBİ(1) KG  SK    2019-12-30      Bursa   \n",
       "12355       12355        KUBİ DAYI(10) KG  DB  SK    2019-12-29      Adana   \n",
       "12356       12356   KING OF DIAMONDS(13) DB  SK      2019-12-30  Şanlıurfa   \n",
       "12357       12357                BEY POYRAZ(2) SK    2019-12-30  Şanlıurfa   \n",
       "12358       12358  ZAMANIN HARİKASI(9) KG  DB  SK    2019-12-31      Adana   \n",
       "\n",
       "       Hafta_Gunu       Racer     Racer_1  LAST_RACER_SAME_AS_CURRENT_RACER  \\\n",
       "0       Hafta İçi    S.KAPLAN    S.KAPLAN                              True   \n",
       "1       Hafta İçi  R.YILDIRIM  R.YILDIRIM                              True   \n",
       "2       Hafta İçi      C.TEPE      C.TEPE                              True   \n",
       "3       Hafta İçi   MÜS.ÇELİK   MÜS.ÇELİK                              True   \n",
       "4       Hafta İçi     E.METİN     E.METİN                              True   \n",
       "...           ...         ...         ...                               ...   \n",
       "12354   Hafta İçi     E.ERGÜR    F.ARSLAN                             False   \n",
       "12355  Hafta Sonu      T.BALİ   M.ÖZDEMİR                             False   \n",
       "12356   Hafta İçi     R.DOĞAN     R.DOĞAN                              True   \n",
       "12357   Hafta İçi   İ.AKYAVUZ   İ.AKYAVUZ                              True   \n",
       "12358   Hafta İçi     H.BUDAK     H.BUDAK                              True   \n",
       "\n",
       "       LAST_RACER_SAME_AS_CURRENT_RACER_BINARY  Speed_in_Secs  ...  K  DB  SK  \\\n",
       "0                                            1         157.51  ...  0   0   1   \n",
       "1                                            1         167.86  ...  0   0   0   \n",
       "2                                            1         147.87  ...  1   0   0   \n",
       "3                                            1          74.67  ...  1   0   0   \n",
       "4                                            1          73.96  ...  0   0   1   \n",
       "...                                        ...            ...  ... ..  ..  ..   \n",
       "12354                                        0         110.45  ...  0   0   1   \n",
       "12355                                        0         131.47  ...  0   1   1   \n",
       "12356                                        1         150.31  ...  0   1   1   \n",
       "12357                                        1         102.02  ...  0   0   1   \n",
       "12358                                        1         103.13  ...  0   1   1   \n",
       "\n",
       "       SKG  GKR  YP  TGK  ÖG  SGKR  Winner  \n",
       "0        0    0   0    0   0     0       0  \n",
       "1        0    0   0    0   0     0       0  \n",
       "2        0    0   0    0   0     0       0  \n",
       "3        0    0   0    0   0     0       0  \n",
       "4        1    0   0    0   0     0       0  \n",
       "...    ...  ...  ..  ...  ..   ...     ...  \n",
       "12354    0    0   0    0   0     0       0  \n",
       "12355    0    0   0    0   0     0       0  \n",
       "12356    0    0   0    0   0     0       0  \n",
       "12357    0    0   0    0   0     0       0  \n",
       "12358    0    0   0    0   0     0       0  \n",
       "\n",
       "[12359 rows x 61 columns]"
      ]
     },
     "execution_count": 3,
     "metadata": {},
     "output_type": "execute_result"
    }
   ],
   "source": [
    "data"
   ]
  },
  {
   "cell_type": "code",
   "execution_count": 4,
   "metadata": {},
   "outputs": [],
   "source": [
    "# dummy değişkenler dms olarak tanımlanıyor\n",
    "\n",
    "dms = pd.get_dummies(data[['city', 'Hafta_Gunu', 'LAST_RACER_SAME_AS_CURRENT_RACER', 'kosu_saati', 'at_ana',\n",
    "                        'at_baba', 'at_soyu', 'Mevsim', 'kosu']])"
   ]
  },
  {
   "cell_type": "code",
   "execution_count": 5,
   "metadata": {},
   "outputs": [],
   "source": [
    "y = data[\"RANK.1\"]\n",
    "X_ = data.drop(['ID', 'Dates', 'Racer', 'Racer_1', 'LAST_RACER_SAME_AS_CURRENT_RACER', \n",
    "                'RANK_LATEST_1ST','Ranking_Score_Normalized.1', 'city', 'Hafta_Gunu', 'kosu_saati', 'at_ana',\n",
    "                        'at_baba', 'at_soyu', 'Mevsim', 'RANK.1', 'LAST_RACER_SAME_AS_CURRENT_RACER_BINARY',\n",
    "                'kosu', 'AG_RANKING_Score_Normalized', 'Ranking_Score_Normalized', 'RANK'], axis=1)"
   ]
  },
  {
   "cell_type": "code",
   "execution_count": 6,
   "metadata": {},
   "outputs": [],
   "source": [
    "X_ = X_.iloc[:,:-11]"
   ]
  },
  {
   "cell_type": "code",
   "execution_count": 7,
   "metadata": {},
   "outputs": [
    {
     "data": {
      "text/html": [
       "<div>\n",
       "<style scoped>\n",
       "    .dataframe tbody tr th:only-of-type {\n",
       "        vertical-align: middle;\n",
       "    }\n",
       "\n",
       "    .dataframe tbody tr th {\n",
       "        vertical-align: top;\n",
       "    }\n",
       "\n",
       "    .dataframe thead th {\n",
       "        text-align: right;\n",
       "    }\n",
       "</style>\n",
       "<table border=\"1\" class=\"dataframe\">\n",
       "  <thead>\n",
       "    <tr style=\"text-align: right;\">\n",
       "      <th></th>\n",
       "      <th>Unnamed: 0</th>\n",
       "      <th>Speed_in_Secs</th>\n",
       "      <th>GANYAN_TRANS</th>\n",
       "      <th>GANYAN_TRANS_INT</th>\n",
       "      <th>AG_Percentage</th>\n",
       "      <th>AG_RANK_AMONG_GROUP</th>\n",
       "      <th>First_Position_Percentage</th>\n",
       "      <th>Second_Position_Percentage</th>\n",
       "      <th>Third_Position_Percentage</th>\n",
       "      <th>Fourth_Position_Percentage</th>\n",
       "      <th>...</th>\n",
       "      <th>BIRINCILIK_PERCENTAGE</th>\n",
       "      <th>IKINCILIK_PERCENTAGE</th>\n",
       "      <th>UCUNCULUK_PERCENTAGE</th>\n",
       "      <th>DORDUNCULUK_PERCENTAGE</th>\n",
       "      <th>SPEED_LATEST_1ST</th>\n",
       "      <th>SPEED_LATEST_2nd</th>\n",
       "      <th>SPEED_LATEST_3rd</th>\n",
       "      <th>SPEED_LATEST_4th</th>\n",
       "      <th>SPEED_LATEST_5th</th>\n",
       "      <th>at_yası</th>\n",
       "    </tr>\n",
       "  </thead>\n",
       "  <tbody>\n",
       "    <tr>\n",
       "      <th>0</th>\n",
       "      <td>0</td>\n",
       "      <td>157.51</td>\n",
       "      <td>12.65</td>\n",
       "      <td>1265</td>\n",
       "      <td>2.0</td>\n",
       "      <td>11</td>\n",
       "      <td>8</td>\n",
       "      <td>8</td>\n",
       "      <td>7</td>\n",
       "      <td>9</td>\n",
       "      <td>...</td>\n",
       "      <td>2</td>\n",
       "      <td>8</td>\n",
       "      <td>0</td>\n",
       "      <td>17</td>\n",
       "      <td>11.4278</td>\n",
       "      <td>10.8861</td>\n",
       "      <td>11.4640</td>\n",
       "      <td>10.9800</td>\n",
       "      <td>9.3825</td>\n",
       "      <td>4</td>\n",
       "    </tr>\n",
       "    <tr>\n",
       "      <th>1</th>\n",
       "      <td>1</td>\n",
       "      <td>167.86</td>\n",
       "      <td>15.85</td>\n",
       "      <td>1585</td>\n",
       "      <td>1.0</td>\n",
       "      <td>12</td>\n",
       "      <td>4</td>\n",
       "      <td>6</td>\n",
       "      <td>6</td>\n",
       "      <td>7</td>\n",
       "      <td>...</td>\n",
       "      <td>4</td>\n",
       "      <td>4</td>\n",
       "      <td>9</td>\n",
       "      <td>18</td>\n",
       "      <td>10.1275</td>\n",
       "      <td>13.8776</td>\n",
       "      <td>13.4525</td>\n",
       "      <td>13.5883</td>\n",
       "      <td>13.9714</td>\n",
       "      <td>4</td>\n",
       "    </tr>\n",
       "    <tr>\n",
       "      <th>2</th>\n",
       "      <td>2</td>\n",
       "      <td>147.87</td>\n",
       "      <td>10.10</td>\n",
       "      <td>1010</td>\n",
       "      <td>3.0</td>\n",
       "      <td>11</td>\n",
       "      <td>8</td>\n",
       "      <td>8</td>\n",
       "      <td>7</td>\n",
       "      <td>8</td>\n",
       "      <td>...</td>\n",
       "      <td>10</td>\n",
       "      <td>10</td>\n",
       "      <td>16</td>\n",
       "      <td>8</td>\n",
       "      <td>13.5254</td>\n",
       "      <td>14.8968</td>\n",
       "      <td>13.9792</td>\n",
       "      <td>14.0046</td>\n",
       "      <td>13.7287</td>\n",
       "      <td>7</td>\n",
       "    </tr>\n",
       "    <tr>\n",
       "      <th>3</th>\n",
       "      <td>3</td>\n",
       "      <td>74.67</td>\n",
       "      <td>3.55</td>\n",
       "      <td>355</td>\n",
       "      <td>16.0</td>\n",
       "      <td>2</td>\n",
       "      <td>14</td>\n",
       "      <td>13</td>\n",
       "      <td>13</td>\n",
       "      <td>12</td>\n",
       "      <td>...</td>\n",
       "      <td>0</td>\n",
       "      <td>0</td>\n",
       "      <td>0</td>\n",
       "      <td>0</td>\n",
       "      <td>16.0707</td>\n",
       "      <td>0.0000</td>\n",
       "      <td>0.0000</td>\n",
       "      <td>0.0000</td>\n",
       "      <td>0.0000</td>\n",
       "      <td>2</td>\n",
       "    </tr>\n",
       "    <tr>\n",
       "      <th>4</th>\n",
       "      <td>4</td>\n",
       "      <td>73.96</td>\n",
       "      <td>8.80</td>\n",
       "      <td>880</td>\n",
       "      <td>5.0</td>\n",
       "      <td>8</td>\n",
       "      <td>8</td>\n",
       "      <td>9</td>\n",
       "      <td>10</td>\n",
       "      <td>10</td>\n",
       "      <td>...</td>\n",
       "      <td>0</td>\n",
       "      <td>0</td>\n",
       "      <td>100</td>\n",
       "      <td>0</td>\n",
       "      <td>16.2250</td>\n",
       "      <td>0.0000</td>\n",
       "      <td>0.0000</td>\n",
       "      <td>0.0000</td>\n",
       "      <td>0.0000</td>\n",
       "      <td>2</td>\n",
       "    </tr>\n",
       "    <tr>\n",
       "      <th>...</th>\n",
       "      <td>...</td>\n",
       "      <td>...</td>\n",
       "      <td>...</td>\n",
       "      <td>...</td>\n",
       "      <td>...</td>\n",
       "      <td>...</td>\n",
       "      <td>...</td>\n",
       "      <td>...</td>\n",
       "      <td>...</td>\n",
       "      <td>...</td>\n",
       "      <td>...</td>\n",
       "      <td>...</td>\n",
       "      <td>...</td>\n",
       "      <td>...</td>\n",
       "      <td>...</td>\n",
       "      <td>...</td>\n",
       "      <td>...</td>\n",
       "      <td>...</td>\n",
       "      <td>...</td>\n",
       "      <td>...</td>\n",
       "      <td>...</td>\n",
       "    </tr>\n",
       "    <tr>\n",
       "      <th>12354</th>\n",
       "      <td>12354</td>\n",
       "      <td>110.45</td>\n",
       "      <td>43.80</td>\n",
       "      <td>4380</td>\n",
       "      <td>0.0</td>\n",
       "      <td>0</td>\n",
       "      <td>0</td>\n",
       "      <td>0</td>\n",
       "      <td>0</td>\n",
       "      <td>0</td>\n",
       "      <td>...</td>\n",
       "      <td>0</td>\n",
       "      <td>0</td>\n",
       "      <td>0</td>\n",
       "      <td>0</td>\n",
       "      <td>0.0000</td>\n",
       "      <td>12.6754</td>\n",
       "      <td>12.2897</td>\n",
       "      <td>13.7662</td>\n",
       "      <td>0.0000</td>\n",
       "      <td>3</td>\n",
       "    </tr>\n",
       "    <tr>\n",
       "      <th>12355</th>\n",
       "      <td>12355</td>\n",
       "      <td>131.47</td>\n",
       "      <td>37.00</td>\n",
       "      <td>3700</td>\n",
       "      <td>1.0</td>\n",
       "      <td>10</td>\n",
       "      <td>2</td>\n",
       "      <td>2</td>\n",
       "      <td>6</td>\n",
       "      <td>6</td>\n",
       "      <td>...</td>\n",
       "      <td>7</td>\n",
       "      <td>12</td>\n",
       "      <td>4</td>\n",
       "      <td>9</td>\n",
       "      <td>0.0000</td>\n",
       "      <td>0.0000</td>\n",
       "      <td>15.2126</td>\n",
       "      <td>0.0000</td>\n",
       "      <td>0.0000</td>\n",
       "      <td>5</td>\n",
       "    </tr>\n",
       "    <tr>\n",
       "      <th>12356</th>\n",
       "      <td>12356</td>\n",
       "      <td>150.31</td>\n",
       "      <td>7.95</td>\n",
       "      <td>795</td>\n",
       "      <td>2.0</td>\n",
       "      <td>5</td>\n",
       "      <td>8</td>\n",
       "      <td>9</td>\n",
       "      <td>10</td>\n",
       "      <td>10</td>\n",
       "      <td>...</td>\n",
       "      <td>17</td>\n",
       "      <td>5</td>\n",
       "      <td>17</td>\n",
       "      <td>14</td>\n",
       "      <td>13.3058</td>\n",
       "      <td>13.7651</td>\n",
       "      <td>14.7230</td>\n",
       "      <td>14.7424</td>\n",
       "      <td>15.0539</td>\n",
       "      <td>4</td>\n",
       "    </tr>\n",
       "    <tr>\n",
       "      <th>12357</th>\n",
       "      <td>12357</td>\n",
       "      <td>102.02</td>\n",
       "      <td>15.70</td>\n",
       "      <td>1570</td>\n",
       "      <td>0.0</td>\n",
       "      <td>0</td>\n",
       "      <td>12</td>\n",
       "      <td>10</td>\n",
       "      <td>10</td>\n",
       "      <td>9</td>\n",
       "      <td>...</td>\n",
       "      <td>0</td>\n",
       "      <td>0</td>\n",
       "      <td>0</td>\n",
       "      <td>50</td>\n",
       "      <td>13.7228</td>\n",
       "      <td>12.9766</td>\n",
       "      <td>14.1961</td>\n",
       "      <td>15.1649</td>\n",
       "      <td>14.9421</td>\n",
       "      <td>2</td>\n",
       "    </tr>\n",
       "    <tr>\n",
       "      <th>12358</th>\n",
       "      <td>12358</td>\n",
       "      <td>103.13</td>\n",
       "      <td>64.55</td>\n",
       "      <td>6455</td>\n",
       "      <td>1.0</td>\n",
       "      <td>12</td>\n",
       "      <td>6</td>\n",
       "      <td>7</td>\n",
       "      <td>8</td>\n",
       "      <td>10</td>\n",
       "      <td>...</td>\n",
       "      <td>13</td>\n",
       "      <td>11</td>\n",
       "      <td>11</td>\n",
       "      <td>11</td>\n",
       "      <td>12.6054</td>\n",
       "      <td>13.2531</td>\n",
       "      <td>11.9551</td>\n",
       "      <td>13.0378</td>\n",
       "      <td>13.9551</td>\n",
       "      <td>8</td>\n",
       "    </tr>\n",
       "  </tbody>\n",
       "</table>\n",
       "<p>12359 rows × 30 columns</p>\n",
       "</div>"
      ],
      "text/plain": [
       "       Unnamed: 0  Speed_in_Secs  GANYAN_TRANS  GANYAN_TRANS_INT  \\\n",
       "0               0         157.51         12.65              1265   \n",
       "1               1         167.86         15.85              1585   \n",
       "2               2         147.87         10.10              1010   \n",
       "3               3          74.67          3.55               355   \n",
       "4               4          73.96          8.80               880   \n",
       "...           ...            ...           ...               ...   \n",
       "12354       12354         110.45         43.80              4380   \n",
       "12355       12355         131.47         37.00              3700   \n",
       "12356       12356         150.31          7.95               795   \n",
       "12357       12357         102.02         15.70              1570   \n",
       "12358       12358         103.13         64.55              6455   \n",
       "\n",
       "       AG_Percentage  AG_RANK_AMONG_GROUP  First_Position_Percentage  \\\n",
       "0                2.0                   11                          8   \n",
       "1                1.0                   12                          4   \n",
       "2                3.0                   11                          8   \n",
       "3               16.0                    2                         14   \n",
       "4                5.0                    8                          8   \n",
       "...              ...                  ...                        ...   \n",
       "12354            0.0                    0                          0   \n",
       "12355            1.0                   10                          2   \n",
       "12356            2.0                    5                          8   \n",
       "12357            0.0                    0                         12   \n",
       "12358            1.0                   12                          6   \n",
       "\n",
       "       Second_Position_Percentage  Third_Position_Percentage  \\\n",
       "0                               8                          7   \n",
       "1                               6                          6   \n",
       "2                               8                          7   \n",
       "3                              13                         13   \n",
       "4                               9                         10   \n",
       "...                           ...                        ...   \n",
       "12354                           0                          0   \n",
       "12355                           2                          6   \n",
       "12356                           9                         10   \n",
       "12357                          10                         10   \n",
       "12358                           7                          8   \n",
       "\n",
       "       Fourth_Position_Percentage  ...  BIRINCILIK_PERCENTAGE  \\\n",
       "0                               9  ...                      2   \n",
       "1                               7  ...                      4   \n",
       "2                               8  ...                     10   \n",
       "3                              12  ...                      0   \n",
       "4                              10  ...                      0   \n",
       "...                           ...  ...                    ...   \n",
       "12354                           0  ...                      0   \n",
       "12355                           6  ...                      7   \n",
       "12356                          10  ...                     17   \n",
       "12357                           9  ...                      0   \n",
       "12358                          10  ...                     13   \n",
       "\n",
       "       IKINCILIK_PERCENTAGE  UCUNCULUK_PERCENTAGE  DORDUNCULUK_PERCENTAGE  \\\n",
       "0                         8                     0                      17   \n",
       "1                         4                     9                      18   \n",
       "2                        10                    16                       8   \n",
       "3                         0                     0                       0   \n",
       "4                         0                   100                       0   \n",
       "...                     ...                   ...                     ...   \n",
       "12354                     0                     0                       0   \n",
       "12355                    12                     4                       9   \n",
       "12356                     5                    17                      14   \n",
       "12357                     0                     0                      50   \n",
       "12358                    11                    11                      11   \n",
       "\n",
       "       SPEED_LATEST_1ST  SPEED_LATEST_2nd  SPEED_LATEST_3rd  SPEED_LATEST_4th  \\\n",
       "0               11.4278           10.8861           11.4640           10.9800   \n",
       "1               10.1275           13.8776           13.4525           13.5883   \n",
       "2               13.5254           14.8968           13.9792           14.0046   \n",
       "3               16.0707            0.0000            0.0000            0.0000   \n",
       "4               16.2250            0.0000            0.0000            0.0000   \n",
       "...                 ...               ...               ...               ...   \n",
       "12354            0.0000           12.6754           12.2897           13.7662   \n",
       "12355            0.0000            0.0000           15.2126            0.0000   \n",
       "12356           13.3058           13.7651           14.7230           14.7424   \n",
       "12357           13.7228           12.9766           14.1961           15.1649   \n",
       "12358           12.6054           13.2531           11.9551           13.0378   \n",
       "\n",
       "       SPEED_LATEST_5th  at_yası  \n",
       "0                9.3825        4  \n",
       "1               13.9714        4  \n",
       "2               13.7287        7  \n",
       "3                0.0000        2  \n",
       "4                0.0000        2  \n",
       "...                 ...      ...  \n",
       "12354            0.0000        3  \n",
       "12355            0.0000        5  \n",
       "12356           15.0539        4  \n",
       "12357           14.9421        2  \n",
       "12358           13.9551        8  \n",
       "\n",
       "[12359 rows x 30 columns]"
      ]
     },
     "execution_count": 7,
     "metadata": {},
     "output_type": "execute_result"
    }
   ],
   "source": [
    "X_"
   ]
  },
  {
   "cell_type": "code",
   "execution_count": 8,
   "metadata": {},
   "outputs": [],
   "source": [
    "X_ = X_.drop(\"Unnamed: 0\", axis=1)"
   ]
  },
  {
   "cell_type": "code",
   "execution_count": 9,
   "metadata": {},
   "outputs": [],
   "source": [
    "columns = list(X_.columns)"
   ]
  },
  {
   "cell_type": "code",
   "execution_count": 10,
   "metadata": {},
   "outputs": [],
   "source": [
    "# X_ bağımsız değişkenleri önce seçiliyor ardından scale edilip dataframe haline getiriliyor.\n",
    "# bu aşamada dummy değişkenler eklenmiyor.\n",
    "\n",
    "X_ = scale(X_)\n",
    "X_ = pd.DataFrame(X_)\n",
    "X_.columns = columns"
   ]
  },
  {
   "cell_type": "code",
   "execution_count": 11,
   "metadata": {},
   "outputs": [
    {
     "data": {
      "text/html": [
       "<div>\n",
       "<style scoped>\n",
       "    .dataframe tbody tr th:only-of-type {\n",
       "        vertical-align: middle;\n",
       "    }\n",
       "\n",
       "    .dataframe tbody tr th {\n",
       "        vertical-align: top;\n",
       "    }\n",
       "\n",
       "    .dataframe thead th {\n",
       "        text-align: right;\n",
       "    }\n",
       "</style>\n",
       "<table border=\"1\" class=\"dataframe\">\n",
       "  <thead>\n",
       "    <tr style=\"text-align: right;\">\n",
       "      <th></th>\n",
       "      <th>Speed_in_Secs</th>\n",
       "      <th>GANYAN_TRANS</th>\n",
       "      <th>GANYAN_TRANS_INT</th>\n",
       "      <th>AG_Percentage</th>\n",
       "      <th>AG_RANK_AMONG_GROUP</th>\n",
       "      <th>First_Position_Percentage</th>\n",
       "      <th>Second_Position_Percentage</th>\n",
       "      <th>Third_Position_Percentage</th>\n",
       "      <th>Fourth_Position_Percentage</th>\n",
       "      <th>TOP_THREE_RACER_PERCENTAGE</th>\n",
       "      <th>...</th>\n",
       "      <th>BIRINCILIK_PERCENTAGE</th>\n",
       "      <th>IKINCILIK_PERCENTAGE</th>\n",
       "      <th>UCUNCULUK_PERCENTAGE</th>\n",
       "      <th>DORDUNCULUK_PERCENTAGE</th>\n",
       "      <th>SPEED_LATEST_1ST</th>\n",
       "      <th>SPEED_LATEST_2nd</th>\n",
       "      <th>SPEED_LATEST_3rd</th>\n",
       "      <th>SPEED_LATEST_4th</th>\n",
       "      <th>SPEED_LATEST_5th</th>\n",
       "      <th>at_yası</th>\n",
       "    </tr>\n",
       "  </thead>\n",
       "  <tbody>\n",
       "    <tr>\n",
       "      <th>0</th>\n",
       "      <td>1.924047</td>\n",
       "      <td>-0.403844</td>\n",
       "      <td>-0.403812</td>\n",
       "      <td>-0.332587</td>\n",
       "      <td>0.768268</td>\n",
       "      <td>0.028543</td>\n",
       "      <td>-0.074528</td>\n",
       "      <td>-0.493910</td>\n",
       "      <td>0.045952</td>\n",
       "      <td>-0.179308</td>\n",
       "      <td>...</td>\n",
       "      <td>-0.475649</td>\n",
       "      <td>0.133279</td>\n",
       "      <td>-0.746591</td>\n",
       "      <td>0.999496</td>\n",
       "      <td>-0.378505</td>\n",
       "      <td>-0.526009</td>\n",
       "      <td>-0.219337</td>\n",
       "      <td>-0.169103</td>\n",
       "      <td>-0.326379</td>\n",
       "      <td>0.044759</td>\n",
       "    </tr>\n",
       "    <tr>\n",
       "      <th>1</th>\n",
       "      <td>2.340855</td>\n",
       "      <td>-0.260575</td>\n",
       "      <td>-0.260542</td>\n",
       "      <td>-0.465015</td>\n",
       "      <td>0.994776</td>\n",
       "      <td>-0.939909</td>\n",
       "      <td>-0.656579</td>\n",
       "      <td>-0.815050</td>\n",
       "      <td>-0.780712</td>\n",
       "      <td>-0.928125</td>\n",
       "      <td>...</td>\n",
       "      <td>-0.283316</td>\n",
       "      <td>-0.283996</td>\n",
       "      <td>0.220207</td>\n",
       "      <td>1.104167</td>\n",
       "      <td>-0.700507</td>\n",
       "      <td>0.190477</td>\n",
       "      <td>0.181472</td>\n",
       "      <td>0.295053</td>\n",
       "      <td>0.425702</td>\n",
       "      <td>0.044759</td>\n",
       "    </tr>\n",
       "    <tr>\n",
       "      <th>2</th>\n",
       "      <td>1.535831</td>\n",
       "      <td>-0.518013</td>\n",
       "      <td>-0.517980</td>\n",
       "      <td>-0.200159</td>\n",
       "      <td>0.768268</td>\n",
       "      <td>0.028543</td>\n",
       "      <td>-0.074528</td>\n",
       "      <td>-0.493910</td>\n",
       "      <td>-0.367380</td>\n",
       "      <td>-0.179308</td>\n",
       "      <td>...</td>\n",
       "      <td>0.293681</td>\n",
       "      <td>0.341916</td>\n",
       "      <td>0.972161</td>\n",
       "      <td>0.057455</td>\n",
       "      <td>0.140939</td>\n",
       "      <td>0.434583</td>\n",
       "      <td>0.287635</td>\n",
       "      <td>0.369135</td>\n",
       "      <td>0.385926</td>\n",
       "      <td>2.169622</td>\n",
       "    </tr>\n",
       "    <tr>\n",
       "      <th>3</th>\n",
       "      <td>-1.412029</td>\n",
       "      <td>-0.811269</td>\n",
       "      <td>-0.811236</td>\n",
       "      <td>1.521409</td>\n",
       "      <td>-1.270311</td>\n",
       "      <td>1.481220</td>\n",
       "      <td>1.380598</td>\n",
       "      <td>1.432931</td>\n",
       "      <td>1.285947</td>\n",
       "      <td>1.639248</td>\n",
       "      <td>...</td>\n",
       "      <td>-0.667981</td>\n",
       "      <td>-0.701271</td>\n",
       "      <td>-0.746591</td>\n",
       "      <td>-0.779914</td>\n",
       "      <td>0.771250</td>\n",
       "      <td>-3.133307</td>\n",
       "      <td>-2.530058</td>\n",
       "      <td>-2.123034</td>\n",
       "      <td>-1.864091</td>\n",
       "      <td>-1.371817</td>\n",
       "    </tr>\n",
       "    <tr>\n",
       "      <th>4</th>\n",
       "      <td>-1.440622</td>\n",
       "      <td>-0.576216</td>\n",
       "      <td>-0.576184</td>\n",
       "      <td>0.064698</td>\n",
       "      <td>0.088741</td>\n",
       "      <td>0.028543</td>\n",
       "      <td>0.216497</td>\n",
       "      <td>0.469511</td>\n",
       "      <td>0.459283</td>\n",
       "      <td>0.248587</td>\n",
       "      <td>...</td>\n",
       "      <td>-0.667981</td>\n",
       "      <td>-0.701271</td>\n",
       "      <td>9.995609</td>\n",
       "      <td>-0.779914</td>\n",
       "      <td>0.809460</td>\n",
       "      <td>-3.133307</td>\n",
       "      <td>-2.530058</td>\n",
       "      <td>-2.123034</td>\n",
       "      <td>-1.864091</td>\n",
       "      <td>-1.371817</td>\n",
       "    </tr>\n",
       "    <tr>\n",
       "      <th>...</th>\n",
       "      <td>...</td>\n",
       "      <td>...</td>\n",
       "      <td>...</td>\n",
       "      <td>...</td>\n",
       "      <td>...</td>\n",
       "      <td>...</td>\n",
       "      <td>...</td>\n",
       "      <td>...</td>\n",
       "      <td>...</td>\n",
       "      <td>...</td>\n",
       "      <td>...</td>\n",
       "      <td>...</td>\n",
       "      <td>...</td>\n",
       "      <td>...</td>\n",
       "      <td>...</td>\n",
       "      <td>...</td>\n",
       "      <td>...</td>\n",
       "      <td>...</td>\n",
       "      <td>...</td>\n",
       "      <td>...</td>\n",
       "      <td>...</td>\n",
       "    </tr>\n",
       "    <tr>\n",
       "      <th>12354</th>\n",
       "      <td>0.028879</td>\n",
       "      <td>0.990799</td>\n",
       "      <td>0.990832</td>\n",
       "      <td>-0.597444</td>\n",
       "      <td>-1.723329</td>\n",
       "      <td>-1.908361</td>\n",
       "      <td>-2.402730</td>\n",
       "      <td>-2.741891</td>\n",
       "      <td>-3.674033</td>\n",
       "      <td>-2.639708</td>\n",
       "      <td>...</td>\n",
       "      <td>-0.667981</td>\n",
       "      <td>-0.701271</td>\n",
       "      <td>-0.746591</td>\n",
       "      <td>-0.779914</td>\n",
       "      <td>-3.208451</td>\n",
       "      <td>-0.097459</td>\n",
       "      <td>-0.052906</td>\n",
       "      <td>0.326711</td>\n",
       "      <td>-1.864091</td>\n",
       "      <td>-0.663529</td>\n",
       "    </tr>\n",
       "    <tr>\n",
       "      <th>12355</th>\n",
       "      <td>0.875382</td>\n",
       "      <td>0.686351</td>\n",
       "      <td>0.686383</td>\n",
       "      <td>-0.465015</td>\n",
       "      <td>0.541759</td>\n",
       "      <td>-1.424135</td>\n",
       "      <td>-1.820679</td>\n",
       "      <td>-0.815050</td>\n",
       "      <td>-1.194043</td>\n",
       "      <td>-1.569969</td>\n",
       "      <td>...</td>\n",
       "      <td>0.005182</td>\n",
       "      <td>0.550554</td>\n",
       "      <td>-0.316903</td>\n",
       "      <td>0.162126</td>\n",
       "      <td>-3.208451</td>\n",
       "      <td>-3.133307</td>\n",
       "      <td>0.536243</td>\n",
       "      <td>-2.123034</td>\n",
       "      <td>-1.864091</td>\n",
       "      <td>0.753046</td>\n",
       "    </tr>\n",
       "    <tr>\n",
       "      <th>12356</th>\n",
       "      <td>1.634093</td>\n",
       "      <td>-0.614272</td>\n",
       "      <td>-0.614240</td>\n",
       "      <td>-0.332587</td>\n",
       "      <td>-0.590785</td>\n",
       "      <td>0.028543</td>\n",
       "      <td>0.216497</td>\n",
       "      <td>0.469511</td>\n",
       "      <td>0.459283</td>\n",
       "      <td>0.248587</td>\n",
       "      <td>...</td>\n",
       "      <td>0.966844</td>\n",
       "      <td>-0.179677</td>\n",
       "      <td>1.079583</td>\n",
       "      <td>0.685482</td>\n",
       "      <td>0.086558</td>\n",
       "      <td>0.163532</td>\n",
       "      <td>0.437558</td>\n",
       "      <td>0.500429</td>\n",
       "      <td>0.603115</td>\n",
       "      <td>0.044759</td>\n",
       "    </tr>\n",
       "    <tr>\n",
       "      <th>12357</th>\n",
       "      <td>-0.310609</td>\n",
       "      <td>-0.267290</td>\n",
       "      <td>-0.267258</td>\n",
       "      <td>-0.597444</td>\n",
       "      <td>-1.723329</td>\n",
       "      <td>0.996994</td>\n",
       "      <td>0.507522</td>\n",
       "      <td>0.469511</td>\n",
       "      <td>0.045952</td>\n",
       "      <td>0.783457</td>\n",
       "      <td>...</td>\n",
       "      <td>-0.667981</td>\n",
       "      <td>-0.701271</td>\n",
       "      <td>-0.746591</td>\n",
       "      <td>4.453644</td>\n",
       "      <td>0.189822</td>\n",
       "      <td>-0.025319</td>\n",
       "      <td>0.331354</td>\n",
       "      <td>0.575615</td>\n",
       "      <td>0.584792</td>\n",
       "      <td>-1.371817</td>\n",
       "    </tr>\n",
       "    <tr>\n",
       "      <th>12358</th>\n",
       "      <td>-0.265908</td>\n",
       "      <td>1.919816</td>\n",
       "      <td>1.919848</td>\n",
       "      <td>-0.465015</td>\n",
       "      <td>0.994776</td>\n",
       "      <td>-0.455683</td>\n",
       "      <td>-0.365553</td>\n",
       "      <td>-0.172770</td>\n",
       "      <td>0.459283</td>\n",
       "      <td>-0.393256</td>\n",
       "      <td>...</td>\n",
       "      <td>0.582179</td>\n",
       "      <td>0.446235</td>\n",
       "      <td>0.435051</td>\n",
       "      <td>0.371469</td>\n",
       "      <td>-0.086887</td>\n",
       "      <td>0.040905</td>\n",
       "      <td>-0.120349</td>\n",
       "      <td>0.197089</td>\n",
       "      <td>0.423031</td>\n",
       "      <td>2.877909</td>\n",
       "    </tr>\n",
       "  </tbody>\n",
       "</table>\n",
       "<p>12359 rows × 29 columns</p>\n",
       "</div>"
      ],
      "text/plain": [
       "       Speed_in_Secs  GANYAN_TRANS  GANYAN_TRANS_INT  AG_Percentage  \\\n",
       "0           1.924047     -0.403844         -0.403812      -0.332587   \n",
       "1           2.340855     -0.260575         -0.260542      -0.465015   \n",
       "2           1.535831     -0.518013         -0.517980      -0.200159   \n",
       "3          -1.412029     -0.811269         -0.811236       1.521409   \n",
       "4          -1.440622     -0.576216         -0.576184       0.064698   \n",
       "...              ...           ...               ...            ...   \n",
       "12354       0.028879      0.990799          0.990832      -0.597444   \n",
       "12355       0.875382      0.686351          0.686383      -0.465015   \n",
       "12356       1.634093     -0.614272         -0.614240      -0.332587   \n",
       "12357      -0.310609     -0.267290         -0.267258      -0.597444   \n",
       "12358      -0.265908      1.919816          1.919848      -0.465015   \n",
       "\n",
       "       AG_RANK_AMONG_GROUP  First_Position_Percentage  \\\n",
       "0                 0.768268                   0.028543   \n",
       "1                 0.994776                  -0.939909   \n",
       "2                 0.768268                   0.028543   \n",
       "3                -1.270311                   1.481220   \n",
       "4                 0.088741                   0.028543   \n",
       "...                    ...                        ...   \n",
       "12354            -1.723329                  -1.908361   \n",
       "12355             0.541759                  -1.424135   \n",
       "12356            -0.590785                   0.028543   \n",
       "12357            -1.723329                   0.996994   \n",
       "12358             0.994776                  -0.455683   \n",
       "\n",
       "       Second_Position_Percentage  Third_Position_Percentage  \\\n",
       "0                       -0.074528                  -0.493910   \n",
       "1                       -0.656579                  -0.815050   \n",
       "2                       -0.074528                  -0.493910   \n",
       "3                        1.380598                   1.432931   \n",
       "4                        0.216497                   0.469511   \n",
       "...                           ...                        ...   \n",
       "12354                   -2.402730                  -2.741891   \n",
       "12355                   -1.820679                  -0.815050   \n",
       "12356                    0.216497                   0.469511   \n",
       "12357                    0.507522                   0.469511   \n",
       "12358                   -0.365553                  -0.172770   \n",
       "\n",
       "       Fourth_Position_Percentage  TOP_THREE_RACER_PERCENTAGE  ...  \\\n",
       "0                        0.045952                   -0.179308  ...   \n",
       "1                       -0.780712                   -0.928125  ...   \n",
       "2                       -0.367380                   -0.179308  ...   \n",
       "3                        1.285947                    1.639248  ...   \n",
       "4                        0.459283                    0.248587  ...   \n",
       "...                           ...                         ...  ...   \n",
       "12354                   -3.674033                   -2.639708  ...   \n",
       "12355                   -1.194043                   -1.569969  ...   \n",
       "12356                    0.459283                    0.248587  ...   \n",
       "12357                    0.045952                    0.783457  ...   \n",
       "12358                    0.459283                   -0.393256  ...   \n",
       "\n",
       "       BIRINCILIK_PERCENTAGE  IKINCILIK_PERCENTAGE  UCUNCULUK_PERCENTAGE  \\\n",
       "0                  -0.475649              0.133279             -0.746591   \n",
       "1                  -0.283316             -0.283996              0.220207   \n",
       "2                   0.293681              0.341916              0.972161   \n",
       "3                  -0.667981             -0.701271             -0.746591   \n",
       "4                  -0.667981             -0.701271              9.995609   \n",
       "...                      ...                   ...                   ...   \n",
       "12354              -0.667981             -0.701271             -0.746591   \n",
       "12355               0.005182              0.550554             -0.316903   \n",
       "12356               0.966844             -0.179677              1.079583   \n",
       "12357              -0.667981             -0.701271             -0.746591   \n",
       "12358               0.582179              0.446235              0.435051   \n",
       "\n",
       "       DORDUNCULUK_PERCENTAGE  SPEED_LATEST_1ST  SPEED_LATEST_2nd  \\\n",
       "0                    0.999496         -0.378505         -0.526009   \n",
       "1                    1.104167         -0.700507          0.190477   \n",
       "2                    0.057455          0.140939          0.434583   \n",
       "3                   -0.779914          0.771250         -3.133307   \n",
       "4                   -0.779914          0.809460         -3.133307   \n",
       "...                       ...               ...               ...   \n",
       "12354               -0.779914         -3.208451         -0.097459   \n",
       "12355                0.162126         -3.208451         -3.133307   \n",
       "12356                0.685482          0.086558          0.163532   \n",
       "12357                4.453644          0.189822         -0.025319   \n",
       "12358                0.371469         -0.086887          0.040905   \n",
       "\n",
       "       SPEED_LATEST_3rd  SPEED_LATEST_4th  SPEED_LATEST_5th   at_yası  \n",
       "0             -0.219337         -0.169103         -0.326379  0.044759  \n",
       "1              0.181472          0.295053          0.425702  0.044759  \n",
       "2              0.287635          0.369135          0.385926  2.169622  \n",
       "3             -2.530058         -2.123034         -1.864091 -1.371817  \n",
       "4             -2.530058         -2.123034         -1.864091 -1.371817  \n",
       "...                 ...               ...               ...       ...  \n",
       "12354         -0.052906          0.326711         -1.864091 -0.663529  \n",
       "12355          0.536243         -2.123034         -1.864091  0.753046  \n",
       "12356          0.437558          0.500429          0.603115  0.044759  \n",
       "12357          0.331354          0.575615          0.584792 -1.371817  \n",
       "12358         -0.120349          0.197089          0.423031  2.877909  \n",
       "\n",
       "[12359 rows x 29 columns]"
      ]
     },
     "execution_count": 11,
     "metadata": {},
     "output_type": "execute_result"
    }
   ],
   "source": [
    "X_"
   ]
  },
  {
   "cell_type": "code",
   "execution_count": 12,
   "metadata": {},
   "outputs": [],
   "source": [
    "# X_ scale edilen bağımsız değişkenler ve dms dummy değişkenler bir araya getiriliyor.\n",
    "\n",
    "X = pd.concat([X_, dms], axis=1)"
   ]
  },
  {
   "cell_type": "code",
   "execution_count": 13,
   "metadata": {},
   "outputs": [
    {
     "data": {
      "text/plain": [
       "Index(['Speed_in_Secs', 'GANYAN_TRANS', 'GANYAN_TRANS_INT', 'AG_Percentage',\n",
       "       'AG_RANK_AMONG_GROUP', 'First_Position_Percentage',\n",
       "       'Second_Position_Percentage', 'Third_Position_Percentage',\n",
       "       'Fourth_Position_Percentage', 'TOP_THREE_RACER_PERCENTAGE',\n",
       "       'RANK_LATEST_2ND', 'RANK_LATEST_3RD', 'RANK_LATEST_4TH',\n",
       "       'RANK_LATEST_5TH', 'TOPLAM_RACES', 'TOPLAM_1ST', 'TOPLAM_2ND',\n",
       "       'TOPLAM_3RD', 'TOPLAM_4TH', 'BIRINCILIK_PERCENTAGE',\n",
       "       'IKINCILIK_PERCENTAGE', 'UCUNCULUK_PERCENTAGE',\n",
       "       'DORDUNCULUK_PERCENTAGE', 'SPEED_LATEST_1ST', 'SPEED_LATEST_2nd',\n",
       "       'SPEED_LATEST_3rd', 'SPEED_LATEST_4th', 'SPEED_LATEST_5th', 'at_yası',\n",
       "       'LAST_RACER_SAME_AS_CURRENT_RACER', 'kosu', 'city_Adana', 'city_Ankara',\n",
       "       'city_Bursa', 'city_Diyarbakır', 'city_Elazığ', 'city_Karma Adana',\n",
       "       'city_Karma Kocaeli', 'city_Karma İstanbul', 'city_Karma İzmir',\n",
       "       'city_Karma Şanlıurfa', 'city_Kocaeli', 'city_İstanbul', 'city_İzmir',\n",
       "       'city_Şanlıurfa', 'Hafta_Gunu_Hafta Sonu', 'Hafta_Gunu_Hafta İçi',\n",
       "       'kosu_saati_akşam', 'kosu_saati_öğle', 'at_ana_a', 'at_ana_d',\n",
       "       'at_ana_k', 'at_baba_a', 'at_baba_d', 'at_baba_e', 'at_baba_g',\n",
       "       'at_baba_k', 'at_soyu_aa', 'at_soyu_ad', 'at_soyu_ae', 'at_soyu_ag',\n",
       "       'at_soyu_ak', 'at_soyu_da', 'at_soyu_dd', 'at_soyu_de', 'at_soyu_dg',\n",
       "       'at_soyu_dk', 'at_soyu_ka', 'at_soyu_kd', 'at_soyu_ke', 'at_soyu_kg',\n",
       "       'at_soyu_kk', 'Mevsim_ilkbahar', 'Mevsim_kis', 'Mevsim_sonbahar',\n",
       "       'Mevsim_yaz'],\n",
       "      dtype='object')"
      ]
     },
     "execution_count": 13,
     "metadata": {},
     "output_type": "execute_result"
    }
   ],
   "source": [
    "X.columns"
   ]
  },
  {
   "cell_type": "code",
   "execution_count": 14,
   "metadata": {},
   "outputs": [
    {
     "data": {
      "text/html": [
       "<div>\n",
       "<style scoped>\n",
       "    .dataframe tbody tr th:only-of-type {\n",
       "        vertical-align: middle;\n",
       "    }\n",
       "\n",
       "    .dataframe tbody tr th {\n",
       "        vertical-align: top;\n",
       "    }\n",
       "\n",
       "    .dataframe thead th {\n",
       "        text-align: right;\n",
       "    }\n",
       "</style>\n",
       "<table border=\"1\" class=\"dataframe\">\n",
       "  <thead>\n",
       "    <tr style=\"text-align: right;\">\n",
       "      <th></th>\n",
       "      <th>Speed_in_Secs</th>\n",
       "      <th>GANYAN_TRANS</th>\n",
       "      <th>GANYAN_TRANS_INT</th>\n",
       "      <th>AG_Percentage</th>\n",
       "      <th>AG_RANK_AMONG_GROUP</th>\n",
       "      <th>First_Position_Percentage</th>\n",
       "      <th>Second_Position_Percentage</th>\n",
       "      <th>Third_Position_Percentage</th>\n",
       "      <th>Fourth_Position_Percentage</th>\n",
       "      <th>TOP_THREE_RACER_PERCENTAGE</th>\n",
       "      <th>...</th>\n",
       "      <th>at_soyu_dk</th>\n",
       "      <th>at_soyu_ka</th>\n",
       "      <th>at_soyu_kd</th>\n",
       "      <th>at_soyu_ke</th>\n",
       "      <th>at_soyu_kg</th>\n",
       "      <th>at_soyu_kk</th>\n",
       "      <th>Mevsim_ilkbahar</th>\n",
       "      <th>Mevsim_kis</th>\n",
       "      <th>Mevsim_sonbahar</th>\n",
       "      <th>Mevsim_yaz</th>\n",
       "    </tr>\n",
       "  </thead>\n",
       "  <tbody>\n",
       "    <tr>\n",
       "      <th>0</th>\n",
       "      <td>1.924047</td>\n",
       "      <td>-0.403844</td>\n",
       "      <td>-0.403812</td>\n",
       "      <td>-0.332587</td>\n",
       "      <td>0.768268</td>\n",
       "      <td>0.028543</td>\n",
       "      <td>-0.074528</td>\n",
       "      <td>-0.493910</td>\n",
       "      <td>0.045952</td>\n",
       "      <td>-0.179308</td>\n",
       "      <td>...</td>\n",
       "      <td>0</td>\n",
       "      <td>0</td>\n",
       "      <td>0</td>\n",
       "      <td>0</td>\n",
       "      <td>0</td>\n",
       "      <td>0</td>\n",
       "      <td>0</td>\n",
       "      <td>0</td>\n",
       "      <td>0</td>\n",
       "      <td>1</td>\n",
       "    </tr>\n",
       "    <tr>\n",
       "      <th>1</th>\n",
       "      <td>2.340855</td>\n",
       "      <td>-0.260575</td>\n",
       "      <td>-0.260542</td>\n",
       "      <td>-0.465015</td>\n",
       "      <td>0.994776</td>\n",
       "      <td>-0.939909</td>\n",
       "      <td>-0.656579</td>\n",
       "      <td>-0.815050</td>\n",
       "      <td>-0.780712</td>\n",
       "      <td>-0.928125</td>\n",
       "      <td>...</td>\n",
       "      <td>0</td>\n",
       "      <td>0</td>\n",
       "      <td>0</td>\n",
       "      <td>0</td>\n",
       "      <td>0</td>\n",
       "      <td>0</td>\n",
       "      <td>0</td>\n",
       "      <td>0</td>\n",
       "      <td>0</td>\n",
       "      <td>1</td>\n",
       "    </tr>\n",
       "    <tr>\n",
       "      <th>2</th>\n",
       "      <td>1.535831</td>\n",
       "      <td>-0.518013</td>\n",
       "      <td>-0.517980</td>\n",
       "      <td>-0.200159</td>\n",
       "      <td>0.768268</td>\n",
       "      <td>0.028543</td>\n",
       "      <td>-0.074528</td>\n",
       "      <td>-0.493910</td>\n",
       "      <td>-0.367380</td>\n",
       "      <td>-0.179308</td>\n",
       "      <td>...</td>\n",
       "      <td>0</td>\n",
       "      <td>0</td>\n",
       "      <td>0</td>\n",
       "      <td>0</td>\n",
       "      <td>0</td>\n",
       "      <td>0</td>\n",
       "      <td>0</td>\n",
       "      <td>0</td>\n",
       "      <td>0</td>\n",
       "      <td>1</td>\n",
       "    </tr>\n",
       "    <tr>\n",
       "      <th>3</th>\n",
       "      <td>-1.412029</td>\n",
       "      <td>-0.811269</td>\n",
       "      <td>-0.811236</td>\n",
       "      <td>1.521409</td>\n",
       "      <td>-1.270311</td>\n",
       "      <td>1.481220</td>\n",
       "      <td>1.380598</td>\n",
       "      <td>1.432931</td>\n",
       "      <td>1.285947</td>\n",
       "      <td>1.639248</td>\n",
       "      <td>...</td>\n",
       "      <td>0</td>\n",
       "      <td>0</td>\n",
       "      <td>0</td>\n",
       "      <td>0</td>\n",
       "      <td>0</td>\n",
       "      <td>0</td>\n",
       "      <td>0</td>\n",
       "      <td>0</td>\n",
       "      <td>0</td>\n",
       "      <td>1</td>\n",
       "    </tr>\n",
       "    <tr>\n",
       "      <th>4</th>\n",
       "      <td>-1.440622</td>\n",
       "      <td>-0.576216</td>\n",
       "      <td>-0.576184</td>\n",
       "      <td>0.064698</td>\n",
       "      <td>0.088741</td>\n",
       "      <td>0.028543</td>\n",
       "      <td>0.216497</td>\n",
       "      <td>0.469511</td>\n",
       "      <td>0.459283</td>\n",
       "      <td>0.248587</td>\n",
       "      <td>...</td>\n",
       "      <td>0</td>\n",
       "      <td>0</td>\n",
       "      <td>0</td>\n",
       "      <td>0</td>\n",
       "      <td>0</td>\n",
       "      <td>0</td>\n",
       "      <td>0</td>\n",
       "      <td>0</td>\n",
       "      <td>0</td>\n",
       "      <td>1</td>\n",
       "    </tr>\n",
       "    <tr>\n",
       "      <th>...</th>\n",
       "      <td>...</td>\n",
       "      <td>...</td>\n",
       "      <td>...</td>\n",
       "      <td>...</td>\n",
       "      <td>...</td>\n",
       "      <td>...</td>\n",
       "      <td>...</td>\n",
       "      <td>...</td>\n",
       "      <td>...</td>\n",
       "      <td>...</td>\n",
       "      <td>...</td>\n",
       "      <td>...</td>\n",
       "      <td>...</td>\n",
       "      <td>...</td>\n",
       "      <td>...</td>\n",
       "      <td>...</td>\n",
       "      <td>...</td>\n",
       "      <td>...</td>\n",
       "      <td>...</td>\n",
       "      <td>...</td>\n",
       "      <td>...</td>\n",
       "    </tr>\n",
       "    <tr>\n",
       "      <th>12354</th>\n",
       "      <td>0.028879</td>\n",
       "      <td>0.990799</td>\n",
       "      <td>0.990832</td>\n",
       "      <td>-0.597444</td>\n",
       "      <td>-1.723329</td>\n",
       "      <td>-1.908361</td>\n",
       "      <td>-2.402730</td>\n",
       "      <td>-2.741891</td>\n",
       "      <td>-3.674033</td>\n",
       "      <td>-2.639708</td>\n",
       "      <td>...</td>\n",
       "      <td>0</td>\n",
       "      <td>0</td>\n",
       "      <td>0</td>\n",
       "      <td>0</td>\n",
       "      <td>0</td>\n",
       "      <td>0</td>\n",
       "      <td>0</td>\n",
       "      <td>1</td>\n",
       "      <td>0</td>\n",
       "      <td>0</td>\n",
       "    </tr>\n",
       "    <tr>\n",
       "      <th>12355</th>\n",
       "      <td>0.875382</td>\n",
       "      <td>0.686351</td>\n",
       "      <td>0.686383</td>\n",
       "      <td>-0.465015</td>\n",
       "      <td>0.541759</td>\n",
       "      <td>-1.424135</td>\n",
       "      <td>-1.820679</td>\n",
       "      <td>-0.815050</td>\n",
       "      <td>-1.194043</td>\n",
       "      <td>-1.569969</td>\n",
       "      <td>...</td>\n",
       "      <td>0</td>\n",
       "      <td>0</td>\n",
       "      <td>0</td>\n",
       "      <td>0</td>\n",
       "      <td>0</td>\n",
       "      <td>0</td>\n",
       "      <td>0</td>\n",
       "      <td>1</td>\n",
       "      <td>0</td>\n",
       "      <td>0</td>\n",
       "    </tr>\n",
       "    <tr>\n",
       "      <th>12356</th>\n",
       "      <td>1.634093</td>\n",
       "      <td>-0.614272</td>\n",
       "      <td>-0.614240</td>\n",
       "      <td>-0.332587</td>\n",
       "      <td>-0.590785</td>\n",
       "      <td>0.028543</td>\n",
       "      <td>0.216497</td>\n",
       "      <td>0.469511</td>\n",
       "      <td>0.459283</td>\n",
       "      <td>0.248587</td>\n",
       "      <td>...</td>\n",
       "      <td>0</td>\n",
       "      <td>0</td>\n",
       "      <td>0</td>\n",
       "      <td>0</td>\n",
       "      <td>0</td>\n",
       "      <td>0</td>\n",
       "      <td>0</td>\n",
       "      <td>1</td>\n",
       "      <td>0</td>\n",
       "      <td>0</td>\n",
       "    </tr>\n",
       "    <tr>\n",
       "      <th>12357</th>\n",
       "      <td>-0.310609</td>\n",
       "      <td>-0.267290</td>\n",
       "      <td>-0.267258</td>\n",
       "      <td>-0.597444</td>\n",
       "      <td>-1.723329</td>\n",
       "      <td>0.996994</td>\n",
       "      <td>0.507522</td>\n",
       "      <td>0.469511</td>\n",
       "      <td>0.045952</td>\n",
       "      <td>0.783457</td>\n",
       "      <td>...</td>\n",
       "      <td>0</td>\n",
       "      <td>0</td>\n",
       "      <td>0</td>\n",
       "      <td>0</td>\n",
       "      <td>0</td>\n",
       "      <td>0</td>\n",
       "      <td>0</td>\n",
       "      <td>1</td>\n",
       "      <td>0</td>\n",
       "      <td>0</td>\n",
       "    </tr>\n",
       "    <tr>\n",
       "      <th>12358</th>\n",
       "      <td>-0.265908</td>\n",
       "      <td>1.919816</td>\n",
       "      <td>1.919848</td>\n",
       "      <td>-0.465015</td>\n",
       "      <td>0.994776</td>\n",
       "      <td>-0.455683</td>\n",
       "      <td>-0.365553</td>\n",
       "      <td>-0.172770</td>\n",
       "      <td>0.459283</td>\n",
       "      <td>-0.393256</td>\n",
       "      <td>...</td>\n",
       "      <td>0</td>\n",
       "      <td>1</td>\n",
       "      <td>0</td>\n",
       "      <td>0</td>\n",
       "      <td>0</td>\n",
       "      <td>0</td>\n",
       "      <td>0</td>\n",
       "      <td>1</td>\n",
       "      <td>0</td>\n",
       "      <td>0</td>\n",
       "    </tr>\n",
       "  </tbody>\n",
       "</table>\n",
       "<p>12359 rows × 76 columns</p>\n",
       "</div>"
      ],
      "text/plain": [
       "       Speed_in_Secs  GANYAN_TRANS  GANYAN_TRANS_INT  AG_Percentage  \\\n",
       "0           1.924047     -0.403844         -0.403812      -0.332587   \n",
       "1           2.340855     -0.260575         -0.260542      -0.465015   \n",
       "2           1.535831     -0.518013         -0.517980      -0.200159   \n",
       "3          -1.412029     -0.811269         -0.811236       1.521409   \n",
       "4          -1.440622     -0.576216         -0.576184       0.064698   \n",
       "...              ...           ...               ...            ...   \n",
       "12354       0.028879      0.990799          0.990832      -0.597444   \n",
       "12355       0.875382      0.686351          0.686383      -0.465015   \n",
       "12356       1.634093     -0.614272         -0.614240      -0.332587   \n",
       "12357      -0.310609     -0.267290         -0.267258      -0.597444   \n",
       "12358      -0.265908      1.919816          1.919848      -0.465015   \n",
       "\n",
       "       AG_RANK_AMONG_GROUP  First_Position_Percentage  \\\n",
       "0                 0.768268                   0.028543   \n",
       "1                 0.994776                  -0.939909   \n",
       "2                 0.768268                   0.028543   \n",
       "3                -1.270311                   1.481220   \n",
       "4                 0.088741                   0.028543   \n",
       "...                    ...                        ...   \n",
       "12354            -1.723329                  -1.908361   \n",
       "12355             0.541759                  -1.424135   \n",
       "12356            -0.590785                   0.028543   \n",
       "12357            -1.723329                   0.996994   \n",
       "12358             0.994776                  -0.455683   \n",
       "\n",
       "       Second_Position_Percentage  Third_Position_Percentage  \\\n",
       "0                       -0.074528                  -0.493910   \n",
       "1                       -0.656579                  -0.815050   \n",
       "2                       -0.074528                  -0.493910   \n",
       "3                        1.380598                   1.432931   \n",
       "4                        0.216497                   0.469511   \n",
       "...                           ...                        ...   \n",
       "12354                   -2.402730                  -2.741891   \n",
       "12355                   -1.820679                  -0.815050   \n",
       "12356                    0.216497                   0.469511   \n",
       "12357                    0.507522                   0.469511   \n",
       "12358                   -0.365553                  -0.172770   \n",
       "\n",
       "       Fourth_Position_Percentage  TOP_THREE_RACER_PERCENTAGE  ...  \\\n",
       "0                        0.045952                   -0.179308  ...   \n",
       "1                       -0.780712                   -0.928125  ...   \n",
       "2                       -0.367380                   -0.179308  ...   \n",
       "3                        1.285947                    1.639248  ...   \n",
       "4                        0.459283                    0.248587  ...   \n",
       "...                           ...                         ...  ...   \n",
       "12354                   -3.674033                   -2.639708  ...   \n",
       "12355                   -1.194043                   -1.569969  ...   \n",
       "12356                    0.459283                    0.248587  ...   \n",
       "12357                    0.045952                    0.783457  ...   \n",
       "12358                    0.459283                   -0.393256  ...   \n",
       "\n",
       "       at_soyu_dk  at_soyu_ka  at_soyu_kd  at_soyu_ke  at_soyu_kg  at_soyu_kk  \\\n",
       "0               0           0           0           0           0           0   \n",
       "1               0           0           0           0           0           0   \n",
       "2               0           0           0           0           0           0   \n",
       "3               0           0           0           0           0           0   \n",
       "4               0           0           0           0           0           0   \n",
       "...           ...         ...         ...         ...         ...         ...   \n",
       "12354           0           0           0           0           0           0   \n",
       "12355           0           0           0           0           0           0   \n",
       "12356           0           0           0           0           0           0   \n",
       "12357           0           0           0           0           0           0   \n",
       "12358           0           1           0           0           0           0   \n",
       "\n",
       "       Mevsim_ilkbahar  Mevsim_kis  Mevsim_sonbahar  Mevsim_yaz  \n",
       "0                    0           0                0           1  \n",
       "1                    0           0                0           1  \n",
       "2                    0           0                0           1  \n",
       "3                    0           0                0           1  \n",
       "4                    0           0                0           1  \n",
       "...                ...         ...              ...         ...  \n",
       "12354                0           1                0           0  \n",
       "12355                0           1                0           0  \n",
       "12356                0           1                0           0  \n",
       "12357                0           1                0           0  \n",
       "12358                0           1                0           0  \n",
       "\n",
       "[12359 rows x 76 columns]"
      ]
     },
     "execution_count": 14,
     "metadata": {},
     "output_type": "execute_result"
    }
   ],
   "source": [
    "X"
   ]
  },
  {
   "cell_type": "code",
   "execution_count": 15,
   "metadata": {},
   "outputs": [],
   "source": [
    "X_train, X_test, y_train, y_test = train_test_split(X, y, \n",
    "                                                    test_size=0.25, \n",
    "                                                    random_state=42)"
   ]
  },
  {
   "cell_type": "code",
   "execution_count": 16,
   "metadata": {},
   "outputs": [],
   "source": [
    "from sklearn.neural_network import MLPClassifier\n",
    "mlp_model = MLPClassifier().fit(X_train, y_train)"
   ]
  },
  {
   "cell_type": "code",
   "execution_count": 17,
   "metadata": {},
   "outputs": [],
   "source": [
    "y_pred = mlp_model.predict(X_test)"
   ]
  },
  {
   "cell_type": "code",
   "execution_count": 18,
   "metadata": {},
   "outputs": [
    {
     "data": {
      "text/plain": [
       "0.16828478964401294"
      ]
     },
     "execution_count": 18,
     "metadata": {},
     "output_type": "execute_result"
    }
   ],
   "source": [
    "accuracy_score(y_test, y_pred)"
   ]
  },
  {
   "cell_type": "code",
   "execution_count": 19,
   "metadata": {},
   "outputs": [
    {
     "data": {
      "text/plain": [
       "0.25481408677623296"
      ]
     },
     "execution_count": 19,
     "metadata": {},
     "output_type": "execute_result"
    }
   ],
   "source": [
    "r2_score(y_test, y_pred)"
   ]
  },
  {
   "cell_type": "code",
   "execution_count": 20,
   "metadata": {},
   "outputs": [
    {
     "name": "stdout",
     "output_type": "stream",
     "text": [
      "              precision    recall  f1-score   support\n",
      "\n",
      "           1       0.44      0.36      0.40        74\n",
      "           2       0.33      0.33      0.33        75\n",
      "           3       0.33      0.32      0.33        93\n",
      "           4       0.19      0.21      0.20        96\n",
      "           5       0.12      0.10      0.11       156\n",
      "           6       0.13      0.11      0.12       242\n",
      "           7       0.16      0.17      0.16       274\n",
      "           8       0.21      0.18      0.20       358\n",
      "           9       0.14      0.14      0.14       341\n",
      "          10       0.14      0.20      0.16       319\n",
      "          11       0.18      0.24      0.20       284\n",
      "          12       0.11      0.09      0.10       247\n",
      "          13       0.12      0.08      0.09       180\n",
      "          14       0.16      0.20      0.18       153\n",
      "          15       0.14      0.09      0.11        96\n",
      "          16       0.18      0.11      0.14        53\n",
      "          17       0.13      0.15      0.14        27\n",
      "          18       0.14      0.14      0.14        14\n",
      "          19       0.00      0.00      0.00         2\n",
      "          20       0.00      0.00      0.00         4\n",
      "          21       0.00      0.00      0.00         2\n",
      "\n",
      "    accuracy                           0.17      3090\n",
      "   macro avg       0.16      0.15      0.15      3090\n",
      "weighted avg       0.17      0.17      0.17      3090\n",
      "\n"
     ]
    }
   ],
   "source": [
    "print(classification_report(y_test, y_pred))"
   ]
  },
  {
   "cell_type": "code",
   "execution_count": 21,
   "metadata": {},
   "outputs": [],
   "source": [
    "df = data.copy()"
   ]
  },
  {
   "cell_type": "code",
   "execution_count": 22,
   "metadata": {},
   "outputs": [],
   "source": [
    "# atların ilk 3 girip girmedikleri kontrol edilip girmişse 1, girmemişse 0 olarak atanıyor.\n",
    "\n",
    "ılk_3=[]\n",
    "for i in df['RANK.1']:    \n",
    "    if 1 <= i <=3 :    \n",
    "        ılk_3.append(1)    \n",
    "    else:     \n",
    "        ılk_3.append(0)\n",
    "        \n",
    "df['winner_3'] = ılk_3"
   ]
  },
  {
   "cell_type": "code",
   "execution_count": 23,
   "metadata": {},
   "outputs": [],
   "source": [
    "# atların ilk 5 girip girmedikleri kontrol edilip girmişse 1, girmemişse 0 olarak atanıyor.\n",
    "\n",
    "ılk_5=[]\n",
    "for i in df['RANK.1']:     \n",
    "    if 1 <= i <=5 :    \n",
    "        ılk_5.append(1)    \n",
    "    else:     \n",
    "        ılk_5.append(0)\n",
    "    \n",
    "df['winner_5'] = ılk_5"
   ]
  },
  {
   "cell_type": "code",
   "execution_count": 24,
   "metadata": {},
   "outputs": [],
   "source": [
    "# winner kolonu at yarışı kazandıysa 1, değilse 0 olarak atanmış bilgilerin olduğu kolondur.\n",
    "# burada target değişken winner yapılarak atın kazanıp kazanamadığı üzerine modelleme yapılacak.\n",
    "\n",
    "y_new1 = df[\"Winner\"]\n",
    "X_train, X_test, y_train, y_test = train_test_split(X, y_new1, \n",
    "                                                    test_size=0.25, \n",
    "                                                    random_state=42)"
   ]
  },
  {
   "cell_type": "code",
   "execution_count": 25,
   "metadata": {},
   "outputs": [],
   "source": [
    "mlp_model = MLPClassifier().fit(X_train, y_train)"
   ]
  },
  {
   "cell_type": "code",
   "execution_count": 26,
   "metadata": {},
   "outputs": [],
   "source": [
    "y_pred = mlp_model.predict(X_test)"
   ]
  },
  {
   "cell_type": "code",
   "execution_count": 27,
   "metadata": {},
   "outputs": [
    {
     "data": {
      "text/plain": [
       "0.9773462783171522"
      ]
     },
     "execution_count": 27,
     "metadata": {},
     "output_type": "execute_result"
    }
   ],
   "source": [
    "accuracy_score(y_test, y_pred)"
   ]
  },
  {
   "cell_type": "code",
   "execution_count": 28,
   "metadata": {},
   "outputs": [
    {
     "data": {
      "text/plain": [
       "array([[2999,   17],\n",
       "       [  53,   21]])"
      ]
     },
     "execution_count": 28,
     "metadata": {},
     "output_type": "execute_result"
    }
   ],
   "source": [
    "confusion_matrix(y_test, y_pred)"
   ]
  },
  {
   "cell_type": "code",
   "execution_count": 29,
   "metadata": {},
   "outputs": [
    {
     "name": "stdout",
     "output_type": "stream",
     "text": [
      "              precision    recall  f1-score   support\n",
      "\n",
      "           0       0.98      0.99      0.99      3016\n",
      "           1       0.55      0.28      0.38        74\n",
      "\n",
      "    accuracy                           0.98      3090\n",
      "   macro avg       0.77      0.64      0.68      3090\n",
      "weighted avg       0.97      0.98      0.97      3090\n",
      "\n"
     ]
    }
   ],
   "source": [
    "print(classification_report(y_test, y_pred))"
   ]
  },
  {
   "cell_type": "markdown",
   "metadata": {},
   "source": [
    "## Model Tuning"
   ]
  },
  {
   "cell_type": "code",
   "execution_count": 31,
   "metadata": {},
   "outputs": [],
   "source": [
    "mlp_param = {\"alpha\": [0.1,0.01,0.02,0.3,0.4,0.5],\n",
    "             \"activation\": [\"relu\",\"logistic\"],\n",
    "            \"hidden_layer_sizes\":[(5,5), (6,6), (7,7), (8,8)]}"
   ]
  },
  {
   "cell_type": "code",
   "execution_count": 32,
   "metadata": {},
   "outputs": [
    {
     "name": "stdout",
     "output_type": "stream",
     "text": [
      "Fitting 10 folds for each of 48 candidates, totalling 480 fits\n"
     ]
    },
    {
     "name": "stderr",
     "output_type": "stream",
     "text": [
      "[Parallel(n_jobs=-1)]: Using backend LokyBackend with 4 concurrent workers.\n",
      "[Parallel(n_jobs=-1)]: Done  33 tasks      | elapsed:  2.5min\n",
      "[Parallel(n_jobs=-1)]: Done 154 tasks      | elapsed: 10.6min\n",
      "[Parallel(n_jobs=-1)]: Done 357 tasks      | elapsed: 21.8min\n",
      "[Parallel(n_jobs=-1)]: Done 480 out of 480 | elapsed: 27.4min finished\n"
     ]
    },
    {
     "data": {
      "text/plain": [
       "GridSearchCV(cv=10, estimator=MLPClassifier(), n_jobs=-1,\n",
       "             param_grid={'activation': ['relu', 'logistic'],\n",
       "                         'alpha': [0.1, 0.01, 0.02, 0.3, 0.4, 0.5],\n",
       "                         'hidden_layer_sizes': [(5, 5), (6, 6), (7, 7),\n",
       "                                                (8, 8)]},\n",
       "             verbose=2)"
      ]
     },
     "execution_count": 32,
     "metadata": {},
     "output_type": "execute_result"
    }
   ],
   "source": [
    "mlp_cv_model = GridSearchCV(mlp_model, mlp_param, cv=10, n_jobs=-1, verbose=2)\n",
    "mlp_cv_model.fit(X_train, y_train)"
   ]
  },
  {
   "cell_type": "code",
   "execution_count": 34,
   "metadata": {},
   "outputs": [
    {
     "data": {
      "text/plain": [
       "{'activation': 'relu', 'alpha': 0.5, 'hidden_layer_sizes': (5, 5)}"
      ]
     },
     "execution_count": 34,
     "metadata": {},
     "output_type": "execute_result"
    }
   ],
   "source": [
    "mlp_cv_model.best_params_"
   ]
  },
  {
   "cell_type": "code",
   "execution_count": 36,
   "metadata": {},
   "outputs": [],
   "source": [
    "mlp_tuned = MLPClassifier(activation='relu', alpha=0.5, hidden_layer_sizes=(5,5))"
   ]
  },
  {
   "cell_type": "code",
   "execution_count": 37,
   "metadata": {},
   "outputs": [
    {
     "data": {
      "text/plain": [
       "MLPClassifier(alpha=0.5, hidden_layer_sizes=(5, 5))"
      ]
     },
     "execution_count": 37,
     "metadata": {},
     "output_type": "execute_result"
    }
   ],
   "source": [
    "mlp_tuned.fit(X_train, y_train)"
   ]
  },
  {
   "cell_type": "code",
   "execution_count": 38,
   "metadata": {},
   "outputs": [],
   "source": [
    "y_pred = mlp_tuned.predict(X_test)"
   ]
  },
  {
   "cell_type": "code",
   "execution_count": 39,
   "metadata": {},
   "outputs": [
    {
     "name": "stdout",
     "output_type": "stream",
     "text": [
      "              precision    recall  f1-score   support\n",
      "\n",
      "           0       0.98      1.00      0.99      3016\n",
      "           1       0.72      0.24      0.36        74\n",
      "\n",
      "    accuracy                           0.98      3090\n",
      "   macro avg       0.85      0.62      0.68      3090\n",
      "weighted avg       0.98      0.98      0.97      3090\n",
      "\n"
     ]
    }
   ],
   "source": [
    "print(classification_report(y_test, y_pred))"
   ]
  },
  {
   "cell_type": "code",
   "execution_count": 41,
   "metadata": {},
   "outputs": [],
   "source": [
    "mlp_param2 = {\"hidden_layer_sizes\":[(9,9),(10,10),(11,11),(12,12)]}"
   ]
  },
  {
   "cell_type": "code",
   "execution_count": 42,
   "metadata": {},
   "outputs": [
    {
     "name": "stdout",
     "output_type": "stream",
     "text": [
      "Fitting 10 folds for each of 4 candidates, totalling 40 fits\n"
     ]
    },
    {
     "name": "stderr",
     "output_type": "stream",
     "text": [
      "[Parallel(n_jobs=-1)]: Using backend LokyBackend with 4 concurrent workers.\n",
      "[Parallel(n_jobs=-1)]: Done  33 tasks      | elapsed:  2.6min\n",
      "[Parallel(n_jobs=-1)]: Done  40 out of  40 | elapsed:  3.0min finished\n"
     ]
    },
    {
     "data": {
      "text/plain": [
       "GridSearchCV(cv=10, estimator=MLPClassifier(), n_jobs=-1,\n",
       "             param_grid={'hidden_layer_sizes': [(9, 9), (10, 10), (11, 11),\n",
       "                                                (12, 12)]},\n",
       "             verbose=2)"
      ]
     },
     "execution_count": 42,
     "metadata": {},
     "output_type": "execute_result"
    }
   ],
   "source": [
    "mlp_cv_model2 = GridSearchCV(mlp_model, mlp_param2, cv=10, n_jobs=-1, verbose=2)\n",
    "mlp_cv_model2.fit(X_train, y_train)"
   ]
  },
  {
   "cell_type": "code",
   "execution_count": 43,
   "metadata": {},
   "outputs": [
    {
     "data": {
      "text/plain": [
       "{'hidden_layer_sizes': (9, 9)}"
      ]
     },
     "execution_count": 43,
     "metadata": {},
     "output_type": "execute_result"
    }
   ],
   "source": [
    "mlp_cv_model2.best_params_"
   ]
  },
  {
   "cell_type": "code",
   "execution_count": 60,
   "metadata": {},
   "outputs": [],
   "source": [
    "mlp_tuned = MLPClassifier(alpha=0.01, hidden_layer_sizes=(9,9))"
   ]
  },
  {
   "cell_type": "code",
   "execution_count": 61,
   "metadata": {},
   "outputs": [
    {
     "data": {
      "text/plain": [
       "MLPClassifier(alpha=0.01, hidden_layer_sizes=(9, 9))"
      ]
     },
     "execution_count": 61,
     "metadata": {},
     "output_type": "execute_result"
    }
   ],
   "source": [
    "mlp_tuned.fit(X_train, y_train)"
   ]
  },
  {
   "cell_type": "code",
   "execution_count": 62,
   "metadata": {},
   "outputs": [],
   "source": [
    "y_pred = mlp_tuned.predict(X_test)"
   ]
  },
  {
   "cell_type": "code",
   "execution_count": 63,
   "metadata": {},
   "outputs": [
    {
     "name": "stdout",
     "output_type": "stream",
     "text": [
      "              precision    recall  f1-score   support\n",
      "\n",
      "           0       0.98      0.99      0.99      3016\n",
      "           1       0.38      0.28      0.32        74\n",
      "\n",
      "    accuracy                           0.97      3090\n",
      "   macro avg       0.68      0.64      0.65      3090\n",
      "weighted avg       0.97      0.97      0.97      3090\n",
      "\n"
     ]
    }
   ],
   "source": [
    "print(classification_report(y_test, y_pred))"
   ]
  },
  {
   "cell_type": "code",
   "execution_count": 65,
   "metadata": {},
   "outputs": [],
   "source": [
    "mlp_param = {\"alpha\": [0.1,0.01,0.02,0.3,0.4,0.5],\n",
    "             \"activation\": [\"relu\",\"logistic\"],\n",
    "            \"hidden_layer_sizes\":[(13,13), (14,14), (15,15), (5,5,5)]}"
   ]
  },
  {
   "cell_type": "code",
   "execution_count": 66,
   "metadata": {},
   "outputs": [
    {
     "name": "stdout",
     "output_type": "stream",
     "text": [
      "Fitting 10 folds for each of 48 candidates, totalling 480 fits\n"
     ]
    },
    {
     "name": "stderr",
     "output_type": "stream",
     "text": [
      "[Parallel(n_jobs=-1)]: Using backend LokyBackend with 4 concurrent workers.\n",
      "[Parallel(n_jobs=-1)]: Done  33 tasks      | elapsed:  2.7min\n",
      "[Parallel(n_jobs=-1)]: Done 154 tasks      | elapsed: 12.2min\n",
      "[Parallel(n_jobs=-1)]: Done 357 tasks      | elapsed: 26.9min\n",
      "[Parallel(n_jobs=-1)]: Done 480 out of 480 | elapsed: 32.6min finished\n"
     ]
    },
    {
     "data": {
      "text/plain": [
       "GridSearchCV(cv=10, estimator=MLPClassifier(), n_jobs=-1,\n",
       "             param_grid={'activation': ['relu', 'logistic'],\n",
       "                         'alpha': [0.1, 0.01, 0.02, 0.3, 0.4, 0.5],\n",
       "                         'hidden_layer_sizes': [(13, 13), (14, 14), (15, 15),\n",
       "                                                (5, 5, 5)]},\n",
       "             verbose=2)"
      ]
     },
     "execution_count": 66,
     "metadata": {},
     "output_type": "execute_result"
    }
   ],
   "source": [
    "mlp_cv_model3 = GridSearchCV(mlp_model, mlp_param, cv=10, n_jobs=-1, verbose=2)\n",
    "mlp_cv_model3.fit(X_train, y_train)"
   ]
  },
  {
   "cell_type": "code",
   "execution_count": 67,
   "metadata": {},
   "outputs": [
    {
     "data": {
      "text/plain": [
       "{'activation': 'logistic', 'alpha': 0.1, 'hidden_layer_sizes': (15, 15)}"
      ]
     },
     "execution_count": 67,
     "metadata": {},
     "output_type": "execute_result"
    }
   ],
   "source": [
    "mlp_cv_model3.best_params_"
   ]
  },
  {
   "cell_type": "code",
   "execution_count": 68,
   "metadata": {},
   "outputs": [
    {
     "name": "stdout",
     "output_type": "stream",
     "text": [
      "              precision    recall  f1-score   support\n",
      "\n",
      "           0       0.98      0.99      0.99      3016\n",
      "           1       0.49      0.26      0.34        74\n",
      "\n",
      "    accuracy                           0.98      3090\n",
      "   macro avg       0.73      0.63      0.66      3090\n",
      "weighted avg       0.97      0.98      0.97      3090\n",
      "\n"
     ]
    }
   ],
   "source": [
    "mlp_tuned = MLPClassifier(activation='logistic', alpha=0.01, hidden_layer_sizes=(15,15))\n",
    "mlp_tuned.fit(X_train, y_train)\n",
    "y_pred = mlp_tuned.predict(X_test)\n",
    "print(classification_report(y_test, y_pred))"
   ]
  },
  {
   "cell_type": "code",
   "execution_count": 69,
   "metadata": {},
   "outputs": [],
   "source": [
    "mlp_param = {\"alpha\": [0.1,0.01,0.02,0.3,0.4,0.5],\n",
    "             \"activation\": [\"relu\",\"logistic\"],\n",
    "            \"hidden_layer_sizes\":[(6,6,6), (7,7,7), (8,8,8), (9,9,9)]}"
   ]
  },
  {
   "cell_type": "code",
   "execution_count": 70,
   "metadata": {},
   "outputs": [
    {
     "name": "stdout",
     "output_type": "stream",
     "text": [
      "Fitting 10 folds for each of 48 candidates, totalling 480 fits\n"
     ]
    },
    {
     "name": "stderr",
     "output_type": "stream",
     "text": [
      "[Parallel(n_jobs=-1)]: Using backend LokyBackend with 4 concurrent workers.\n",
      "[Parallel(n_jobs=-1)]: Done  33 tasks      | elapsed:  3.4min\n",
      "[Parallel(n_jobs=-1)]: Done 154 tasks      | elapsed: 13.3min\n",
      "[Parallel(n_jobs=-1)]: Done 357 tasks      | elapsed: 27.8min\n",
      "[Parallel(n_jobs=-1)]: Done 480 out of 480 | elapsed: 31.0min finished\n"
     ]
    },
    {
     "data": {
      "text/plain": [
       "GridSearchCV(cv=10, estimator=MLPClassifier(), n_jobs=-1,\n",
       "             param_grid={'activation': ['relu', 'logistic'],\n",
       "                         'alpha': [0.1, 0.01, 0.02, 0.3, 0.4, 0.5],\n",
       "                         'hidden_layer_sizes': [(6, 6, 6), (7, 7, 7), (8, 8, 8),\n",
       "                                                (9, 9, 9)]},\n",
       "             verbose=2)"
      ]
     },
     "execution_count": 70,
     "metadata": {},
     "output_type": "execute_result"
    }
   ],
   "source": [
    "mlp_cv_model4 = GridSearchCV(mlp_model, mlp_param, cv=10, n_jobs=-1, verbose=2)\n",
    "mlp_cv_model4.fit(X_train, y_train)"
   ]
  },
  {
   "cell_type": "code",
   "execution_count": 71,
   "metadata": {},
   "outputs": [
    {
     "data": {
      "text/plain": [
       "{'activation': 'logistic', 'alpha': 0.01, 'hidden_layer_sizes': (7, 7, 7)}"
      ]
     },
     "execution_count": 71,
     "metadata": {},
     "output_type": "execute_result"
    }
   ],
   "source": [
    "mlp_cv_model4.best_params_"
   ]
  },
  {
   "cell_type": "code",
   "execution_count": 75,
   "metadata": {},
   "outputs": [
    {
     "name": "stdout",
     "output_type": "stream",
     "text": [
      "              precision    recall  f1-score   support\n",
      "\n",
      "           0       0.98      0.99      0.99      3016\n",
      "           1       0.54      0.30      0.38        74\n",
      "\n",
      "    accuracy                           0.98      3090\n",
      "   macro avg       0.76      0.65      0.69      3090\n",
      "weighted avg       0.97      0.98      0.97      3090\n",
      "\n"
     ]
    }
   ],
   "source": [
    "mlp_tuned = MLPClassifier(activation='logistic', alpha=0.01, hidden_layer_sizes=(7,7,7))\n",
    "mlp_tuned.fit(X_train, y_train)\n",
    "y_pred = mlp_tuned.predict(X_test)\n",
    "print(classification_report(y_test, y_pred))"
   ]
  },
  {
   "cell_type": "markdown",
   "metadata": {},
   "source": [
    "# feature importance first 10"
   ]
  },
  {
   "cell_type": "code",
   "execution_count": 40,
   "metadata": {},
   "outputs": [],
   "source": [
    "# burada diğer yapılan modellerden elde edilen en önemli 10 özellik üzerine modelleme yapılıyor.\n",
    "\n",
    "features = ['BIRINCILIK_PERCENTAGE', 'GANYAN_TRANS', 'AG_Percentage',\n",
    "       'RANK_LATEST_2ND', 'SPEED_LATEST_1ST', 'TOPLAM_1ST', 'Speed_in_Secs',\n",
    "       'SPEED_LATEST_4th', 'SPEED_LATEST_2nd', 'TOPLAM_RACES']"
   ]
  },
  {
   "cell_type": "code",
   "execution_count": 41,
   "metadata": {},
   "outputs": [],
   "source": [
    "y_feature = df[\"Winner\"]\n",
    "X_feature = df[features]"
   ]
  },
  {
   "cell_type": "code",
   "execution_count": 42,
   "metadata": {},
   "outputs": [],
   "source": [
    "X_train, X_test, y_train, y_test = train_test_split(X_feature, y_feature, \n",
    "                                                    test_size=0.30, \n",
    "                                                    random_state=42)"
   ]
  },
  {
   "cell_type": "code",
   "execution_count": 43,
   "metadata": {},
   "outputs": [],
   "source": [
    "mlp_features = MLPClassifier().fit(X_train, y_train)"
   ]
  },
  {
   "cell_type": "code",
   "execution_count": 44,
   "metadata": {},
   "outputs": [],
   "source": [
    "y_pred = mlp_features.predict(X_test)"
   ]
  },
  {
   "cell_type": "code",
   "execution_count": 45,
   "metadata": {},
   "outputs": [
    {
     "name": "stdout",
     "output_type": "stream",
     "text": [
      "              precision    recall  f1-score   support\n",
      "\n",
      "           0       0.98      1.00      0.99      3608\n",
      "           1       0.73      0.27      0.39       100\n",
      "\n",
      "    accuracy                           0.98      3708\n",
      "   macro avg       0.85      0.63      0.69      3708\n",
      "weighted avg       0.97      0.98      0.97      3708\n",
      "\n"
     ]
    }
   ],
   "source": [
    "print(classification_report(y_test, y_pred))"
   ]
  },
  {
   "cell_type": "code",
   "execution_count": 46,
   "metadata": {},
   "outputs": [
    {
     "name": "stdout",
     "output_type": "stream",
     "text": [
      "              precision    recall  f1-score   support\n",
      "\n",
      "           0       0.98      1.00      0.99      3608\n",
      "           1       0.74      0.29      0.42       100\n",
      "\n",
      "    accuracy                           0.98      3708\n",
      "   macro avg       0.86      0.64      0.70      3708\n",
      "weighted avg       0.97      0.98      0.97      3708\n",
      "\n"
     ]
    }
   ],
   "source": [
    "mlp_tuned = MLPClassifier(hidden_layer_sizes=(25,25,25))\n",
    "mlp_tuned.fit(X_train, y_train)\n",
    "y_pred = mlp_tuned.predict(X_test)\n",
    "print(classification_report(y_test, y_pred))"
   ]
  },
  {
   "cell_type": "code",
   "execution_count": 85,
   "metadata": {},
   "outputs": [],
   "source": [
    "mlp_param = {\"alpha\": [0.1,0.01,0.02,0.3,0.4,0.5],\n",
    "             \"activation\": [\"relu\",\"logistic\"],\n",
    "            \"hidden_layer_sizes\":[(5,5), (6,6), (7,7), (8,8), (9,9), (10,10)]}"
   ]
  },
  {
   "cell_type": "code",
   "execution_count": 86,
   "metadata": {},
   "outputs": [
    {
     "name": "stdout",
     "output_type": "stream",
     "text": [
      "Fitting 10 folds for each of 72 candidates, totalling 720 fits\n"
     ]
    },
    {
     "name": "stderr",
     "output_type": "stream",
     "text": [
      "[Parallel(n_jobs=-1)]: Using backend LokyBackend with 4 concurrent workers.\n",
      "[Parallel(n_jobs=-1)]: Done  33 tasks      | elapsed:   56.3s\n",
      "[Parallel(n_jobs=-1)]: Done 154 tasks      | elapsed:  4.0min\n",
      "[Parallel(n_jobs=-1)]: Done 357 tasks      | elapsed: 11.2min\n",
      "[Parallel(n_jobs=-1)]: Done 640 tasks      | elapsed: 21.6min\n",
      "[Parallel(n_jobs=-1)]: Done 720 out of 720 | elapsed: 24.0min finished\n"
     ]
    },
    {
     "data": {
      "text/plain": [
       "GridSearchCV(cv=10, estimator=MLPClassifier(hidden_layer_sizes=(25, 25, 25)),\n",
       "             n_jobs=-1,\n",
       "             param_grid={'activation': ['relu', 'logistic'],\n",
       "                         'alpha': [0.1, 0.01, 0.02, 0.3, 0.4, 0.5],\n",
       "                         'hidden_layer_sizes': [(5, 5), (6, 6), (7, 7), (8, 8),\n",
       "                                                (9, 9), (10, 10)]},\n",
       "             verbose=2)"
      ]
     },
     "execution_count": 86,
     "metadata": {},
     "output_type": "execute_result"
    }
   ],
   "source": [
    "mlp_cv_model = GridSearchCV(mlp_tuned, mlp_param, cv=10, n_jobs=-1, verbose=2)\n",
    "mlp_cv_model.fit(X_train, y_train)"
   ]
  },
  {
   "cell_type": "code",
   "execution_count": 87,
   "metadata": {},
   "outputs": [
    {
     "data": {
      "text/plain": [
       "{'activation': 'logistic', 'alpha': 0.02, 'hidden_layer_sizes': (10, 10)}"
      ]
     },
     "execution_count": 87,
     "metadata": {},
     "output_type": "execute_result"
    }
   ],
   "source": [
    "mlp_cv_model.best_params_"
   ]
  },
  {
   "cell_type": "code",
   "execution_count": 47,
   "metadata": {},
   "outputs": [
    {
     "name": "stdout",
     "output_type": "stream",
     "text": [
      "              precision    recall  f1-score   support\n",
      "\n",
      "           0       0.98      1.00      0.99      3608\n",
      "           1       0.71      0.20      0.31       100\n",
      "\n",
      "    accuracy                           0.98      3708\n",
      "   macro avg       0.85      0.60      0.65      3708\n",
      "weighted avg       0.97      0.98      0.97      3708\n",
      "\n"
     ]
    }
   ],
   "source": [
    "mlp_tuned = MLPClassifier(activation='logistic', alpha=0.02, hidden_layer_sizes=(10,10))\n",
    "mlp_tuned.fit(X_train, y_train)\n",
    "y_pred = mlp_tuned.predict(X_test)\n",
    "print(classification_report(y_test, y_pred))"
   ]
  },
  {
   "cell_type": "code",
   "execution_count": 36,
   "metadata": {},
   "outputs": [],
   "source": [
    "mlp_param2 = {\"alpha\": [0.1,0.01,0.02,0.3,0.4,0.5],\n",
    "             \"activation\": [\"relu\",\"logistic\"],\n",
    "            \"hidden_layer_sizes\":[(11,11), (12,12), (13,13), (14,14), (15,15)]}"
   ]
  },
  {
   "cell_type": "code",
   "execution_count": 37,
   "metadata": {},
   "outputs": [
    {
     "name": "stdout",
     "output_type": "stream",
     "text": [
      "Fitting 10 folds for each of 60 candidates, totalling 600 fits\n"
     ]
    },
    {
     "name": "stderr",
     "output_type": "stream",
     "text": [
      "[Parallel(n_jobs=-1)]: Using backend LokyBackend with 4 concurrent workers.\n",
      "[Parallel(n_jobs=-1)]: Done  33 tasks      | elapsed:   55.6s\n",
      "[Parallel(n_jobs=-1)]: Done 154 tasks      | elapsed:  4.0min\n",
      "[Parallel(n_jobs=-1)]: Done 357 tasks      | elapsed: 11.7min\n",
      "[Parallel(n_jobs=-1)]: Done 600 out of 600 | elapsed: 21.1min finished\n"
     ]
    },
    {
     "data": {
      "text/plain": [
       "GridSearchCV(cv=10, estimator=MLPClassifier(), n_jobs=-1,\n",
       "             param_grid={'activation': ['relu', 'logistic'],\n",
       "                         'alpha': [0.1, 0.01, 0.02, 0.3, 0.4, 0.5],\n",
       "                         'hidden_layer_sizes': [(11, 11), (12, 12), (13, 13),\n",
       "                                                (14, 14), (15, 15)]},\n",
       "             verbose=2)"
      ]
     },
     "execution_count": 37,
     "metadata": {},
     "output_type": "execute_result"
    }
   ],
   "source": [
    "mlp_cv_model = GridSearchCV(mlp_model, mlp_param2, cv=10, n_jobs=-1, verbose=2)\n",
    "mlp_cv_model.fit(X_train, y_train)"
   ]
  },
  {
   "cell_type": "code",
   "execution_count": 38,
   "metadata": {},
   "outputs": [
    {
     "data": {
      "text/plain": [
       "{'activation': 'relu', 'alpha': 0.1, 'hidden_layer_sizes': (15, 15)}"
      ]
     },
     "execution_count": 38,
     "metadata": {},
     "output_type": "execute_result"
    }
   ],
   "source": [
    "mlp_cv_model.best_params_"
   ]
  },
  {
   "cell_type": "code",
   "execution_count": 48,
   "metadata": {},
   "outputs": [
    {
     "name": "stdout",
     "output_type": "stream",
     "text": [
      "              precision    recall  f1-score   support\n",
      "\n",
      "           0       0.98      1.00      0.99      3608\n",
      "           1       0.73      0.24      0.36       100\n",
      "\n",
      "    accuracy                           0.98      3708\n",
      "   macro avg       0.85      0.62      0.67      3708\n",
      "weighted avg       0.97      0.98      0.97      3708\n",
      "\n"
     ]
    }
   ],
   "source": [
    "mlp_tuned = MLPClassifier(activation='relu', alpha=0.1, hidden_layer_sizes=(15,15))\n",
    "mlp_tuned.fit(X_train, y_train)\n",
    "y_pred = mlp_tuned.predict(X_test)\n",
    "print(classification_report(y_test, y_pred))"
   ]
  },
  {
   "cell_type": "code",
   "execution_count": 53,
   "metadata": {},
   "outputs": [],
   "source": [
    "# burada boosting modellemesinden gelen en önemli 10 özellik üzerine modelleme yapılıyor.\n",
    "\n",
    "features_from_boosting=[\"GANYAN_TRANS\",\n",
    "                            \"SPEED_LATEST_1ST\",                         \n",
    "                            \"RANK_LATEST_2ND\",                          \n",
    "                            \"IKINCILIK_PERCENTAGE\",                      \n",
    "                            \"UCUNCULUK_PERCENTAGE\",                      \n",
    "                            \"BIRINCILIK_PERCENTAGE\",                     \n",
    "                            \"AG_RANK_AMONG_GROUP\",                       \n",
    "                            \"AG_Percentage\",                             \n",
    "                            \"SPEED_LATEST_2nd\",                          \n",
    "                            \"LAST_RACER_SAME_AS_CURRENT_RACER_BINARY\"]"
   ]
  },
  {
   "cell_type": "code",
   "execution_count": 54,
   "metadata": {},
   "outputs": [],
   "source": [
    "# burada X_feature ve y_feature'lar yeniden tanımlanıyor.\n",
    "\n",
    "y_feature = df[\"Winner\"]\n",
    "X_feature = df[features_from_boosting]"
   ]
  },
  {
   "cell_type": "code",
   "execution_count": 55,
   "metadata": {},
   "outputs": [],
   "source": [
    "X_train, X_test, y_train, y_test = train_test_split(X_feature, y_feature, \n",
    "                                                    test_size=0.30, \n",
    "                                                    random_state=42)"
   ]
  },
  {
   "cell_type": "code",
   "execution_count": 56,
   "metadata": {},
   "outputs": [],
   "source": [
    "mlp_features = MLPClassifier().fit(X_train, y_train)"
   ]
  },
  {
   "cell_type": "code",
   "execution_count": 57,
   "metadata": {},
   "outputs": [],
   "source": [
    "y_pred = mlp_features.predict(X_test)"
   ]
  },
  {
   "cell_type": "code",
   "execution_count": 58,
   "metadata": {},
   "outputs": [
    {
     "name": "stdout",
     "output_type": "stream",
     "text": [
      "              precision    recall  f1-score   support\n",
      "\n",
      "           0       0.98      0.99      0.99      3608\n",
      "           1       0.54      0.39      0.45       100\n",
      "\n",
      "    accuracy                           0.97      3708\n",
      "   macro avg       0.76      0.69      0.72      3708\n",
      "weighted avg       0.97      0.97      0.97      3708\n",
      "\n"
     ]
    }
   ],
   "source": [
    "print(classification_report(y_test, y_pred))"
   ]
  },
  {
   "cell_type": "code",
   "execution_count": 59,
   "metadata": {},
   "outputs": [],
   "source": [
    "mlp_param = {\"alpha\": [0.1,0.01,0.02,0.3,0.4,0.5],\n",
    "            \"hidden_layer_sizes\":[(5,5,5), (6,6,6), (7,7,7), (8,8,8), (9,9,9), (10,10,10)]}"
   ]
  },
  {
   "cell_type": "code",
   "execution_count": 60,
   "metadata": {},
   "outputs": [
    {
     "name": "stdout",
     "output_type": "stream",
     "text": [
      "Fitting 10 folds for each of 36 candidates, totalling 360 fits\n"
     ]
    },
    {
     "name": "stderr",
     "output_type": "stream",
     "text": [
      "[Parallel(n_jobs=-1)]: Using backend LokyBackend with 4 concurrent workers.\n",
      "[Parallel(n_jobs=-1)]: Done  33 tasks      | elapsed:  2.0min\n",
      "[Parallel(n_jobs=-1)]: Done 154 tasks      | elapsed:  8.2min\n",
      "[Parallel(n_jobs=-1)]: Done 360 out of 360 | elapsed: 21.0min finished\n"
     ]
    },
    {
     "data": {
      "text/plain": [
       "GridSearchCV(cv=10, estimator=MLPClassifier(), n_jobs=-1,\n",
       "             param_grid={'alpha': [0.1, 0.01, 0.02, 0.3, 0.4, 0.5],\n",
       "                         'hidden_layer_sizes': [(5, 5, 5), (6, 6, 6), (7, 7, 7),\n",
       "                                                (8, 8, 8), (9, 9, 9),\n",
       "                                                (10, 10, 10)]},\n",
       "             verbose=2)"
      ]
     },
     "execution_count": 60,
     "metadata": {},
     "output_type": "execute_result"
    }
   ],
   "source": [
    "mlp_cv_model = GridSearchCV(mlp_features, mlp_param, cv=10, n_jobs=-1, verbose=2)\n",
    "mlp_cv_model.fit(X_train, y_train)"
   ]
  },
  {
   "cell_type": "code",
   "execution_count": 61,
   "metadata": {},
   "outputs": [
    {
     "data": {
      "text/plain": [
       "{'alpha': 0.01, 'hidden_layer_sizes': (10, 10, 10)}"
      ]
     },
     "execution_count": 61,
     "metadata": {},
     "output_type": "execute_result"
    }
   ],
   "source": [
    "mlp_cv_model.best_params_"
   ]
  },
  {
   "cell_type": "code",
   "execution_count": 73,
   "metadata": {},
   "outputs": [
    {
     "name": "stdout",
     "output_type": "stream",
     "text": [
      "              precision    recall  f1-score   support\n",
      "\n",
      "           0       0.98      0.99      0.99      3608\n",
      "           1       0.64      0.34      0.44       100\n",
      "\n",
      "    accuracy                           0.98      3708\n",
      "   macro avg       0.81      0.67      0.72      3708\n",
      "weighted avg       0.97      0.98      0.97      3708\n",
      "\n"
     ]
    }
   ],
   "source": [
    "mlp_tuned = MLPClassifier(alpha=0.0001, hidden_layer_sizes=(30,20,10))\n",
    "mlp_tuned.fit(X_train, y_train)\n",
    "y_pred = mlp_tuned.predict(X_test)\n",
    "print(classification_report(y_test, y_pred))"
   ]
  },
  {
   "cell_type": "code",
   "execution_count": 74,
   "metadata": {},
   "outputs": [],
   "source": [
    "mlp_param = {\"alpha\": [0.1,0.01,0.02,0.3,0.4,0.5],\n",
    "            \"hidden_layer_sizes\":[(11,11,11), (12,12,12), (14,14,14), (15,15,15)]}"
   ]
  },
  {
   "cell_type": "code",
   "execution_count": 75,
   "metadata": {},
   "outputs": [
    {
     "name": "stdout",
     "output_type": "stream",
     "text": [
      "Fitting 10 folds for each of 24 candidates, totalling 240 fits\n"
     ]
    },
    {
     "name": "stderr",
     "output_type": "stream",
     "text": [
      "[Parallel(n_jobs=-1)]: Using backend LokyBackend with 4 concurrent workers.\n",
      "[Parallel(n_jobs=-1)]: Done  33 tasks      | elapsed:  1.8min\n",
      "[Parallel(n_jobs=-1)]: Done 154 tasks      | elapsed:  9.6min\n",
      "[Parallel(n_jobs=-1)]: Done 240 out of 240 | elapsed: 15.8min finished\n"
     ]
    },
    {
     "data": {
      "text/plain": [
       "GridSearchCV(cv=10, estimator=MLPClassifier(hidden_layer_sizes=(30, 20, 10)),\n",
       "             n_jobs=-1,\n",
       "             param_grid={'alpha': [0.1, 0.01, 0.02, 0.3, 0.4, 0.5],\n",
       "                         'hidden_layer_sizes': [(11, 11, 11), (12, 12, 12),\n",
       "                                                (14, 14, 14), (15, 15, 15)]},\n",
       "             verbose=2)"
      ]
     },
     "execution_count": 75,
     "metadata": {},
     "output_type": "execute_result"
    }
   ],
   "source": [
    "mlp_cv_model = GridSearchCV(mlp_tuned, mlp_param, cv=10, n_jobs=-1, verbose=2)\n",
    "mlp_cv_model.fit(X_train, y_train)"
   ]
  },
  {
   "cell_type": "code",
   "execution_count": 76,
   "metadata": {},
   "outputs": [
    {
     "data": {
      "text/plain": [
       "{'alpha': 0.5, 'hidden_layer_sizes': (11, 11, 11)}"
      ]
     },
     "execution_count": 76,
     "metadata": {},
     "output_type": "execute_result"
    }
   ],
   "source": [
    "mlp_cv_model.best_params_"
   ]
  },
  {
   "cell_type": "code",
   "execution_count": 79,
   "metadata": {},
   "outputs": [
    {
     "name": "stdout",
     "output_type": "stream",
     "text": [
      "              precision    recall  f1-score   support\n",
      "\n",
      "           0       0.98      1.00      0.99      3608\n",
      "           1       0.75      0.24      0.36       100\n",
      "\n",
      "    accuracy                           0.98      3708\n",
      "   macro avg       0.86      0.62      0.68      3708\n",
      "weighted avg       0.97      0.98      0.97      3708\n",
      "\n"
     ]
    }
   ],
   "source": [
    "mlp_tuned = MLPClassifier(alpha=0.5, hidden_layer_sizes=(11,11,11))\n",
    "mlp_tuned.fit(X_train, y_train)\n",
    "y_pred = mlp_tuned.predict(X_test)\n",
    "print(classification_report(y_test, y_pred))"
   ]
  },
  {
   "cell_type": "code",
   "execution_count": 86,
   "metadata": {},
   "outputs": [],
   "source": [
    "# burada ilk 3e girip girememe durumu modelleniyor.\n",
    "\n",
    "y_feature = df[\"winner_3\"]\n",
    "X_feature = df[features_from_boosting]"
   ]
  },
  {
   "cell_type": "code",
   "execution_count": 87,
   "metadata": {},
   "outputs": [],
   "source": [
    "X_train, X_test, y_train, y_test = train_test_split(X_feature, y_feature, \n",
    "                                                    test_size=0.30, \n",
    "                                                    random_state=42)"
   ]
  },
  {
   "cell_type": "code",
   "execution_count": 88,
   "metadata": {},
   "outputs": [
    {
     "name": "stdout",
     "output_type": "stream",
     "text": [
      "              precision    recall  f1-score   support\n",
      "\n",
      "           0       0.94      1.00      0.97      3415\n",
      "           1       0.86      0.30      0.45       293\n",
      "\n",
      "    accuracy                           0.94      3708\n",
      "   macro avg       0.90      0.65      0.71      3708\n",
      "weighted avg       0.94      0.94      0.93      3708\n",
      "\n"
     ]
    }
   ],
   "source": [
    "mlp_winner3 = MLPClassifier()\n",
    "mlp_winner3.fit(X_train, y_train)\n",
    "y_pred = mlp_winner3.predict(X_test)\n",
    "print(classification_report(y_test, y_pred))"
   ]
  },
  {
   "cell_type": "markdown",
   "metadata": {},
   "source": [
    "### target değişkenimiz ilk 3 bağımsız değişlenler eğitime girmesi gereken tüm datalar (yani X)"
   ]
  },
  {
   "cell_type": "code",
   "execution_count": 91,
   "metadata": {},
   "outputs": [],
   "source": [
    "X_train, X_test, y_train, y_test = train_test_split(X, y_feature, \n",
    "                                                    test_size=0.30, \n",
    "                                                    random_state=42)"
   ]
  },
  {
   "cell_type": "code",
   "execution_count": 92,
   "metadata": {},
   "outputs": [
    {
     "name": "stdout",
     "output_type": "stream",
     "text": [
      "              precision    recall  f1-score   support\n",
      "\n",
      "           0       0.95      0.97      0.96      3415\n",
      "           1       0.59      0.45      0.51       293\n",
      "\n",
      "    accuracy                           0.93      3708\n",
      "   macro avg       0.77      0.71      0.74      3708\n",
      "weighted avg       0.92      0.93      0.93      3708\n",
      "\n"
     ]
    }
   ],
   "source": [
    "mlp_winner3 = MLPClassifier()\n",
    "mlp_winner3.fit(X_train, y_train)\n",
    "y_pred = mlp_winner3.predict(X_test)\n",
    "print(classification_report(y_test, y_pred))"
   ]
  },
  {
   "cell_type": "code",
   "execution_count": 93,
   "metadata": {},
   "outputs": [],
   "source": [
    "mlp_param = {\"alpha\": [0.1,0.01,0.02,0.3,0.4,0.5],\n",
    "            \"hidden_layer_sizes\":[(5,5,5), (6,6,6), (7,7,7), (8,8,8), (9,9,9), (10,10,10)]}"
   ]
  },
  {
   "cell_type": "code",
   "execution_count": 94,
   "metadata": {},
   "outputs": [
    {
     "name": "stdout",
     "output_type": "stream",
     "text": [
      "Fitting 10 folds for each of 36 candidates, totalling 360 fits\n"
     ]
    },
    {
     "name": "stderr",
     "output_type": "stream",
     "text": [
      "[Parallel(n_jobs=-1)]: Using backend LokyBackend with 4 concurrent workers.\n",
      "[Parallel(n_jobs=-1)]: Done  33 tasks      | elapsed:  2.8min\n",
      "[Parallel(n_jobs=-1)]: Done 154 tasks      | elapsed: 15.0min\n",
      "[Parallel(n_jobs=-1)]: Done 360 out of 360 | elapsed: 39.3min finished\n"
     ]
    },
    {
     "data": {
      "text/plain": [
       "GridSearchCV(cv=10, estimator=MLPClassifier(), n_jobs=-1,\n",
       "             param_grid={'alpha': [0.1, 0.01, 0.02, 0.3, 0.4, 0.5],\n",
       "                         'hidden_layer_sizes': [(5, 5, 5), (6, 6, 6), (7, 7, 7),\n",
       "                                                (8, 8, 8), (9, 9, 9),\n",
       "                                                (10, 10, 10)]},\n",
       "             verbose=2)"
      ]
     },
     "execution_count": 94,
     "metadata": {},
     "output_type": "execute_result"
    }
   ],
   "source": [
    "mlp_cv_model = GridSearchCV(mlp_winner3, mlp_param, cv=10, n_jobs=-1, verbose=2)\n",
    "mlp_cv_model.fit(X_train, y_train)"
   ]
  },
  {
   "cell_type": "code",
   "execution_count": 95,
   "metadata": {},
   "outputs": [
    {
     "data": {
      "text/plain": [
       "{'alpha': 0.4, 'hidden_layer_sizes': (5, 5, 5)}"
      ]
     },
     "execution_count": 95,
     "metadata": {},
     "output_type": "execute_result"
    }
   ],
   "source": [
    "mlp_cv_model.best_params_"
   ]
  },
  {
   "cell_type": "code",
   "execution_count": 97,
   "metadata": {},
   "outputs": [
    {
     "name": "stdout",
     "output_type": "stream",
     "text": [
      "              precision    recall  f1-score   support\n",
      "\n",
      "           0       0.96      0.98      0.97      3415\n",
      "           1       0.70      0.48      0.57       293\n",
      "\n",
      "    accuracy                           0.94      3708\n",
      "   macro avg       0.83      0.73      0.77      3708\n",
      "weighted avg       0.94      0.94      0.94      3708\n",
      "\n"
     ]
    }
   ],
   "source": [
    "mlp_winner3 = MLPClassifier(alpha=0.4, hidden_layer_sizes=(5,5,5))\n",
    "mlp_winner3.fit(X_train, y_train)\n",
    "y_pred = mlp_winner3.predict(X_test)\n",
    "print(classification_report(y_test, y_pred))"
   ]
  },
  {
   "cell_type": "code",
   "execution_count": 98,
   "metadata": {},
   "outputs": [
    {
     "data": {
      "text/html": [
       "<div>\n",
       "<style scoped>\n",
       "    .dataframe tbody tr th:only-of-type {\n",
       "        vertical-align: middle;\n",
       "    }\n",
       "\n",
       "    .dataframe tbody tr th {\n",
       "        vertical-align: top;\n",
       "    }\n",
       "\n",
       "    .dataframe thead th {\n",
       "        text-align: right;\n",
       "    }\n",
       "</style>\n",
       "<table border=\"1\" class=\"dataframe\">\n",
       "  <thead>\n",
       "    <tr style=\"text-align: right;\">\n",
       "      <th></th>\n",
       "      <th>Speed_in_Secs</th>\n",
       "      <th>GANYAN_TRANS</th>\n",
       "      <th>GANYAN_TRANS_INT</th>\n",
       "      <th>AG_Percentage</th>\n",
       "      <th>AG_RANK_AMONG_GROUP</th>\n",
       "      <th>First_Position_Percentage</th>\n",
       "      <th>Second_Position_Percentage</th>\n",
       "      <th>Third_Position_Percentage</th>\n",
       "      <th>Fourth_Position_Percentage</th>\n",
       "      <th>TOP_THREE_RACER_PERCENTAGE</th>\n",
       "      <th>...</th>\n",
       "      <th>at_soyu_dk</th>\n",
       "      <th>at_soyu_ka</th>\n",
       "      <th>at_soyu_kd</th>\n",
       "      <th>at_soyu_ke</th>\n",
       "      <th>at_soyu_kg</th>\n",
       "      <th>at_soyu_kk</th>\n",
       "      <th>Mevsim_ilkbahar</th>\n",
       "      <th>Mevsim_kis</th>\n",
       "      <th>Mevsim_sonbahar</th>\n",
       "      <th>Mevsim_yaz</th>\n",
       "    </tr>\n",
       "  </thead>\n",
       "  <tbody>\n",
       "    <tr>\n",
       "      <th>0</th>\n",
       "      <td>1.924047</td>\n",
       "      <td>-0.403844</td>\n",
       "      <td>-0.403812</td>\n",
       "      <td>-0.332587</td>\n",
       "      <td>0.768268</td>\n",
       "      <td>0.028543</td>\n",
       "      <td>-0.074528</td>\n",
       "      <td>-0.493910</td>\n",
       "      <td>0.045952</td>\n",
       "      <td>-0.179308</td>\n",
       "      <td>...</td>\n",
       "      <td>0</td>\n",
       "      <td>0</td>\n",
       "      <td>0</td>\n",
       "      <td>0</td>\n",
       "      <td>0</td>\n",
       "      <td>0</td>\n",
       "      <td>0</td>\n",
       "      <td>0</td>\n",
       "      <td>0</td>\n",
       "      <td>1</td>\n",
       "    </tr>\n",
       "    <tr>\n",
       "      <th>1</th>\n",
       "      <td>2.340855</td>\n",
       "      <td>-0.260575</td>\n",
       "      <td>-0.260542</td>\n",
       "      <td>-0.465015</td>\n",
       "      <td>0.994776</td>\n",
       "      <td>-0.939909</td>\n",
       "      <td>-0.656579</td>\n",
       "      <td>-0.815050</td>\n",
       "      <td>-0.780712</td>\n",
       "      <td>-0.928125</td>\n",
       "      <td>...</td>\n",
       "      <td>0</td>\n",
       "      <td>0</td>\n",
       "      <td>0</td>\n",
       "      <td>0</td>\n",
       "      <td>0</td>\n",
       "      <td>0</td>\n",
       "      <td>0</td>\n",
       "      <td>0</td>\n",
       "      <td>0</td>\n",
       "      <td>1</td>\n",
       "    </tr>\n",
       "    <tr>\n",
       "      <th>2</th>\n",
       "      <td>1.535831</td>\n",
       "      <td>-0.518013</td>\n",
       "      <td>-0.517980</td>\n",
       "      <td>-0.200159</td>\n",
       "      <td>0.768268</td>\n",
       "      <td>0.028543</td>\n",
       "      <td>-0.074528</td>\n",
       "      <td>-0.493910</td>\n",
       "      <td>-0.367380</td>\n",
       "      <td>-0.179308</td>\n",
       "      <td>...</td>\n",
       "      <td>0</td>\n",
       "      <td>0</td>\n",
       "      <td>0</td>\n",
       "      <td>0</td>\n",
       "      <td>0</td>\n",
       "      <td>0</td>\n",
       "      <td>0</td>\n",
       "      <td>0</td>\n",
       "      <td>0</td>\n",
       "      <td>1</td>\n",
       "    </tr>\n",
       "    <tr>\n",
       "      <th>3</th>\n",
       "      <td>-1.412029</td>\n",
       "      <td>-0.811269</td>\n",
       "      <td>-0.811236</td>\n",
       "      <td>1.521409</td>\n",
       "      <td>-1.270311</td>\n",
       "      <td>1.481220</td>\n",
       "      <td>1.380598</td>\n",
       "      <td>1.432931</td>\n",
       "      <td>1.285947</td>\n",
       "      <td>1.639248</td>\n",
       "      <td>...</td>\n",
       "      <td>0</td>\n",
       "      <td>0</td>\n",
       "      <td>0</td>\n",
       "      <td>0</td>\n",
       "      <td>0</td>\n",
       "      <td>0</td>\n",
       "      <td>0</td>\n",
       "      <td>0</td>\n",
       "      <td>0</td>\n",
       "      <td>1</td>\n",
       "    </tr>\n",
       "    <tr>\n",
       "      <th>4</th>\n",
       "      <td>-1.440622</td>\n",
       "      <td>-0.576216</td>\n",
       "      <td>-0.576184</td>\n",
       "      <td>0.064698</td>\n",
       "      <td>0.088741</td>\n",
       "      <td>0.028543</td>\n",
       "      <td>0.216497</td>\n",
       "      <td>0.469511</td>\n",
       "      <td>0.459283</td>\n",
       "      <td>0.248587</td>\n",
       "      <td>...</td>\n",
       "      <td>0</td>\n",
       "      <td>0</td>\n",
       "      <td>0</td>\n",
       "      <td>0</td>\n",
       "      <td>0</td>\n",
       "      <td>0</td>\n",
       "      <td>0</td>\n",
       "      <td>0</td>\n",
       "      <td>0</td>\n",
       "      <td>1</td>\n",
       "    </tr>\n",
       "    <tr>\n",
       "      <th>...</th>\n",
       "      <td>...</td>\n",
       "      <td>...</td>\n",
       "      <td>...</td>\n",
       "      <td>...</td>\n",
       "      <td>...</td>\n",
       "      <td>...</td>\n",
       "      <td>...</td>\n",
       "      <td>...</td>\n",
       "      <td>...</td>\n",
       "      <td>...</td>\n",
       "      <td>...</td>\n",
       "      <td>...</td>\n",
       "      <td>...</td>\n",
       "      <td>...</td>\n",
       "      <td>...</td>\n",
       "      <td>...</td>\n",
       "      <td>...</td>\n",
       "      <td>...</td>\n",
       "      <td>...</td>\n",
       "      <td>...</td>\n",
       "      <td>...</td>\n",
       "    </tr>\n",
       "    <tr>\n",
       "      <th>12354</th>\n",
       "      <td>0.028879</td>\n",
       "      <td>0.990799</td>\n",
       "      <td>0.990832</td>\n",
       "      <td>-0.597444</td>\n",
       "      <td>-1.723329</td>\n",
       "      <td>-1.908361</td>\n",
       "      <td>-2.402730</td>\n",
       "      <td>-2.741891</td>\n",
       "      <td>-3.674033</td>\n",
       "      <td>-2.639708</td>\n",
       "      <td>...</td>\n",
       "      <td>0</td>\n",
       "      <td>0</td>\n",
       "      <td>0</td>\n",
       "      <td>0</td>\n",
       "      <td>0</td>\n",
       "      <td>0</td>\n",
       "      <td>0</td>\n",
       "      <td>1</td>\n",
       "      <td>0</td>\n",
       "      <td>0</td>\n",
       "    </tr>\n",
       "    <tr>\n",
       "      <th>12355</th>\n",
       "      <td>0.875382</td>\n",
       "      <td>0.686351</td>\n",
       "      <td>0.686383</td>\n",
       "      <td>-0.465015</td>\n",
       "      <td>0.541759</td>\n",
       "      <td>-1.424135</td>\n",
       "      <td>-1.820679</td>\n",
       "      <td>-0.815050</td>\n",
       "      <td>-1.194043</td>\n",
       "      <td>-1.569969</td>\n",
       "      <td>...</td>\n",
       "      <td>0</td>\n",
       "      <td>0</td>\n",
       "      <td>0</td>\n",
       "      <td>0</td>\n",
       "      <td>0</td>\n",
       "      <td>0</td>\n",
       "      <td>0</td>\n",
       "      <td>1</td>\n",
       "      <td>0</td>\n",
       "      <td>0</td>\n",
       "    </tr>\n",
       "    <tr>\n",
       "      <th>12356</th>\n",
       "      <td>1.634093</td>\n",
       "      <td>-0.614272</td>\n",
       "      <td>-0.614240</td>\n",
       "      <td>-0.332587</td>\n",
       "      <td>-0.590785</td>\n",
       "      <td>0.028543</td>\n",
       "      <td>0.216497</td>\n",
       "      <td>0.469511</td>\n",
       "      <td>0.459283</td>\n",
       "      <td>0.248587</td>\n",
       "      <td>...</td>\n",
       "      <td>0</td>\n",
       "      <td>0</td>\n",
       "      <td>0</td>\n",
       "      <td>0</td>\n",
       "      <td>0</td>\n",
       "      <td>0</td>\n",
       "      <td>0</td>\n",
       "      <td>1</td>\n",
       "      <td>0</td>\n",
       "      <td>0</td>\n",
       "    </tr>\n",
       "    <tr>\n",
       "      <th>12357</th>\n",
       "      <td>-0.310609</td>\n",
       "      <td>-0.267290</td>\n",
       "      <td>-0.267258</td>\n",
       "      <td>-0.597444</td>\n",
       "      <td>-1.723329</td>\n",
       "      <td>0.996994</td>\n",
       "      <td>0.507522</td>\n",
       "      <td>0.469511</td>\n",
       "      <td>0.045952</td>\n",
       "      <td>0.783457</td>\n",
       "      <td>...</td>\n",
       "      <td>0</td>\n",
       "      <td>0</td>\n",
       "      <td>0</td>\n",
       "      <td>0</td>\n",
       "      <td>0</td>\n",
       "      <td>0</td>\n",
       "      <td>0</td>\n",
       "      <td>1</td>\n",
       "      <td>0</td>\n",
       "      <td>0</td>\n",
       "    </tr>\n",
       "    <tr>\n",
       "      <th>12358</th>\n",
       "      <td>-0.265908</td>\n",
       "      <td>1.919816</td>\n",
       "      <td>1.919848</td>\n",
       "      <td>-0.465015</td>\n",
       "      <td>0.994776</td>\n",
       "      <td>-0.455683</td>\n",
       "      <td>-0.365553</td>\n",
       "      <td>-0.172770</td>\n",
       "      <td>0.459283</td>\n",
       "      <td>-0.393256</td>\n",
       "      <td>...</td>\n",
       "      <td>0</td>\n",
       "      <td>1</td>\n",
       "      <td>0</td>\n",
       "      <td>0</td>\n",
       "      <td>0</td>\n",
       "      <td>0</td>\n",
       "      <td>0</td>\n",
       "      <td>1</td>\n",
       "      <td>0</td>\n",
       "      <td>0</td>\n",
       "    </tr>\n",
       "  </tbody>\n",
       "</table>\n",
       "<p>12359 rows × 76 columns</p>\n",
       "</div>"
      ],
      "text/plain": [
       "       Speed_in_Secs  GANYAN_TRANS  GANYAN_TRANS_INT  AG_Percentage  \\\n",
       "0           1.924047     -0.403844         -0.403812      -0.332587   \n",
       "1           2.340855     -0.260575         -0.260542      -0.465015   \n",
       "2           1.535831     -0.518013         -0.517980      -0.200159   \n",
       "3          -1.412029     -0.811269         -0.811236       1.521409   \n",
       "4          -1.440622     -0.576216         -0.576184       0.064698   \n",
       "...              ...           ...               ...            ...   \n",
       "12354       0.028879      0.990799          0.990832      -0.597444   \n",
       "12355       0.875382      0.686351          0.686383      -0.465015   \n",
       "12356       1.634093     -0.614272         -0.614240      -0.332587   \n",
       "12357      -0.310609     -0.267290         -0.267258      -0.597444   \n",
       "12358      -0.265908      1.919816          1.919848      -0.465015   \n",
       "\n",
       "       AG_RANK_AMONG_GROUP  First_Position_Percentage  \\\n",
       "0                 0.768268                   0.028543   \n",
       "1                 0.994776                  -0.939909   \n",
       "2                 0.768268                   0.028543   \n",
       "3                -1.270311                   1.481220   \n",
       "4                 0.088741                   0.028543   \n",
       "...                    ...                        ...   \n",
       "12354            -1.723329                  -1.908361   \n",
       "12355             0.541759                  -1.424135   \n",
       "12356            -0.590785                   0.028543   \n",
       "12357            -1.723329                   0.996994   \n",
       "12358             0.994776                  -0.455683   \n",
       "\n",
       "       Second_Position_Percentage  Third_Position_Percentage  \\\n",
       "0                       -0.074528                  -0.493910   \n",
       "1                       -0.656579                  -0.815050   \n",
       "2                       -0.074528                  -0.493910   \n",
       "3                        1.380598                   1.432931   \n",
       "4                        0.216497                   0.469511   \n",
       "...                           ...                        ...   \n",
       "12354                   -2.402730                  -2.741891   \n",
       "12355                   -1.820679                  -0.815050   \n",
       "12356                    0.216497                   0.469511   \n",
       "12357                    0.507522                   0.469511   \n",
       "12358                   -0.365553                  -0.172770   \n",
       "\n",
       "       Fourth_Position_Percentage  TOP_THREE_RACER_PERCENTAGE  ...  \\\n",
       "0                        0.045952                   -0.179308  ...   \n",
       "1                       -0.780712                   -0.928125  ...   \n",
       "2                       -0.367380                   -0.179308  ...   \n",
       "3                        1.285947                    1.639248  ...   \n",
       "4                        0.459283                    0.248587  ...   \n",
       "...                           ...                         ...  ...   \n",
       "12354                   -3.674033                   -2.639708  ...   \n",
       "12355                   -1.194043                   -1.569969  ...   \n",
       "12356                    0.459283                    0.248587  ...   \n",
       "12357                    0.045952                    0.783457  ...   \n",
       "12358                    0.459283                   -0.393256  ...   \n",
       "\n",
       "       at_soyu_dk  at_soyu_ka  at_soyu_kd  at_soyu_ke  at_soyu_kg  at_soyu_kk  \\\n",
       "0               0           0           0           0           0           0   \n",
       "1               0           0           0           0           0           0   \n",
       "2               0           0           0           0           0           0   \n",
       "3               0           0           0           0           0           0   \n",
       "4               0           0           0           0           0           0   \n",
       "...           ...         ...         ...         ...         ...         ...   \n",
       "12354           0           0           0           0           0           0   \n",
       "12355           0           0           0           0           0           0   \n",
       "12356           0           0           0           0           0           0   \n",
       "12357           0           0           0           0           0           0   \n",
       "12358           0           1           0           0           0           0   \n",
       "\n",
       "       Mevsim_ilkbahar  Mevsim_kis  Mevsim_sonbahar  Mevsim_yaz  \n",
       "0                    0           0                0           1  \n",
       "1                    0           0                0           1  \n",
       "2                    0           0                0           1  \n",
       "3                    0           0                0           1  \n",
       "4                    0           0                0           1  \n",
       "...                ...         ...              ...         ...  \n",
       "12354                0           1                0           0  \n",
       "12355                0           1                0           0  \n",
       "12356                0           1                0           0  \n",
       "12357                0           1                0           0  \n",
       "12358                0           1                0           0  \n",
       "\n",
       "[12359 rows x 76 columns]"
      ]
     },
     "execution_count": 98,
     "metadata": {},
     "output_type": "execute_result"
    }
   ],
   "source": [
    "X"
   ]
  },
  {
   "cell_type": "code",
   "execution_count": null,
   "metadata": {},
   "outputs": [],
   "source": []
  }
 ],
 "metadata": {
  "kernelspec": {
   "display_name": "Python 3",
   "language": "python",
   "name": "python3"
  },
  "language_info": {
   "codemirror_mode": {
    "name": "ipython",
    "version": 3
   },
   "file_extension": ".py",
   "mimetype": "text/x-python",
   "name": "python",
   "nbconvert_exporter": "python",
   "pygments_lexer": "ipython3",
   "version": "3.8.3"
  }
 },
 "nbformat": 4,
 "nbformat_minor": 4
}
