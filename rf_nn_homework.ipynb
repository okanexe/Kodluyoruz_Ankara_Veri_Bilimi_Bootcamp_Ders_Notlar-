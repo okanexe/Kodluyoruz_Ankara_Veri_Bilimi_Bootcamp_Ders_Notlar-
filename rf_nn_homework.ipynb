{
 "cells": [
  {
   "cell_type": "code",
   "execution_count": 1,
   "metadata": {},
   "outputs": [],
   "source": [
    "import pandas as pd \n",
    "import numpy as np \n",
    "import matplotlib.pyplot as plt \n",
    "import seaborn as sns \n",
    "import statsmodels.api as sm \n",
    "import statsmodels.formula.api as smf \n",
    "from sklearn.preprocessing import scale, MinMaxScaler\n",
    "from sklearn.model_selection import train_test_split, GridSearchCV, cross_val_score\n",
    "from sklearn.metrics import confusion_matrix, precision_score, recall_score, accuracy_score, classification_report\n",
    "from sklearn.metrics import roc_auc_score, roc_curve, mean_squared_error\n",
    "from sklearn import tree \n",
    "from sklearn.tree import DecisionTreeClassifier\n",
    "from sklearn.tree import DecisionTreeRegressor\n",
    "from sklearn.ensemble import RandomForestClassifier\n",
    "from sklearn.ensemble import RandomForestRegressor\n",
    "from sklearn.neighbors import KNeighborsClassifier\n",
    "from sklearn.discriminant_analysis import LinearDiscriminantAnalysis\n",
    "from sklearn.linear_model import LogisticRegression\n",
    "from sklearn.linear_model import LinearRegression\n",
    "from sklearn.svm import SVC\n",
    "from sklearn.naive_bayes import GaussianNB\n",
    "from sklearn import tree\n",
    "from sklearn.ensemble import RandomForestClassifier\n",
    "from sklearn.ensemble import GradientBoostingClassifier\n",
    "# from xgboost import XGBClassifier\n",
    "# from lightgbm import LGBMClassifier\n",
    "from warnings import filterwarnings\n",
    "filterwarnings('ignore')"
   ]
  },
  {
   "cell_type": "code",
   "execution_count": 2,
   "metadata": {},
   "outputs": [],
   "source": [
    "bank = pd.read_csv(\"bank.csv\")"
   ]
  },
  {
   "cell_type": "code",
   "execution_count": 3,
   "metadata": {},
   "outputs": [
    {
     "data": {
      "text/plain": [
       "good     1840\n",
       "badly     178\n",
       "Name: bad, dtype: int64"
      ]
     },
     "execution_count": 3,
     "metadata": {},
     "output_type": "execute_result"
    }
   ],
   "source": [
    "# bad datası good ve badly olmak üzere kategorik hale getirildi.\n",
    "\n",
    "bank = bank.dropna(how='any')\n",
    "bank[\"bad\"] = bank[\"bad\"].apply(lambda x: \"good\" if(x==0)  else \"badly\")\n",
    "bank[\"bad\"].value_counts()"
   ]
  },
  {
   "cell_type": "code",
   "execution_count": 4,
   "metadata": {},
   "outputs": [
    {
     "name": "stdout",
     "output_type": "stream",
     "text": [
      "<class 'pandas.core.frame.DataFrame'>\n",
      "Int64Index: 2018 entries, 153 to 3549\n",
      "Data columns (total 13 columns):\n",
      " #   Column   Non-Null Count  Dtype  \n",
      "---  ------   --------------  -----  \n",
      " 0   bad      2018 non-null   object \n",
      " 1   loan     2018 non-null   int64  \n",
      " 2   mortdue  2018 non-null   float64\n",
      " 3   value    2018 non-null   float64\n",
      " 4   reason   2018 non-null   object \n",
      " 5   job      2018 non-null   object \n",
      " 6   yoj      2018 non-null   float64\n",
      " 7   derog    2018 non-null   float64\n",
      " 8   delinq   2018 non-null   float64\n",
      " 9   clage    2018 non-null   float64\n",
      " 10  ninq     2018 non-null   float64\n",
      " 11  clno     2018 non-null   float64\n",
      " 12  debtinc  2018 non-null   float64\n",
      "dtypes: float64(9), int64(1), object(3)\n",
      "memory usage: 197.1+ KB\n"
     ]
    }
   ],
   "source": [
    "bank.info()"
   ]
  },
  {
   "cell_type": "code",
   "execution_count": 5,
   "metadata": {},
   "outputs": [],
   "source": [
    "# öncelikle hedef değişken bad seçildi ve kategorik değişkenler dataset'ten düşürüldü.\n",
    "\n",
    "y = bank[\"bad\"]\n",
    "X = bank.drop([\"bad\", \"reason\", \"job\"], axis=1)\n",
    "X = pd.DataFrame(X)\n",
    "\n",
    "X_train, X_test, y_train, y_test = train_test_split(X, y, test_size=0.3, random_state=42)"
   ]
  },
  {
   "cell_type": "code",
   "execution_count": 6,
   "metadata": {},
   "outputs": [],
   "source": [
    "from sklearn.tree import DecisionTreeClassifier\n",
    "cart = DecisionTreeClassifier()\n",
    "cart_model = cart.fit(X_train, y_train)"
   ]
  },
  {
   "cell_type": "code",
   "execution_count": 7,
   "metadata": {},
   "outputs": [
    {
     "data": {
      "text/plain": [
       "0.9125412541254125"
      ]
     },
     "execution_count": 7,
     "metadata": {},
     "output_type": "execute_result"
    }
   ],
   "source": [
    "y_pred = cart_model.predict(X_test)\n",
    "accuracy_score(y_test, y_pred)"
   ]
  },
  {
   "cell_type": "code",
   "execution_count": 11,
   "metadata": {},
   "outputs": [
    {
     "name": "stdout",
     "output_type": "stream",
     "text": [
      "              precision    recall  f1-score   support\n",
      "\n",
      "       badly       0.49      0.48      0.49        52\n",
      "        good       0.95      0.95      0.95       554\n",
      "\n",
      "    accuracy                           0.91       606\n",
      "   macro avg       0.72      0.72      0.72       606\n",
      "weighted avg       0.91      0.91      0.91       606\n",
      "\n"
     ]
    }
   ],
   "source": [
    "print ( classification_report(y_test,y_pred))"
   ]
  },
  {
   "cell_type": "code",
   "execution_count": 16,
   "metadata": {},
   "outputs": [
    {
     "name": "stdout",
     "output_type": "stream",
     "text": [
      "Fitting 10 folds for each of 432 candidates, totalling 4320 fits\n"
     ]
    },
    {
     "name": "stderr",
     "output_type": "stream",
     "text": [
      "[Parallel(n_jobs=-1)]: Using backend LokyBackend with 4 concurrent workers.\n",
      "[Parallel(n_jobs=-1)]: Done  34 tasks      | elapsed:    3.0s\n",
      "[Parallel(n_jobs=-1)]: Done 928 tasks      | elapsed:    7.0s\n",
      "[Parallel(n_jobs=-1)]: Done 2552 tasks      | elapsed:   15.8s\n",
      "[Parallel(n_jobs=-1)]: Done 4320 out of 4320 | elapsed:   27.3s finished\n"
     ]
    }
   ],
   "source": [
    "cart_grid = {\"max_depth\": range(1,10),\n",
    "                \"min_samples_split\" : list(range(2,50)) \n",
    "}\n",
    "\n",
    "cart2 = tree.DecisionTreeClassifier()\n",
    "cart_cv = GridSearchCV(cart2, cart_grid, cv=10, n_jobs=-1, verbose=2)\n",
    "cart_cv_model = cart_cv.fit(X_train, y_train)"
   ]
  },
  {
   "cell_type": "code",
   "execution_count": 17,
   "metadata": {},
   "outputs": [
    {
     "name": "stdout",
     "output_type": "stream",
     "text": [
      "en iyi parametreler: {'max_depth': 9, 'min_samples_split': 3}\n"
     ]
    }
   ],
   "source": [
    "print(\"en iyi parametreler: \" + str(cart_cv_model.best_params_))"
   ]
  },
  {
   "cell_type": "markdown",
   "metadata": {},
   "source": [
    "### Model Tuning"
   ]
  },
  {
   "cell_type": "code",
   "execution_count": 18,
   "metadata": {},
   "outputs": [],
   "source": [
    "cart = DecisionTreeClassifier(max_depth=9, min_samples_split=3)\n",
    "cart_tuned = cart.fit(X_train, y_train)"
   ]
  },
  {
   "cell_type": "code",
   "execution_count": 19,
   "metadata": {},
   "outputs": [
    {
     "data": {
      "text/plain": [
       "0.9471947194719472"
      ]
     },
     "execution_count": 19,
     "metadata": {},
     "output_type": "execute_result"
    }
   ],
   "source": [
    "y_pred = cart_tuned.predict(X_test)\n",
    "accuracy_score(y_test, y_pred)"
   ]
  },
  {
   "cell_type": "markdown",
   "metadata": {},
   "source": [
    "### Decision Tree Classifier to Forex Dataset"
   ]
  },
  {
   "cell_type": "code",
   "execution_count": 15,
   "metadata": {},
   "outputs": [
    {
     "data": {
      "text/plain": [
       "<bound method dataPreprocessing.categoric_variables of <Functions.dataPreprocessing object at 0x0AFAAE20>>"
      ]
     },
     "execution_count": 15,
     "metadata": {},
     "output_type": "execute_result"
    }
   ],
   "source": [
    "import Functions as f\n",
    "dt = f.dataPreprocessing(\"dataset.xlsx\")"
   ]
  },
  {
   "cell_type": "code",
   "execution_count": 20,
   "metadata": {},
   "outputs": [
    {
     "data": {
      "text/plain": [
       "['ind_109', 'ind_420', 'ind_422']"
      ]
     },
     "execution_count": 20,
     "metadata": {},
     "output_type": "execute_result"
    }
   ],
   "source": [
    "cv = dt.categoric_variables()\n",
    "cv"
   ]
  },
  {
   "cell_type": "code",
   "execution_count": 25,
   "metadata": {},
   "outputs": [],
   "source": [
    "df = dt.toDataFrame()\n",
    "df = data.copy()\n",
    "df = df.dropna()"
   ]
  },
  {
   "cell_type": "code",
   "execution_count": 30,
   "metadata": {},
   "outputs": [],
   "source": [
    "dms = pd.get_dummies(df[\"ind_109\"])\n",
    "X_ = df.drop([\"ind_420\", \"ind_422\", \"ind_109\", \"50_target\", \"20_target\"], axis=1).astype('float64')\n",
    "X = pd.concat([X_, dms], axis=1)\n",
    "y = df[\"90_target\"]"
   ]
  },
  {
   "cell_type": "code",
   "execution_count": 31,
   "metadata": {},
   "outputs": [],
   "source": [
    "xVifValues = [variance_inflation_factor(X.values, i) for i in range(X.shape[1])]"
   ]
  },
  {
   "cell_type": "code",
   "execution_count": 37,
   "metadata": {},
   "outputs": [
    {
     "data": {
      "text/html": [
       "<div>\n",
       "<style scoped>\n",
       "    .dataframe tbody tr th:only-of-type {\n",
       "        vertical-align: middle;\n",
       "    }\n",
       "\n",
       "    .dataframe tbody tr th {\n",
       "        vertical-align: top;\n",
       "    }\n",
       "\n",
       "    .dataframe thead th {\n",
       "        text-align: right;\n",
       "    }\n",
       "</style>\n",
       "<table border=\"1\" class=\"dataframe\">\n",
       "  <thead>\n",
       "    <tr style=\"text-align: right;\">\n",
       "      <th></th>\n",
       "      <th>0</th>\n",
       "    </tr>\n",
       "  </thead>\n",
       "  <tbody>\n",
       "    <tr>\n",
       "      <th>ind_5</th>\n",
       "      <td>1901.034554</td>\n",
       "    </tr>\n",
       "    <tr>\n",
       "      <th>ind_6</th>\n",
       "      <td>1239.813724</td>\n",
       "    </tr>\n",
       "    <tr>\n",
       "      <th>ind_8</th>\n",
       "      <td>inf</td>\n",
       "    </tr>\n",
       "    <tr>\n",
       "      <th>ind_9</th>\n",
       "      <td>inf</td>\n",
       "    </tr>\n",
       "    <tr>\n",
       "      <th>ind_10</th>\n",
       "      <td>inf</td>\n",
       "    </tr>\n",
       "    <tr>\n",
       "      <th>...</th>\n",
       "      <td>...</td>\n",
       "    </tr>\n",
       "    <tr>\n",
       "      <th>ind_426</th>\n",
       "      <td>8.327488</td>\n",
       "    </tr>\n",
       "    <tr>\n",
       "      <th>ind_428</th>\n",
       "      <td>11.307396</td>\n",
       "    </tr>\n",
       "    <tr>\n",
       "      <th>90_target</th>\n",
       "      <td>1.210346</td>\n",
       "    </tr>\n",
       "    <tr>\n",
       "      <th>GREEN</th>\n",
       "      <td>4028.263237</td>\n",
       "    </tr>\n",
       "    <tr>\n",
       "      <th>RED</th>\n",
       "      <td>3893.359583</td>\n",
       "    </tr>\n",
       "  </tbody>\n",
       "</table>\n",
       "<p>133 rows × 1 columns</p>\n",
       "</div>"
      ],
      "text/plain": [
       "                     0\n",
       "ind_5      1901.034554\n",
       "ind_6      1239.813724\n",
       "ind_8              inf\n",
       "ind_9              inf\n",
       "ind_10             inf\n",
       "...                ...\n",
       "ind_426       8.327488\n",
       "ind_428      11.307396\n",
       "90_target     1.210346\n",
       "GREEN      4028.263237\n",
       "RED        3893.359583\n",
       "\n",
       "[133 rows x 1 columns]"
      ]
     },
     "execution_count": 37,
     "metadata": {},
     "output_type": "execute_result"
    }
   ],
   "source": [
    "columnNames = X.columns\n",
    "vif_data = pd.DataFrame(xVifValues,columnNames)\n",
    "vif_data"
   ]
  },
  {
   "cell_type": "code",
   "execution_count": 56,
   "metadata": {},
   "outputs": [
    {
     "data": {
      "text/html": [
       "<div>\n",
       "<style scoped>\n",
       "    .dataframe tbody tr th:only-of-type {\n",
       "        vertical-align: middle;\n",
       "    }\n",
       "\n",
       "    .dataframe tbody tr th {\n",
       "        vertical-align: top;\n",
       "    }\n",
       "\n",
       "    .dataframe thead th {\n",
       "        text-align: right;\n",
       "    }\n",
       "</style>\n",
       "<table border=\"1\" class=\"dataframe\">\n",
       "  <thead>\n",
       "    <tr style=\"text-align: right;\">\n",
       "      <th></th>\n",
       "      <th>ind_13</th>\n",
       "      <th>ind_14</th>\n",
       "      <th>ind_15</th>\n",
       "      <th>ind_16</th>\n",
       "      <th>ind_17</th>\n",
       "      <th>ind_18</th>\n",
       "      <th>ind_28</th>\n",
       "      <th>ind_29</th>\n",
       "      <th>ind_36</th>\n",
       "      <th>ind_37</th>\n",
       "      <th>...</th>\n",
       "      <th>ind_349</th>\n",
       "      <th>ind_351</th>\n",
       "      <th>ind_352</th>\n",
       "      <th>ind_397</th>\n",
       "      <th>ind_412</th>\n",
       "      <th>ind_416</th>\n",
       "      <th>ind_424</th>\n",
       "      <th>ind_426</th>\n",
       "      <th>ind_428</th>\n",
       "      <th>90_target</th>\n",
       "    </tr>\n",
       "  </thead>\n",
       "  <tbody>\n",
       "    <tr>\n",
       "      <th>0</th>\n",
       "      <td>60.808814</td>\n",
       "      <td>23.80</td>\n",
       "      <td>17.62</td>\n",
       "      <td>11.73</td>\n",
       "      <td>12.060000</td>\n",
       "      <td>9.1100</td>\n",
       "      <td>66.666667</td>\n",
       "      <td>93.692449</td>\n",
       "      <td>196.592517</td>\n",
       "      <td>184.819232</td>\n",
       "      <td>...</td>\n",
       "      <td>0.0</td>\n",
       "      <td>0.0</td>\n",
       "      <td>0.0</td>\n",
       "      <td>-26.386973</td>\n",
       "      <td>0.002371</td>\n",
       "      <td>-49.6</td>\n",
       "      <td>1.000000</td>\n",
       "      <td>0.498547</td>\n",
       "      <td>0.701906</td>\n",
       "      <td>36.997753</td>\n",
       "    </tr>\n",
       "    <tr>\n",
       "      <th>1</th>\n",
       "      <td>64.366798</td>\n",
       "      <td>11.45</td>\n",
       "      <td>18.16</td>\n",
       "      <td>12.22</td>\n",
       "      <td>11.326667</td>\n",
       "      <td>9.2225</td>\n",
       "      <td>66.666667</td>\n",
       "      <td>76.694104</td>\n",
       "      <td>201.738617</td>\n",
       "      <td>191.985663</td>\n",
       "      <td>...</td>\n",
       "      <td>0.0</td>\n",
       "      <td>0.0</td>\n",
       "      <td>0.0</td>\n",
       "      <td>-26.085949</td>\n",
       "      <td>0.003074</td>\n",
       "      <td>-55.6</td>\n",
       "      <td>1.000000</td>\n",
       "      <td>0.537088</td>\n",
       "      <td>0.690833</td>\n",
       "      <td>37.016198</td>\n",
       "    </tr>\n",
       "    <tr>\n",
       "      <th>2</th>\n",
       "      <td>65.915803</td>\n",
       "      <td>8.75</td>\n",
       "      <td>17.86</td>\n",
       "      <td>12.28</td>\n",
       "      <td>10.973333</td>\n",
       "      <td>9.3125</td>\n",
       "      <td>66.666667</td>\n",
       "      <td>83.909974</td>\n",
       "      <td>205.238017</td>\n",
       "      <td>197.993551</td>\n",
       "      <td>...</td>\n",
       "      <td>0.0</td>\n",
       "      <td>0.0</td>\n",
       "      <td>0.0</td>\n",
       "      <td>-23.250410</td>\n",
       "      <td>0.003561</td>\n",
       "      <td>-58.4</td>\n",
       "      <td>1.000000</td>\n",
       "      <td>0.615169</td>\n",
       "      <td>0.693040</td>\n",
       "      <td>-37.024805</td>\n",
       "    </tr>\n",
       "    <tr>\n",
       "      <th>3</th>\n",
       "      <td>68.584234</td>\n",
       "      <td>7.80</td>\n",
       "      <td>14.76</td>\n",
       "      <td>12.61</td>\n",
       "      <td>10.426667</td>\n",
       "      <td>9.4150</td>\n",
       "      <td>66.666667</td>\n",
       "      <td>98.596644</td>\n",
       "      <td>203.641362</td>\n",
       "      <td>200.370912</td>\n",
       "      <td>...</td>\n",
       "      <td>0.0</td>\n",
       "      <td>0.0</td>\n",
       "      <td>0.0</td>\n",
       "      <td>-19.499975</td>\n",
       "      <td>0.004366</td>\n",
       "      <td>-61.8</td>\n",
       "      <td>1.000000</td>\n",
       "      <td>0.661517</td>\n",
       "      <td>0.673418</td>\n",
       "      <td>-37.040483</td>\n",
       "    </tr>\n",
       "    <tr>\n",
       "      <th>4</th>\n",
       "      <td>76.455495</td>\n",
       "      <td>14.90</td>\n",
       "      <td>11.92</td>\n",
       "      <td>14.25</td>\n",
       "      <td>11.406667</td>\n",
       "      <td>9.8925</td>\n",
       "      <td>66.666667</td>\n",
       "      <td>149.283572</td>\n",
       "      <td>227.848369</td>\n",
       "      <td>223.561880</td>\n",
       "      <td>...</td>\n",
       "      <td>0.0</td>\n",
       "      <td>0.0</td>\n",
       "      <td>0.0</td>\n",
       "      <td>-25.348270</td>\n",
       "      <td>0.004198</td>\n",
       "      <td>-79.8</td>\n",
       "      <td>1.000000</td>\n",
       "      <td>0.747204</td>\n",
       "      <td>0.700522</td>\n",
       "      <td>-37.103503</td>\n",
       "    </tr>\n",
       "    <tr>\n",
       "      <th>...</th>\n",
       "      <td>...</td>\n",
       "      <td>...</td>\n",
       "      <td>...</td>\n",
       "      <td>...</td>\n",
       "      <td>...</td>\n",
       "      <td>...</td>\n",
       "      <td>...</td>\n",
       "      <td>...</td>\n",
       "      <td>...</td>\n",
       "      <td>...</td>\n",
       "      <td>...</td>\n",
       "      <td>...</td>\n",
       "      <td>...</td>\n",
       "      <td>...</td>\n",
       "      <td>...</td>\n",
       "      <td>...</td>\n",
       "      <td>...</td>\n",
       "      <td>...</td>\n",
       "      <td>...</td>\n",
       "      <td>...</td>\n",
       "      <td>...</td>\n",
       "    </tr>\n",
       "    <tr>\n",
       "      <th>6162</th>\n",
       "      <td>32.362582</td>\n",
       "      <td>9.70</td>\n",
       "      <td>9.38</td>\n",
       "      <td>13.66</td>\n",
       "      <td>15.100000</td>\n",
       "      <td>16.2175</td>\n",
       "      <td>-66.666667</td>\n",
       "      <td>-166.666667</td>\n",
       "      <td>135.005556</td>\n",
       "      <td>102.453252</td>\n",
       "      <td>...</td>\n",
       "      <td>0.0</td>\n",
       "      <td>0.0</td>\n",
       "      <td>0.0</td>\n",
       "      <td>3.500000</td>\n",
       "      <td>0.004633</td>\n",
       "      <td>-28.2</td>\n",
       "      <td>0.270270</td>\n",
       "      <td>0.840000</td>\n",
       "      <td>0.600846</td>\n",
       "      <td>-35.867088</td>\n",
       "    </tr>\n",
       "    <tr>\n",
       "      <th>6163</th>\n",
       "      <td>32.914628</td>\n",
       "      <td>7.65</td>\n",
       "      <td>8.84</td>\n",
       "      <td>11.79</td>\n",
       "      <td>14.753333</td>\n",
       "      <td>16.1175</td>\n",
       "      <td>-66.666667</td>\n",
       "      <td>-116.371568</td>\n",
       "      <td>124.513539</td>\n",
       "      <td>96.780546</td>\n",
       "      <td>...</td>\n",
       "      <td>0.0</td>\n",
       "      <td>0.0</td>\n",
       "      <td>0.0</td>\n",
       "      <td>-2.250000</td>\n",
       "      <td>0.008511</td>\n",
       "      <td>-28.6</td>\n",
       "      <td>0.000000</td>\n",
       "      <td>0.737470</td>\n",
       "      <td>0.527673</td>\n",
       "      <td>-35.868318</td>\n",
       "    </tr>\n",
       "    <tr>\n",
       "      <th>6164</th>\n",
       "      <td>43.550592</td>\n",
       "      <td>8.95</td>\n",
       "      <td>9.06</td>\n",
       "      <td>10.30</td>\n",
       "      <td>14.613333</td>\n",
       "      <td>16.3125</td>\n",
       "      <td>66.666667</td>\n",
       "      <td>29.477508</td>\n",
       "      <td>132.029648</td>\n",
       "      <td>108.218518</td>\n",
       "      <td>...</td>\n",
       "      <td>0.0</td>\n",
       "      <td>0.0</td>\n",
       "      <td>0.0</td>\n",
       "      <td>-4.500000</td>\n",
       "      <td>0.008848</td>\n",
       "      <td>-37.2</td>\n",
       "      <td>0.769231</td>\n",
       "      <td>0.632107</td>\n",
       "      <td>0.551759</td>\n",
       "      <td>-35.894755</td>\n",
       "    </tr>\n",
       "    <tr>\n",
       "      <th>6165</th>\n",
       "      <td>54.130755</td>\n",
       "      <td>13.55</td>\n",
       "      <td>10.36</td>\n",
       "      <td>10.55</td>\n",
       "      <td>13.606667</td>\n",
       "      <td>16.4200</td>\n",
       "      <td>66.666667</td>\n",
       "      <td>148.600076</td>\n",
       "      <td>144.880140</td>\n",
       "      <td>124.933707</td>\n",
       "      <td>...</td>\n",
       "      <td>0.0</td>\n",
       "      <td>0.0</td>\n",
       "      <td>0.0</td>\n",
       "      <td>-5.850000</td>\n",
       "      <td>0.008940</td>\n",
       "      <td>-48.9</td>\n",
       "      <td>1.000000</td>\n",
       "      <td>0.733010</td>\n",
       "      <td>0.591584</td>\n",
       "      <td>-35.930723</td>\n",
       "    </tr>\n",
       "    <tr>\n",
       "      <th>6166</th>\n",
       "      <td>45.524973</td>\n",
       "      <td>11.45</td>\n",
       "      <td>10.16</td>\n",
       "      <td>9.68</td>\n",
       "      <td>13.020000</td>\n",
       "      <td>16.4500</td>\n",
       "      <td>-66.666667</td>\n",
       "      <td>82.361327</td>\n",
       "      <td>139.646458</td>\n",
       "      <td>123.289457</td>\n",
       "      <td>...</td>\n",
       "      <td>0.0</td>\n",
       "      <td>0.0</td>\n",
       "      <td>0.0</td>\n",
       "      <td>1.200000</td>\n",
       "      <td>0.008685</td>\n",
       "      <td>-44.0</td>\n",
       "      <td>1.000000</td>\n",
       "      <td>0.687500</td>\n",
       "      <td>0.593936</td>\n",
       "      <td>-35.915659</td>\n",
       "    </tr>\n",
       "  </tbody>\n",
       "</table>\n",
       "<p>6167 rows × 56 columns</p>\n",
       "</div>"
      ],
      "text/plain": [
       "         ind_13  ind_14  ind_15  ind_16     ind_17   ind_18     ind_28  \\\n",
       "0     60.808814   23.80   17.62   11.73  12.060000   9.1100  66.666667   \n",
       "1     64.366798   11.45   18.16   12.22  11.326667   9.2225  66.666667   \n",
       "2     65.915803    8.75   17.86   12.28  10.973333   9.3125  66.666667   \n",
       "3     68.584234    7.80   14.76   12.61  10.426667   9.4150  66.666667   \n",
       "4     76.455495   14.90   11.92   14.25  11.406667   9.8925  66.666667   \n",
       "...         ...     ...     ...     ...        ...      ...        ...   \n",
       "6162  32.362582    9.70    9.38   13.66  15.100000  16.2175 -66.666667   \n",
       "6163  32.914628    7.65    8.84   11.79  14.753333  16.1175 -66.666667   \n",
       "6164  43.550592    8.95    9.06   10.30  14.613333  16.3125  66.666667   \n",
       "6165  54.130755   13.55   10.36   10.55  13.606667  16.4200  66.666667   \n",
       "6166  45.524973   11.45   10.16    9.68  13.020000  16.4500 -66.666667   \n",
       "\n",
       "          ind_29      ind_36      ind_37  ...  ind_349  ind_351  ind_352  \\\n",
       "0      93.692449  196.592517  184.819232  ...      0.0      0.0      0.0   \n",
       "1      76.694104  201.738617  191.985663  ...      0.0      0.0      0.0   \n",
       "2      83.909974  205.238017  197.993551  ...      0.0      0.0      0.0   \n",
       "3      98.596644  203.641362  200.370912  ...      0.0      0.0      0.0   \n",
       "4     149.283572  227.848369  223.561880  ...      0.0      0.0      0.0   \n",
       "...          ...         ...         ...  ...      ...      ...      ...   \n",
       "6162 -166.666667  135.005556  102.453252  ...      0.0      0.0      0.0   \n",
       "6163 -116.371568  124.513539   96.780546  ...      0.0      0.0      0.0   \n",
       "6164   29.477508  132.029648  108.218518  ...      0.0      0.0      0.0   \n",
       "6165  148.600076  144.880140  124.933707  ...      0.0      0.0      0.0   \n",
       "6166   82.361327  139.646458  123.289457  ...      0.0      0.0      0.0   \n",
       "\n",
       "        ind_397   ind_412  ind_416   ind_424   ind_426   ind_428  90_target  \n",
       "0    -26.386973  0.002371    -49.6  1.000000  0.498547  0.701906  36.997753  \n",
       "1    -26.085949  0.003074    -55.6  1.000000  0.537088  0.690833  37.016198  \n",
       "2    -23.250410  0.003561    -58.4  1.000000  0.615169  0.693040 -37.024805  \n",
       "3    -19.499975  0.004366    -61.8  1.000000  0.661517  0.673418 -37.040483  \n",
       "4    -25.348270  0.004198    -79.8  1.000000  0.747204  0.700522 -37.103503  \n",
       "...         ...       ...      ...       ...       ...       ...        ...  \n",
       "6162   3.500000  0.004633    -28.2  0.270270  0.840000  0.600846 -35.867088  \n",
       "6163  -2.250000  0.008511    -28.6  0.000000  0.737470  0.527673 -35.868318  \n",
       "6164  -4.500000  0.008848    -37.2  0.769231  0.632107  0.551759 -35.894755  \n",
       "6165  -5.850000  0.008940    -48.9  1.000000  0.733010  0.591584 -35.930723  \n",
       "6166   1.200000  0.008685    -44.0  1.000000  0.687500  0.593936 -35.915659  \n",
       "\n",
       "[6167 rows x 56 columns]"
      ]
     },
     "execution_count": 56,
     "metadata": {},
     "output_type": "execute_result"
    }
   ],
   "source": [
    "xAfterVif"
   ]
  },
  {
   "cell_type": "code",
   "execution_count": 64,
   "metadata": {},
   "outputs": [],
   "source": [
    "xAfterVif = df.loc[:,vif_data.iloc[:][vif_data[0] < 20].index]\n",
    "xAfterVif = xAfterVif.drop([\"90_target\"], axis=1)"
   ]
  },
  {
   "cell_type": "code",
   "execution_count": 65,
   "metadata": {},
   "outputs": [],
   "source": [
    "X_train, X_test, y_train, y_test = train_test_split(xAfterVif, y, \n",
    "                                                    test_size=0.30, \n",
    "                                                    random_state=42)"
   ]
  },
  {
   "cell_type": "code",
   "execution_count": 66,
   "metadata": {},
   "outputs": [],
   "source": [
    "cart_model = DecisionTreeRegressor(max_leaf_nodes=20)"
   ]
  },
  {
   "cell_type": "code",
   "execution_count": 67,
   "metadata": {},
   "outputs": [
    {
     "data": {
      "text/plain": [
       "DecisionTreeRegressor(max_leaf_nodes=20)"
      ]
     },
     "execution_count": 67,
     "metadata": {},
     "output_type": "execute_result"
    }
   ],
   "source": [
    "cart_model.fit(X_train, y_train)\n"
   ]
  },
  {
   "cell_type": "code",
   "execution_count": 68,
   "metadata": {},
   "outputs": [
    {
     "data": {
      "image/png": "[encoded data removed]",
      "text/plain": [
       "<Figure size 1080x1080 with 1 Axes>"
      ]
     },
     "metadata": {
      "needs_background": "light"
     },
     "output_type": "display_data"
    }
   ],
   "source": [
    "plt.figure(figsize=(15,15))\n",
    "tree.plot_tree(cart_model);"
   ]
  },
  {
   "cell_type": "code",
   "execution_count": 69,
   "metadata": {},
   "outputs": [],
   "source": [
    "y_pred =cart_model.predict(X_test)"
   ]
  },
  {
   "cell_type": "code",
   "execution_count": 70,
   "metadata": {},
   "outputs": [
    {
     "data": {
      "text/plain": [
       "31.352146674269882"
      ]
     },
     "execution_count": 70,
     "metadata": {},
     "output_type": "execute_result"
    }
   ],
   "source": [
    "np.sqrt(mean_squared_error(y_test, y_pred))"
   ]
  },
  {
   "cell_type": "code",
   "execution_count": null,
   "metadata": {},
   "outputs": [],
   "source": [
    "# üst tarafta 56 bağımsız değişkenle yapılmış model var ve mse 32.35 \n",
    "# alt tarafta bütün değişkenlerle yapılmış model var 130 değişkenle yani ve mse 31.64\n",
    "# çok yakın oldukları için 56 değişkenle yapmak datanın boyutunu azaltmamıza yardımcı olur."
   ]
  },
  {
   "cell_type": "code",
   "execution_count": 71,
   "metadata": {},
   "outputs": [],
   "source": [
    "X = df.drop([\"ind_420\", \"ind_422\", \"ind_109\", \"50_target\", \"20_target\", \"90_target\"], axis=1).astype('float64')\n",
    "y = df[\"90_target\"]"
   ]
  },
  {
   "cell_type": "code",
   "execution_count": 74,
   "metadata": {},
   "outputs": [],
   "source": [
    "X_train, X_test, y_train, y_test = train_test_split(X, y, \n",
    "                                                    test_size=0.30, \n",
    "                                                    random_state=42)"
   ]
  },
  {
   "cell_type": "code",
   "execution_count": 75,
   "metadata": {},
   "outputs": [
    {
     "data": {
      "text/plain": [
       "31.641056155439014"
      ]
     },
     "execution_count": 75,
     "metadata": {},
     "output_type": "execute_result"
    }
   ],
   "source": [
    "cart_model = DecisionTreeRegressor(max_leaf_nodes=20)\n",
    "cart_model.fit(X_train, y_train)\n",
    "y_pred =cart_model.predict(X_test)\n",
    "np.sqrt(mean_squared_error(y_test, y_pred))"
   ]
  },
  {
   "cell_type": "markdown",
   "metadata": {},
   "source": [
    "## Decision Tree Regression"
   ]
  },
  {
   "cell_type": "code",
   "execution_count": 27,
   "metadata": {},
   "outputs": [],
   "source": [
    "df = pd.read_csv(\"bank.csv\")\n",
    "df = df.dropna()"
   ]
  },
  {
   "cell_type": "code",
   "execution_count": 28,
   "metadata": {},
   "outputs": [],
   "source": [
    "dms = pd.get_dummies(df[[\"reason\", \"job\"]])\n",
    "\n",
    "y = df[\"bad\"]\n",
    "X_ = df.drop([\"reason\", \"job\", \"bad\"], axis=1).astype('float64')\n",
    "X = pd.concat([X_, dms], axis=1)\n",
    "X = X.dropna()\n",
    "X_train, X_test, y_train, y_test = train_test_split(X, y, test_size=0.25, random_state=42)"
   ]
  },
  {
   "cell_type": "code",
   "execution_count": 29,
   "metadata": {},
   "outputs": [
    {
     "data": {
      "text/plain": [
       "DecisionTreeRegressor()"
      ]
     },
     "execution_count": 29,
     "metadata": {},
     "output_type": "execute_result"
    }
   ],
   "source": [
    "cart_model = DecisionTreeRegressor()\n",
    "cart_model.fit(X_train, y_train)"
   ]
  },
  {
   "cell_type": "code",
   "execution_count": 30,
   "metadata": {},
   "outputs": [
    {
     "name": "stdout",
     "output_type": "stream",
     "text": [
      "((((((0.0 if x[1] <= 30859.0 else 1.0 if x[3] <= 6.5 else 0.0) if x[9] <= \n",
      "    32.76449966430664 else 0.0 if x[3] <= 1.5 else 1.0) if x[0] <= 9050.0 else\n",
      "    (((0.0 if x[4] <= 0.5 else 0.0 if x[8] <= 8.0 else 1.0) if x[2] <= \n",
      "    45602.0 else 0.0 if x[10] <= 0.5 else 1.0) if x[0] <= 12750.0 else 0.0 if\n",
      "    x[0] <= 39650.0 else 1.0) if x[9] <= 43.77349853515625 else 1.0) if x[2\n",
      "    ] <= 48600.0 else (1.0 if x[9] <= 37.44599914550781 else 0.0) if x[6] <=\n",
      "    44.345001220703125 else ((1.0 if x[8] <= 1.5 else ((((0.0 if x[6] <= \n",
      "    60.385000228881836 else 1.0) if x[13] <= 0.5 else 1.0) if x[6] <= \n",
      "    60.404998779296875 else ((((0.0 if x[0] <= 6850.0 else 1.0) if x[2] <= \n",
      "    58139.5 else (1.0 if x[1] <= 68316.0 else 0.0) if x[3] <= 1.5 else 0.0) if\n",
      "    x[2] <= 121579.0 else 0.0 if x[8] <= 22.5 else 1.0) if x[4] <= 0.5 else\n",
      "    0.0 if x[3] <= 5.5 else 1.0) if x[0] <= 6950.0 else (((((1.0 if x[9] <=\n",
      "    33.51150035858154 else 0.0) if x[1] <= 38380.5 else (0.0 if x[11] <= \n",
      "    0.5 else 1.0 if x[7] <= 1.0 else 0.0) if x[5] <= 0.5 else 1.0 if x[6] <=\n",
      "    75.35499954223633 else 0.0) if x[2] <= 83763.0 else 0.0 if x[9] <= \n",
      "    24.32099986076355 else 1.0) if x[1] <= 61462.5 else 1.0 if x[0] <= \n",
      "    10200.0 else 0.0 if x[6] <= 88.125 else 1.0) if x[2] <= 86023.5 else \n",
      "    0.0) if x[6] <= 95.79000091552734 else (((((1.0 if x[0] <= 10300.0 else\n",
      "    0.0 if x[9] <= 40.778499603271484 else 1.0) if x[7] <= 2.0 else 1.0) if\n",
      "    x[1] <= 42965.5 else 0.0 if x[0] <= 18350.0 else ((0.0 if x[9] <= \n",
      "    36.092498779296875 else 1.0 if x[9] <= 39.05950164794922 else 0.0) if x\n",
      "    [0] <= 18650.0 else ((1.0 if x[6] <= 157.54999542236328 else 0.0) if x[\n",
      "    8] <= 16.5 else 0.0) if x[8] <= 41.5 else 1.0 if x[4] <= 0.5 else 0.0) if\n",
      "    x[6] <= 323.1000061035156 else 1.0) if x[3] <= 3.5 else ((((0.0 if x[9] <=\n",
      "    34.61300086975098 else 1.0 if x[9] <= 34.65450096130371 else 0.0) if x[\n",
      "    0] <= 22700.0 else ((1.0 if x[11] <= 0.5 else 0.0) if x[0] <= 22850.0 else\n",
      "    0.0) if x[8] <= 33.5 else 1.0) if x[17] <= 0.5 else 1.0 if x[8] <= 14.0\n",
      "     else 0.0) if x[9] <= 35.932498931884766 else 1.0) if x[9] <= \n",
      "    35.974998474121094 else 0.0) if x[12] <= 0.5 else ((((0.0 if x[0] <= \n",
      "    20000.0 else 1.0) if x[9] <= 27.792499542236328 else 0.0) if x[4] <= \n",
      "    0.5 else 0.0 if x[2] <= 108953.5 else 1.0) if x[0] <= 44650.0 else 1.0) if\n",
      "    x[8] <= 30.0 else 1.0) if x[9] <= 43.70450019836426 else (1.0 if x[13] <=\n",
      "    0.5 else 0.0) if x[9] <= 44.61199951171875 else 0.0) if x[5] <= 1.5 else\n",
      "    (1.0 if x[0] <= 5400.0 else 0.0) if x[1] <= 73471.0 else 1.0 if x[9] <=\n",
      "    31.463000297546387 else (0.0 if x[9] <= 33.879499435424805 else 1.0) if\n",
      "    x[1] <= 85129.5 else 0.0 if x[3] <= 21.5 else 1.0) if x[8] <= 60.0 else\n",
      "    1.0) if x[7] <= 3.5 else (1.0 if x[2] <= 69583.0 else (0.0 if x[13] <= \n",
      "    0.5 else 0.0 if x[3] <= 15.5 else 1.0) if x[1] <= 107767.0 else (1.0 if\n",
      "    x[9] <= 36.91349983215332 else 0.0) if x[8] <= 20.0 else 1.0) if x[5] <=\n",
      "    0.5 else 1.0 if x[0] <= 23500.0 else 0.0) if x[2] <= 490456.0 else 1.0) if\n",
      "    x[5] <= 3.5 else 1.0 if x[8] <= 33.0 else 0.0 if x[11] <= 0.5 else 1.0) if\n",
      "    x[9] <= 45.48349952697754 else 1.0)\n",
      "\n"
     ]
    }
   ],
   "source": [
    "from skompiler import skompile\n",
    "print(skompile(cart_model.predict).to('python/code'))"
   ]
  },
  {
   "cell_type": "code",
   "execution_count": 32,
   "metadata": {},
   "outputs": [],
   "source": [
    "y_pred = cart_model.predict(X_test)"
   ]
  },
  {
   "cell_type": "code",
   "execution_count": 33,
   "metadata": {},
   "outputs": [
    {
     "data": {
      "text/plain": [
       "0.25172671021102105"
      ]
     },
     "execution_count": 33,
     "metadata": {},
     "output_type": "execute_result"
    }
   ],
   "source": [
    "np.sqrt(mean_squared_error(y_test, y_pred))"
   ]
  },
  {
   "cell_type": "code",
   "execution_count": 34,
   "metadata": {},
   "outputs": [],
   "source": [
    "\n",
    "cart_params = {\"min_samples_split\": range(2,30),\n",
    "               \"min_samples_leaf\": [10, 15, 20],\n",
    "               \"max_leaf_nodes\": range(4,8)\n",
    "}\n",
    "\n",
    "cart_cv_model = GridSearchCV(cart_model, cart_params, cv=10)"
   ]
  },
  {
   "cell_type": "code",
   "execution_count": 35,
   "metadata": {},
   "outputs": [
    {
     "data": {
      "text/plain": [
       "GridSearchCV(cv=10, estimator=DecisionTreeRegressor(),\n",
       "             param_grid={'max_leaf_nodes': range(4, 8),\n",
       "                         'min_samples_leaf': [10, 15, 20],\n",
       "                         'min_samples_split': range(2, 30)})"
      ]
     },
     "execution_count": 35,
     "metadata": {},
     "output_type": "execute_result"
    }
   ],
   "source": [
    "cart_cv_model.fit(X_train, y_train)"
   ]
  },
  {
   "cell_type": "code",
   "execution_count": 36,
   "metadata": {},
   "outputs": [
    {
     "data": {
      "text/plain": [
       "{'max_leaf_nodes': 7, 'min_samples_leaf': 10, 'min_samples_split': 2}"
      ]
     },
     "execution_count": 36,
     "metadata": {},
     "output_type": "execute_result"
    }
   ],
   "source": [
    "cart_cv_model.best_params_"
   ]
  },
  {
   "cell_type": "markdown",
   "metadata": {},
   "source": [
    "### Model Tuning"
   ]
  },
  {
   "cell_type": "code",
   "execution_count": 37,
   "metadata": {},
   "outputs": [],
   "source": [
    "cart_tuned = DecisionTreeRegressor(max_leaf_nodes= 7, min_samples_leaf= 10, min_samples_split= 2)"
   ]
  },
  {
   "cell_type": "code",
   "execution_count": 38,
   "metadata": {},
   "outputs": [
    {
     "data": {
      "text/plain": [
       "DecisionTreeRegressor(max_leaf_nodes=7, min_samples_leaf=10)"
      ]
     },
     "execution_count": 38,
     "metadata": {},
     "output_type": "execute_result"
    }
   ],
   "source": [
    "cart_tuned.fit(X_train, y_train)"
   ]
  },
  {
   "cell_type": "code",
   "execution_count": 39,
   "metadata": {},
   "outputs": [],
   "source": [
    "y_pred = cart_tuned.predict(X_test)"
   ]
  },
  {
   "cell_type": "code",
   "execution_count": 40,
   "metadata": {},
   "outputs": [
    {
     "data": {
      "text/plain": [
       "0.21681149554800838"
      ]
     },
     "execution_count": 40,
     "metadata": {},
     "output_type": "execute_result"
    }
   ],
   "source": [
    "np.sqrt(mean_squared_error(y_test, y_pred))"
   ]
  },
  {
   "cell_type": "code",
   "execution_count": 41,
   "metadata": {},
   "outputs": [
    {
     "data": {
      "image/png": "[encoded data removed]",
      "text/plain": [
       "<Figure size 1080x1080 with 1 Axes>"
      ]
     },
     "metadata": {
      "needs_background": "light"
     },
     "output_type": "display_data"
    }
   ],
   "source": [
    "plt.figure(figsize=(15, 15))\n",
    "tree.plot_tree(cart_tuned);"
   ]
  },
  {
   "cell_type": "code",
   "execution_count": 81,
   "metadata": {},
   "outputs": [],
   "source": [
    "# 1377 samples'da ortalama 0,054'se 1377*0,054=74,358 tahmini 75 adet \"1\" bulunuyor. yani bad sayısı."
   ]
  },
  {
   "cell_type": "markdown",
   "metadata": {},
   "source": [
    "## Random Forests"
   ]
  },
  {
   "cell_type": "code",
   "execution_count": 47,
   "metadata": {},
   "outputs": [],
   "source": [
    "bank = pd.read_csv(\"bank.csv\")\n",
    "df = bank.copy()\n",
    "df = df.dropna()\n",
    "y = df[\"bad\"]\n",
    "X = df.drop([\"bad\", \"reason\", \"job\"], axis=1)\n",
    "X = pd.DataFrame(X)\n",
    "X_train, X_test, y_train, y_test = train_test_split(X, y, test_size=0.3, random_state=42)"
   ]
  },
  {
   "cell_type": "code",
   "execution_count": 48,
   "metadata": {},
   "outputs": [
    {
     "data": {
      "text/plain": [
       "((1412, 10), (1412,), (606, 10), (606,))"
      ]
     },
     "execution_count": 48,
     "metadata": {},
     "output_type": "execute_result"
    }
   ],
   "source": [
    "X_train.shape , y_train.shape , X_test.shape , y_test.shape"
   ]
  },
  {
   "cell_type": "code",
   "execution_count": 49,
   "metadata": {},
   "outputs": [],
   "source": [
    "from sklearn.ensemble import RandomForestClassifier\n",
    "rf_model = RandomForestClassifier().fit(X_train, y_train)"
   ]
  },
  {
   "cell_type": "code",
   "execution_count": 51,
   "metadata": {},
   "outputs": [
    {
     "data": {
      "text/plain": [
       "RandomForestClassifier()"
      ]
     },
     "execution_count": 51,
     "metadata": {},
     "output_type": "execute_result"
    }
   ],
   "source": [
    "from sklearn.ensemble import RandomForestClassifier\n",
    "rf_model = RandomForestClassifier().fit(X_train, y_train)\n",
    "rf_model"
   ]
  },
  {
   "cell_type": "code",
   "execution_count": 52,
   "metadata": {},
   "outputs": [],
   "source": [
    "y_pred = rf_model.predict(X_test)"
   ]
  },
  {
   "cell_type": "code",
   "execution_count": 53,
   "metadata": {},
   "outputs": [
    {
     "data": {
      "text/plain": [
       "0.9521452145214522"
      ]
     },
     "execution_count": 53,
     "metadata": {},
     "output_type": "execute_result"
    }
   ],
   "source": [
    "accuracy_score(y_test, y_pred)"
   ]
  },
  {
   "cell_type": "code",
   "execution_count": 54,
   "metadata": {},
   "outputs": [],
   "source": [
    "cart_grid = {\"max_depth\": [2,3,4],\n",
    "             \"min_samples_split\": list(range(2,50))\n",
    "}"
   ]
  },
  {
   "cell_type": "code",
   "execution_count": 55,
   "metadata": {},
   "outputs": [
    {
     "name": "stdout",
     "output_type": "stream",
     "text": [
      "Fitting 10 folds for each of 144 candidates, totalling 1440 fits\n"
     ]
    },
    {
     "name": "stderr",
     "output_type": "stream",
     "text": [
      "[Parallel(n_jobs=-1)]: Using backend LokyBackend with 4 concurrent workers.\n",
      "[Parallel(n_jobs=-1)]: Done  34 tasks      | elapsed:    2.9s\n",
      "[Parallel(n_jobs=-1)]: Done 1440 out of 1440 | elapsed:    9.1s finished\n"
     ]
    }
   ],
   "source": [
    "cart = DecisionTreeClassifier()\n",
    "cart_cv = GridSearchCV(cart, cart_grid, cv=10, n_jobs=-1, verbose=2)\n",
    "cart_cv_model = cart_cv.fit(X_train, y_train)"
   ]
  },
  {
   "cell_type": "code",
   "execution_count": 56,
   "metadata": {},
   "outputs": [
    {
     "name": "stdout",
     "output_type": "stream",
     "text": [
      "en iyi parametreler: {'max_depth': 2, 'min_samples_split': 37}\n"
     ]
    }
   ],
   "source": [
    "print(\"en iyi parametreler: \" + str(cart_cv_model.best_params_))"
   ]
  },
  {
   "cell_type": "markdown",
   "metadata": {},
   "source": [
    "### Model Tuning"
   ]
  },
  {
   "cell_type": "code",
   "execution_count": 57,
   "metadata": {},
   "outputs": [],
   "source": [
    "rf_params = {\"max_depth\": [2,5,8,10],\n",
    "             \"max_features\": [2,5,8],\n",
    "             \"n_estimators\": [10,50,100,],\n",
    "             \"min_samples_split\": [5,10]\n",
    "}"
   ]
  },
  {
   "cell_type": "code",
   "execution_count": 58,
   "metadata": {},
   "outputs": [
    {
     "name": "stdout",
     "output_type": "stream",
     "text": [
      "Fitting 10 folds for each of 72 candidates, totalling 720 fits\n"
     ]
    },
    {
     "name": "stderr",
     "output_type": "stream",
     "text": [
      "[Parallel(n_jobs=-1)]: Using backend LokyBackend with 4 concurrent workers.\n",
      "[Parallel(n_jobs=-1)]: Done  33 tasks      | elapsed:    4.7s\n",
      "[Parallel(n_jobs=-1)]: Done 154 tasks      | elapsed:   14.7s\n",
      "[Parallel(n_jobs=-1)]: Done 357 tasks      | elapsed:   34.3s\n",
      "[Parallel(n_jobs=-1)]: Done 640 tasks      | elapsed:  1.0min\n",
      "[Parallel(n_jobs=-1)]: Done 720 out of 720 | elapsed:  1.2min finished\n"
     ]
    },
    {
     "data": {
      "text/plain": [
       "GridSearchCV(cv=10, estimator=RandomForestClassifier(), n_jobs=-1,\n",
       "             param_grid={'max_depth': [2, 5, 8, 10], 'max_features': [2, 5, 8],\n",
       "                         'min_samples_split': [5, 10],\n",
       "                         'n_estimators': [10, 50, 100]},\n",
       "             verbose=2)"
      ]
     },
     "execution_count": 58,
     "metadata": {},
     "output_type": "execute_result"
    }
   ],
   "source": [
    "rf_model = RandomForestClassifier()\n",
    "\n",
    "rf_cv_model = GridSearchCV(rf_model, rf_params, cv=10, n_jobs=-1, verbose=2)\n",
    "rf_cv_model.fit(X_train, y_train)"
   ]
  },
  {
   "cell_type": "code",
   "execution_count": 59,
   "metadata": {},
   "outputs": [
    {
     "name": "stdout",
     "output_type": "stream",
     "text": [
      "en iyi parametreler: {'max_depth': 10, 'max_features': 5, 'min_samples_split': 5, 'n_estimators': 10}\n"
     ]
    }
   ],
   "source": [
    "print(\"en iyi parametreler: \" + str(rf_cv_model.best_params_))"
   ]
  },
  {
   "cell_type": "code",
   "execution_count": 60,
   "metadata": {},
   "outputs": [
    {
     "data": {
      "text/plain": [
       "RandomForestClassifier(max_depth=10, max_features=5, min_samples_split=5,\n",
       "                       n_estimators=10)"
      ]
     },
     "execution_count": 60,
     "metadata": {},
     "output_type": "execute_result"
    }
   ],
   "source": [
    "rf_tuned = RandomForestClassifier(max_depth=10, max_features=5, min_samples_split=5, n_estimators=10)\n",
    "rf_tuned.fit(X_train, y_train)"
   ]
  },
  {
   "cell_type": "code",
   "execution_count": 61,
   "metadata": {},
   "outputs": [
    {
     "data": {
      "text/plain": [
       "0.9455445544554455"
      ]
     },
     "execution_count": 61,
     "metadata": {},
     "output_type": "execute_result"
    }
   ],
   "source": [
    "y_pred = rf_tuned.predict(X_test)\n",
    "accuracy_score(y_test, y_pred)"
   ]
  },
  {
   "cell_type": "markdown",
   "metadata": {},
   "source": [
    "### Importance grafikleri"
   ]
  },
  {
   "cell_type": "code",
   "execution_count": 62,
   "metadata": {},
   "outputs": [],
   "source": [
    "Importance = pd.DataFrame({\"Importance\":rf_tuned.feature_importances_*100}, index=X_train.columns)"
   ]
  },
  {
   "cell_type": "code",
   "execution_count": 63,
   "metadata": {},
   "outputs": [
    {
     "data": {
      "text/plain": [
       "Text(0.5, 0, 'Değişken Önem Düzeyleri')"
      ]
     },
     "execution_count": 63,
     "metadata": {},
     "output_type": "execute_result"
    },
    {
     "data": {
      "image/png": "[encoded data removed]",
      "text/plain": [
       "<Figure size 432x288 with 1 Axes>"
      ]
     },
     "metadata": {
      "needs_background": "light"
     },
     "output_type": "display_data"
    }
   ],
   "source": [
    "Importance.sort_values(by='Importance', axis=0, ascending=True).plot(kind='barh', color='r')\n",
    "plt.xlabel(\"Değişken Önem Düzeyleri\")"
   ]
  },
  {
   "cell_type": "markdown",
   "metadata": {},
   "source": [
    "## Random Forest Regression"
   ]
  },
  {
   "cell_type": "code",
   "execution_count": 66,
   "metadata": {},
   "outputs": [],
   "source": [
    "data = pd.read_excel(\"dataset.xlsx\")\n",
    "df = data.copy()\n",
    "df = df.dropna()"
   ]
  },
  {
   "cell_type": "code",
   "execution_count": 67,
   "metadata": {},
   "outputs": [
    {
     "data": {
      "text/html": [
       "<div>\n",
       "<style scoped>\n",
       "    .dataframe tbody tr th:only-of-type {\n",
       "        vertical-align: middle;\n",
       "    }\n",
       "\n",
       "    .dataframe tbody tr th {\n",
       "        vertical-align: top;\n",
       "    }\n",
       "\n",
       "    .dataframe thead th {\n",
       "        text-align: right;\n",
       "    }\n",
       "</style>\n",
       "<table border=\"1\" class=\"dataframe\">\n",
       "  <thead>\n",
       "    <tr style=\"text-align: right;\">\n",
       "      <th></th>\n",
       "      <th>ind_5</th>\n",
       "      <th>ind_6</th>\n",
       "      <th>ind_8</th>\n",
       "      <th>ind_9</th>\n",
       "      <th>ind_10</th>\n",
       "      <th>ind_12</th>\n",
       "      <th>ind_13</th>\n",
       "      <th>ind_14</th>\n",
       "      <th>ind_15</th>\n",
       "      <th>ind_16</th>\n",
       "      <th>...</th>\n",
       "      <th>ind_416</th>\n",
       "      <th>ind_418</th>\n",
       "      <th>ind_420</th>\n",
       "      <th>ind_422</th>\n",
       "      <th>ind_424</th>\n",
       "      <th>ind_426</th>\n",
       "      <th>ind_428</th>\n",
       "      <th>20_target</th>\n",
       "      <th>50_target</th>\n",
       "      <th>90_target</th>\n",
       "    </tr>\n",
       "  </thead>\n",
       "  <tbody>\n",
       "    <tr>\n",
       "      <th>0</th>\n",
       "      <td>19</td>\n",
       "      <td>17</td>\n",
       "      <td>100.000000</td>\n",
       "      <td>85.714286</td>\n",
       "      <td>14.285714</td>\n",
       "      <td>72.363515</td>\n",
       "      <td>60.808814</td>\n",
       "      <td>23.80</td>\n",
       "      <td>17.62</td>\n",
       "      <td>11.73</td>\n",
       "      <td>...</td>\n",
       "      <td>-49.6</td>\n",
       "      <td>-54</td>\n",
       "      <td>-152</td>\n",
       "      <td>-353</td>\n",
       "      <td>1.000000</td>\n",
       "      <td>0.498547</td>\n",
       "      <td>0.701906</td>\n",
       "      <td>15.135802</td>\n",
       "      <td>35.625252</td>\n",
       "      <td>36.997753</td>\n",
       "    </tr>\n",
       "    <tr>\n",
       "      <th>1</th>\n",
       "      <td>24</td>\n",
       "      <td>19</td>\n",
       "      <td>100.000000</td>\n",
       "      <td>78.571429</td>\n",
       "      <td>21.428571</td>\n",
       "      <td>74.275883</td>\n",
       "      <td>64.366798</td>\n",
       "      <td>11.45</td>\n",
       "      <td>18.16</td>\n",
       "      <td>12.22</td>\n",
       "      <td>...</td>\n",
       "      <td>-55.6</td>\n",
       "      <td>-60</td>\n",
       "      <td>-158</td>\n",
       "      <td>-359</td>\n",
       "      <td>1.000000</td>\n",
       "      <td>0.537088</td>\n",
       "      <td>0.690833</td>\n",
       "      <td>15.143348</td>\n",
       "      <td>35.643013</td>\n",
       "      <td>37.016198</td>\n",
       "    </tr>\n",
       "    <tr>\n",
       "      <th>2</th>\n",
       "      <td>30</td>\n",
       "      <td>24</td>\n",
       "      <td>100.000000</td>\n",
       "      <td>71.428571</td>\n",
       "      <td>28.571429</td>\n",
       "      <td>75.140402</td>\n",
       "      <td>65.915803</td>\n",
       "      <td>8.75</td>\n",
       "      <td>17.86</td>\n",
       "      <td>12.28</td>\n",
       "      <td>...</td>\n",
       "      <td>-58.4</td>\n",
       "      <td>-60</td>\n",
       "      <td>-160</td>\n",
       "      <td>-362</td>\n",
       "      <td>1.000000</td>\n",
       "      <td>0.615169</td>\n",
       "      <td>0.693040</td>\n",
       "      <td>15.146870</td>\n",
       "      <td>35.651301</td>\n",
       "      <td>-37.024805</td>\n",
       "    </tr>\n",
       "    <tr>\n",
       "      <th>3</th>\n",
       "      <td>37</td>\n",
       "      <td>30</td>\n",
       "      <td>100.000000</td>\n",
       "      <td>64.285714</td>\n",
       "      <td>35.714286</td>\n",
       "      <td>76.677846</td>\n",
       "      <td>68.584234</td>\n",
       "      <td>7.80</td>\n",
       "      <td>14.76</td>\n",
       "      <td>12.61</td>\n",
       "      <td>...</td>\n",
       "      <td>-61.8</td>\n",
       "      <td>-65</td>\n",
       "      <td>-166</td>\n",
       "      <td>-367</td>\n",
       "      <td>1.000000</td>\n",
       "      <td>0.661517</td>\n",
       "      <td>0.673418</td>\n",
       "      <td>15.153283</td>\n",
       "      <td>0.000000</td>\n",
       "      <td>-37.040483</td>\n",
       "    </tr>\n",
       "    <tr>\n",
       "      <th>4</th>\n",
       "      <td>41</td>\n",
       "      <td>37</td>\n",
       "      <td>100.000000</td>\n",
       "      <td>57.142857</td>\n",
       "      <td>42.857143</td>\n",
       "      <td>81.603007</td>\n",
       "      <td>76.455495</td>\n",
       "      <td>14.90</td>\n",
       "      <td>11.92</td>\n",
       "      <td>14.25</td>\n",
       "      <td>...</td>\n",
       "      <td>-79.8</td>\n",
       "      <td>-86</td>\n",
       "      <td>-186</td>\n",
       "      <td>-388</td>\n",
       "      <td>1.000000</td>\n",
       "      <td>0.747204</td>\n",
       "      <td>0.700522</td>\n",
       "      <td>-15.179065</td>\n",
       "      <td>-35.727079</td>\n",
       "      <td>-37.103503</td>\n",
       "    </tr>\n",
       "    <tr>\n",
       "      <th>...</th>\n",
       "      <td>...</td>\n",
       "      <td>...</td>\n",
       "      <td>...</td>\n",
       "      <td>...</td>\n",
       "      <td>...</td>\n",
       "      <td>...</td>\n",
       "      <td>...</td>\n",
       "      <td>...</td>\n",
       "      <td>...</td>\n",
       "      <td>...</td>\n",
       "      <td>...</td>\n",
       "      <td>...</td>\n",
       "      <td>...</td>\n",
       "      <td>...</td>\n",
       "      <td>...</td>\n",
       "      <td>...</td>\n",
       "      <td>...</td>\n",
       "      <td>...</td>\n",
       "      <td>...</td>\n",
       "      <td>...</td>\n",
       "      <td>...</td>\n",
       "    </tr>\n",
       "    <tr>\n",
       "      <th>6162</th>\n",
       "      <td>27</td>\n",
       "      <td>31</td>\n",
       "      <td>57.142857</td>\n",
       "      <td>28.571429</td>\n",
       "      <td>28.571429</td>\n",
       "      <td>60.010531</td>\n",
       "      <td>32.362582</td>\n",
       "      <td>9.70</td>\n",
       "      <td>9.38</td>\n",
       "      <td>13.66</td>\n",
       "      <td>...</td>\n",
       "      <td>-28.2</td>\n",
       "      <td>-40</td>\n",
       "      <td>-11</td>\n",
       "      <td>-270</td>\n",
       "      <td>0.270270</td>\n",
       "      <td>0.840000</td>\n",
       "      <td>0.600846</td>\n",
       "      <td>14.673247</td>\n",
       "      <td>-34.536532</td>\n",
       "      <td>-35.867088</td>\n",
       "    </tr>\n",
       "    <tr>\n",
       "      <th>6163</th>\n",
       "      <td>22</td>\n",
       "      <td>27</td>\n",
       "      <td>50.000000</td>\n",
       "      <td>21.428571</td>\n",
       "      <td>28.571429</td>\n",
       "      <td>60.209998</td>\n",
       "      <td>32.914628</td>\n",
       "      <td>7.65</td>\n",
       "      <td>8.84</td>\n",
       "      <td>11.79</td>\n",
       "      <td>...</td>\n",
       "      <td>-28.6</td>\n",
       "      <td>-41</td>\n",
       "      <td>-12</td>\n",
       "      <td>-271</td>\n",
       "      <td>0.000000</td>\n",
       "      <td>0.737470</td>\n",
       "      <td>0.527673</td>\n",
       "      <td>14.673750</td>\n",
       "      <td>-34.537716</td>\n",
       "      <td>-35.868318</td>\n",
       "    </tr>\n",
       "    <tr>\n",
       "      <th>6164</th>\n",
       "      <td>19</td>\n",
       "      <td>22</td>\n",
       "      <td>42.857143</td>\n",
       "      <td>14.285714</td>\n",
       "      <td>28.571429</td>\n",
       "      <td>64.329611</td>\n",
       "      <td>43.550592</td>\n",
       "      <td>8.95</td>\n",
       "      <td>9.06</td>\n",
       "      <td>10.30</td>\n",
       "      <td>...</td>\n",
       "      <td>-37.2</td>\n",
       "      <td>-49</td>\n",
       "      <td>-21</td>\n",
       "      <td>-280</td>\n",
       "      <td>0.769231</td>\n",
       "      <td>0.632107</td>\n",
       "      <td>0.551759</td>\n",
       "      <td>-14.684566</td>\n",
       "      <td>-34.563173</td>\n",
       "      <td>-35.894755</td>\n",
       "    </tr>\n",
       "    <tr>\n",
       "      <th>6165</th>\n",
       "      <td>19</td>\n",
       "      <td>19</td>\n",
       "      <td>100.000000</td>\n",
       "      <td>7.142857</td>\n",
       "      <td>92.857143</td>\n",
       "      <td>69.027764</td>\n",
       "      <td>54.130755</td>\n",
       "      <td>13.55</td>\n",
       "      <td>10.36</td>\n",
       "      <td>10.55</td>\n",
       "      <td>...</td>\n",
       "      <td>-48.9</td>\n",
       "      <td>-61</td>\n",
       "      <td>-33</td>\n",
       "      <td>-292</td>\n",
       "      <td>1.000000</td>\n",
       "      <td>0.733010</td>\n",
       "      <td>0.591584</td>\n",
       "      <td>-14.699280</td>\n",
       "      <td>-34.597806</td>\n",
       "      <td>-35.930723</td>\n",
       "    </tr>\n",
       "    <tr>\n",
       "      <th>6166</th>\n",
       "      <td>19</td>\n",
       "      <td>19</td>\n",
       "      <td>92.857143</td>\n",
       "      <td>0.000000</td>\n",
       "      <td>92.857143</td>\n",
       "      <td>65.157180</td>\n",
       "      <td>45.524973</td>\n",
       "      <td>11.45</td>\n",
       "      <td>10.16</td>\n",
       "      <td>9.68</td>\n",
       "      <td>...</td>\n",
       "      <td>-44.0</td>\n",
       "      <td>-56</td>\n",
       "      <td>-28</td>\n",
       "      <td>-288</td>\n",
       "      <td>1.000000</td>\n",
       "      <td>0.687500</td>\n",
       "      <td>0.593936</td>\n",
       "      <td>-14.693117</td>\n",
       "      <td>-34.583301</td>\n",
       "      <td>-35.915659</td>\n",
       "    </tr>\n",
       "  </tbody>\n",
       "</table>\n",
       "<p>6167 rows × 136 columns</p>\n",
       "</div>"
      ],
      "text/plain": [
       "      ind_5  ind_6       ind_8      ind_9     ind_10     ind_12     ind_13  \\\n",
       "0        19     17  100.000000  85.714286  14.285714  72.363515  60.808814   \n",
       "1        24     19  100.000000  78.571429  21.428571  74.275883  64.366798   \n",
       "2        30     24  100.000000  71.428571  28.571429  75.140402  65.915803   \n",
       "3        37     30  100.000000  64.285714  35.714286  76.677846  68.584234   \n",
       "4        41     37  100.000000  57.142857  42.857143  81.603007  76.455495   \n",
       "...     ...    ...         ...        ...        ...        ...        ...   \n",
       "6162     27     31   57.142857  28.571429  28.571429  60.010531  32.362582   \n",
       "6163     22     27   50.000000  21.428571  28.571429  60.209998  32.914628   \n",
       "6164     19     22   42.857143  14.285714  28.571429  64.329611  43.550592   \n",
       "6165     19     19  100.000000   7.142857  92.857143  69.027764  54.130755   \n",
       "6166     19     19   92.857143   0.000000  92.857143  65.157180  45.524973   \n",
       "\n",
       "      ind_14  ind_15  ind_16  ...  ind_416  ind_418  ind_420  ind_422  \\\n",
       "0      23.80   17.62   11.73  ...    -49.6      -54     -152     -353   \n",
       "1      11.45   18.16   12.22  ...    -55.6      -60     -158     -359   \n",
       "2       8.75   17.86   12.28  ...    -58.4      -60     -160     -362   \n",
       "3       7.80   14.76   12.61  ...    -61.8      -65     -166     -367   \n",
       "4      14.90   11.92   14.25  ...    -79.8      -86     -186     -388   \n",
       "...      ...     ...     ...  ...      ...      ...      ...      ...   \n",
       "6162    9.70    9.38   13.66  ...    -28.2      -40      -11     -270   \n",
       "6163    7.65    8.84   11.79  ...    -28.6      -41      -12     -271   \n",
       "6164    8.95    9.06   10.30  ...    -37.2      -49      -21     -280   \n",
       "6165   13.55   10.36   10.55  ...    -48.9      -61      -33     -292   \n",
       "6166   11.45   10.16    9.68  ...    -44.0      -56      -28     -288   \n",
       "\n",
       "       ind_424   ind_426   ind_428  20_target  50_target  90_target  \n",
       "0     1.000000  0.498547  0.701906  15.135802  35.625252  36.997753  \n",
       "1     1.000000  0.537088  0.690833  15.143348  35.643013  37.016198  \n",
       "2     1.000000  0.615169  0.693040  15.146870  35.651301 -37.024805  \n",
       "3     1.000000  0.661517  0.673418  15.153283   0.000000 -37.040483  \n",
       "4     1.000000  0.747204  0.700522 -15.179065 -35.727079 -37.103503  \n",
       "...        ...       ...       ...        ...        ...        ...  \n",
       "6162  0.270270  0.840000  0.600846  14.673247 -34.536532 -35.867088  \n",
       "6163  0.000000  0.737470  0.527673  14.673750 -34.537716 -35.868318  \n",
       "6164  0.769231  0.632107  0.551759 -14.684566 -34.563173 -35.894755  \n",
       "6165  1.000000  0.733010  0.591584 -14.699280 -34.597806 -35.930723  \n",
       "6166  1.000000  0.687500  0.593936 -14.693117 -34.583301 -35.915659  \n",
       "\n",
       "[6167 rows x 136 columns]"
      ]
     },
     "execution_count": 67,
     "metadata": {},
     "output_type": "execute_result"
    }
   ],
   "source": [
    "df"
   ]
  },
  {
   "cell_type": "code",
   "execution_count": 71,
   "metadata": {},
   "outputs": [
    {
     "name": "stdout",
     "output_type": "stream",
     "text": [
      "<class 'pandas.core.frame.DataFrame'>\n",
      "Int64Index: 6167 entries, 0 to 6166\n",
      "Columns: 136 entries, ind_5 to 90_target\n",
      "dtypes: float64(88), int64(45), object(3)\n",
      "memory usage: 6.4+ MB\n"
     ]
    }
   ],
   "source": [
    "df.info()"
   ]
  },
  {
   "cell_type": "code",
   "execution_count": 72,
   "metadata": {},
   "outputs": [],
   "source": [
    "dms = pd.get_dummies(df['ind_109'])\n",
    "y = df[\"90_target\"]\n",
    "X_ = df.drop(['90_target','20_target', '50_target', 'ind_109', 'ind_420', 'ind_422'], axis=1).astype(\"float64\")\n",
    "X=pd.concat([X_,dms], axis=1)\n",
    "\n",
    "X_train, X_test, y_train, y_test = train_test_split(X, y, test_size=0.30, random_state=42)"
   ]
  },
  {
   "cell_type": "code",
   "execution_count": 73,
   "metadata": {},
   "outputs": [],
   "source": [
    "rf_model_reg = RandomForestRegressor(random_state=42)"
   ]
  },
  {
   "cell_type": "code",
   "execution_count": 74,
   "metadata": {},
   "outputs": [
    {
     "data": {
      "text/plain": [
       "RandomForestRegressor(random_state=42)"
      ]
     },
     "execution_count": 74,
     "metadata": {},
     "output_type": "execute_result"
    }
   ],
   "source": [
    "rf_model_reg.fit(X_train, y_train)"
   ]
  },
  {
   "cell_type": "markdown",
   "metadata": {},
   "source": [
    "### Tahmin"
   ]
  },
  {
   "cell_type": "code",
   "execution_count": 75,
   "metadata": {},
   "outputs": [
    {
     "data": {
      "text/plain": [
       "array([-37.88943449,  35.95791951, -38.05391574, -22.22326004,\n",
       "        18.2997835 ])"
      ]
     },
     "execution_count": 75,
     "metadata": {},
     "output_type": "execute_result"
    }
   ],
   "source": [
    "rf_model_reg.predict(X_test)[:5]"
   ]
  },
  {
   "cell_type": "code",
   "execution_count": 76,
   "metadata": {},
   "outputs": [],
   "source": [
    "y_pred = rf_model_reg.predict(X_test)"
   ]
  },
  {
   "cell_type": "code",
   "execution_count": 77,
   "metadata": {},
   "outputs": [
    {
     "data": {
      "text/plain": [
       "16.011127534421092"
      ]
     },
     "execution_count": 77,
     "metadata": {},
     "output_type": "execute_result"
    }
   ],
   "source": [
    "np.sqrt(mean_squared_error(y_test, y_pred))"
   ]
  },
  {
   "cell_type": "code",
   "execution_count": 132,
   "metadata": {},
   "outputs": [],
   "source": [
    "Importance = pd.DataFrame({\"Importance\":rf_model_reg.feature_importances_*100}, index=X_train.columns)"
   ]
  },
  {
   "cell_type": "code",
   "execution_count": 133,
   "metadata": {},
   "outputs": [
    {
     "data": {
      "text/plain": [
       "Text(0.5, 0, 'Değişken Önem Düzeyleri')"
      ]
     },
     "execution_count": 133,
     "metadata": {},
     "output_type": "execute_result"
    },
    {
     "data": {
      "image/png": "[encoded data removed]",
      "text/plain": [
       "<Figure size 432x288 with 1 Axes>"
      ]
     },
     "metadata": {
      "needs_background": "light"
     },
     "output_type": "display_data"
    }
   ],
   "source": [
    "Importance.sort_values(by='Importance', axis=0, ascending=True).iloc[-10:,:].plot(kind='barh', color='r')\n",
    "plt.xlabel(\"Değişken Önem Düzeyleri\")"
   ]
  },
  {
   "cell_type": "markdown",
   "metadata": {},
   "source": [
    "### model tuning"
   ]
  },
  {
   "cell_type": "code",
   "execution_count": 98,
   "metadata": {},
   "outputs": [
    {
     "name": "stdout",
     "output_type": "stream",
     "text": [
      "Fitting 10 folds for each of 108 candidates, totalling 1080 fits\n"
     ]
    },
    {
     "name": "stderr",
     "output_type": "stream",
     "text": [
      "[Parallel(n_jobs=-1)]: Using backend LokyBackend with 4 concurrent workers.\n",
      "[Parallel(n_jobs=-1)]: Done  58 tasks      | elapsed:    2.6s\n",
      "[Parallel(n_jobs=-1)]: Done 300 tasks      | elapsed:   18.7s\n",
      "[Parallel(n_jobs=-1)]: Done 633 tasks      | elapsed:   50.6s\n",
      "[Parallel(n_jobs=-1)]: Done 916 tasks      | elapsed:  1.4min\n",
      "[Parallel(n_jobs=-1)]: Done 1080 out of 1080 | elapsed:  1.8min finished\n"
     ]
    },
    {
     "data": {
      "text/plain": [
       "GridSearchCV(cv=10, estimator=RandomForestRegressor(random_state=42), n_jobs=-1,\n",
       "             param_grid={'max_depth': [1, 2, 3, 4, 5, 6, 7, 8, 9],\n",
       "                         'max_features': [3, 5, 7, 9],\n",
       "                         'n_estimators': [10, 20, 50]},\n",
       "             verbose=2)"
      ]
     },
     "execution_count": 98,
     "metadata": {},
     "output_type": "execute_result"
    }
   ],
   "source": [
    "rfr_params = {\"max_depth\": list(range(1,10)),\n",
    "              \"max_features\": [3,5,7,9],\n",
    "              \"n_estimators\": [10,20,50]}\n",
    "rfr_model = RandomForestRegressor(random_state=42)\n",
    "\n",
    "rfr_cv_model = GridSearchCV(rfr_model, \n",
    "                           rfr_params, \n",
    "                           cv=10, \n",
    "                           n_jobs=-1, \n",
    "                           verbose=2)\n",
    "rfr_cv_model.fit(X_train, y_train)"
   ]
  },
  {
   "cell_type": "code",
   "execution_count": 99,
   "metadata": {},
   "outputs": [
    {
     "data": {
      "text/plain": [
       "{'max_depth': 9, 'max_features': 9, 'n_estimators': 50}"
      ]
     },
     "execution_count": 99,
     "metadata": {},
     "output_type": "execute_result"
    }
   ],
   "source": [
    "rfr_cv_model.best_params_"
   ]
  },
  {
   "cell_type": "code",
   "execution_count": 100,
   "metadata": {},
   "outputs": [],
   "source": [
    "rf_tuned = RandomForestRegressor(max_depth=9, max_features=9, n_estimators=50)"
   ]
  },
  {
   "cell_type": "code",
   "execution_count": 101,
   "metadata": {},
   "outputs": [
    {
     "data": {
      "text/plain": [
       "RandomForestRegressor(max_depth=9, max_features=9, n_estimators=50)"
      ]
     },
     "execution_count": 101,
     "metadata": {},
     "output_type": "execute_result"
    }
   ],
   "source": [
    "rf_tuned.fit(X_train, y_train)"
   ]
  },
  {
   "cell_type": "code",
   "execution_count": 102,
   "metadata": {},
   "outputs": [],
   "source": [
    "y_pred = rf_tuned.predict(X_test)"
   ]
  },
  {
   "cell_type": "code",
   "execution_count": 103,
   "metadata": {},
   "outputs": [
    {
     "data": {
      "text/plain": [
       "24.950382169698425"
      ]
     },
     "execution_count": 103,
     "metadata": {},
     "output_type": "execute_result"
    }
   ],
   "source": [
    "np.sqrt(mean_squared_error(y_test, y_pred))"
   ]
  },
  {
   "cell_type": "code",
   "execution_count": 131,
   "metadata": {},
   "outputs": [
    {
     "data": {
      "text/plain": [
       "Text(0.5, 0, 'Değişken Önem Düzeyleri')"
      ]
     },
     "execution_count": 131,
     "metadata": {},
     "output_type": "execute_result"
    },
    {
     "data": {
      "image/png": "[encoded data removed]",
      "text/plain": [
       "<Figure size 432x288 with 1 Axes>"
      ]
     },
     "metadata": {
      "needs_background": "light"
     },
     "output_type": "display_data"
    }
   ],
   "source": [
    "Importance = pd.DataFrame({\"Importance\":rf_tuned.feature_importances_*100}, index=X_train.columns)\n",
    "Importance.sort_values(by='Importance', axis=0, ascending=True).iloc[-10:,:].plot(kind='barh', color='r')\n",
    "plt.xlabel(\"Değişken Önem Düzeyleri\")"
   ]
  },
  {
   "cell_type": "markdown",
   "metadata": {},
   "source": [
    "## Neural Network"
   ]
  },
  {
   "cell_type": "code",
   "execution_count": 27,
   "metadata": {},
   "outputs": [],
   "source": [
    "data = pd.read_excel(\"dataset.xlsx\")\n",
    "df = data.copy()\n",
    "df = df.dropna()\n",
    "dms = pd.get_dummies(df['ind_109'])\n",
    "y = df[\"90_target\"]\n",
    "X_ = df.drop(['90_target','20_target', '50_target', 'ind_109', 'ind_420', 'ind_422'], axis=1).astype(\"float64\")\n",
    "X=pd.concat([X_,dms], axis=1)\n",
    "\n",
    "X_train, X_test, y_train, y_test = train_test_split(X, y, test_size=0.30, random_state=42)"
   ]
  },
  {
   "cell_type": "code",
   "execution_count": 4,
   "metadata": {},
   "outputs": [],
   "source": [
    "from sklearn.preprocessing import StandardScaler"
   ]
  },
  {
   "cell_type": "code",
   "execution_count": 28,
   "metadata": {},
   "outputs": [
    {
     "data": {
      "text/plain": [
       "StandardScaler()"
      ]
     },
     "execution_count": 28,
     "metadata": {},
     "output_type": "execute_result"
    }
   ],
   "source": [
    "scaler = StandardScaler()\n",
    "scaler.fit(X_train)"
   ]
  },
  {
   "cell_type": "code",
   "execution_count": 29,
   "metadata": {},
   "outputs": [],
   "source": [
    "X_train_scaled = scaler.transform(X_train)\n",
    "X_test_scaled = scaler.transform(X_test)"
   ]
  },
  {
   "cell_type": "code",
   "execution_count": 32,
   "metadata": {},
   "outputs": [],
   "source": [
    "from sklearn.neural_network import MLPRegressor"
   ]
  },
  {
   "cell_type": "code",
   "execution_count": 33,
   "metadata": {},
   "outputs": [],
   "source": [
    "mlp_model = MLPRegressor(hidden_layer_sizes=(100,20)).fit(X_train_scaled, y_train)"
   ]
  },
  {
   "cell_type": "code",
   "execution_count": 35,
   "metadata": {},
   "outputs": [],
   "source": [
    "y_pred = mlp_model.predict(X_test_scaled)"
   ]
  },
  {
   "cell_type": "code",
   "execution_count": 36,
   "metadata": {},
   "outputs": [
    {
     "data": {
      "text/plain": [
       "22.816215631754655"
      ]
     },
     "execution_count": 36,
     "metadata": {},
     "output_type": "execute_result"
    }
   ],
   "source": [
    "np.sqrt(mean_squared_error(y_test, y_pred))"
   ]
  },
  {
   "cell_type": "code",
   "execution_count": 11,
   "metadata": {},
   "outputs": [],
   "source": [
    "mlp_param = {\"alpha\": [0.1,0.01,0.02,0.005],\n",
    "             \"activation\": [\"relu\",\"logistic\"]}"
   ]
  },
  {
   "cell_type": "code",
   "execution_count": 12,
   "metadata": {},
   "outputs": [],
   "source": [
    "mlp_cv_model = GridSearchCV(mlp_model, mlp_param, cv=10)"
   ]
  },
  {
   "cell_type": "code",
   "execution_count": 13,
   "metadata": {},
   "outputs": [
    {
     "data": {
      "text/plain": [
       "GridSearchCV(cv=10, estimator=MLPRegressor(hidden_layer_sizes=(100, 20)),\n",
       "             param_grid={'activation': ['relu', 'logistic'],\n",
       "                         'alpha': [0.1, 0.01, 0.02, 0.005]})"
      ]
     },
     "execution_count": 13,
     "metadata": {},
     "output_type": "execute_result"
    }
   ],
   "source": [
    "mlp_cv_model.fit(X_train_scaled, y_train)"
   ]
  },
  {
   "cell_type": "code",
   "execution_count": 14,
   "metadata": {},
   "outputs": [
    {
     "data": {
      "text/plain": [
       "{'activation': 'relu', 'alpha': 0.01}"
      ]
     },
     "execution_count": 14,
     "metadata": {},
     "output_type": "execute_result"
    }
   ],
   "source": [
    "mlp_cv_model.best_params_"
   ]
  },
  {
   "cell_type": "code",
   "execution_count": 15,
   "metadata": {},
   "outputs": [],
   "source": [
    "mlp_tuned = MLPRegressor(activation='relu', alpha=0.01)"
   ]
  },
  {
   "cell_type": "code",
   "execution_count": 16,
   "metadata": {},
   "outputs": [
    {
     "data": {
      "text/plain": [
       "MLPRegressor(alpha=0.01)"
      ]
     },
     "execution_count": 16,
     "metadata": {},
     "output_type": "execute_result"
    }
   ],
   "source": [
    "mlp_tuned.fit(X_train_scaled, y_train)"
   ]
  },
  {
   "cell_type": "code",
   "execution_count": 17,
   "metadata": {},
   "outputs": [],
   "source": [
    "y_pred = mlp_tuned.predict(X_test_scaled)"
   ]
  },
  {
   "cell_type": "code",
   "execution_count": 18,
   "metadata": {},
   "outputs": [
    {
     "data": {
      "text/plain": [
       "25.463426281353097"
      ]
     },
     "execution_count": 18,
     "metadata": {},
     "output_type": "execute_result"
    }
   ],
   "source": [
    "np.sqrt(mean_squared_error(y_test, y_pred))"
   ]
  },
  {
   "cell_type": "code",
   "execution_count": 9,
   "metadata": {},
   "outputs": [],
   "source": [
    "mlp_param2 = {\"alpha\": [0.1,0.01,0.02,0.005],\n",
    "             \"hidden_layer_sizes\": [(5,5), (10,5,15), (40,25,20)],\n",
    "             \"activation\": [\"relu\",\"logistic\"]}"
   ]
  },
  {
   "cell_type": "code",
   "execution_count": 11,
   "metadata": {},
   "outputs": [],
   "source": [
    "mlp_cv_model = GridSearchCV(mlp_model, mlp_param2, cv=10, n_jobs=-1, verbose=2)"
   ]
  },
  {
   "cell_type": "code",
   "execution_count": 12,
   "metadata": {},
   "outputs": [
    {
     "name": "stdout",
     "output_type": "stream",
     "text": [
      "Fitting 10 folds for each of 24 candidates, totalling 240 fits\n"
     ]
    },
    {
     "name": "stderr",
     "output_type": "stream",
     "text": [
      "[Parallel(n_jobs=-1)]: Using backend LokyBackend with 4 concurrent workers.\n",
      "[Parallel(n_jobs=-1)]: Done  33 tasks      | elapsed:  1.8min\n",
      "[Parallel(n_jobs=-1)]: Done 154 tasks      | elapsed:  8.3min\n",
      "[Parallel(n_jobs=-1)]: Done 240 out of 240 | elapsed: 12.5min finished\n"
     ]
    },
    {
     "data": {
      "text/plain": [
       "GridSearchCV(cv=10, estimator=MLPRegressor(hidden_layer_sizes=(100, 20)),\n",
       "             n_jobs=-1,\n",
       "             param_grid={'activation': ['relu', 'logistic'],\n",
       "                         'alpha': [0.1, 0.01, 0.02, 0.005],\n",
       "                         'hidden_layer_sizes': [(5, 5), (10, 5, 15),\n",
       "                                                (40, 25, 20)]},\n",
       "             verbose=2)"
      ]
     },
     "execution_count": 12,
     "metadata": {},
     "output_type": "execute_result"
    }
   ],
   "source": [
    "mlp_cv_model.fit(X_train_scaled, y_train)"
   ]
  },
  {
   "cell_type": "code",
   "execution_count": 13,
   "metadata": {},
   "outputs": [
    {
     "data": {
      "text/plain": [
       "{'activation': 'relu', 'alpha': 0.005, 'hidden_layer_sizes': (40, 25, 20)}"
      ]
     },
     "execution_count": 13,
     "metadata": {},
     "output_type": "execute_result"
    }
   ],
   "source": [
    "mlp_cv_model.best_params_"
   ]
  },
  {
   "cell_type": "code",
   "execution_count": 40,
   "metadata": {},
   "outputs": [
    {
     "data": {
      "text/plain": [
       "23.612705189658453"
      ]
     },
     "execution_count": 40,
     "metadata": {},
     "output_type": "execute_result"
    }
   ],
   "source": [
    "mlp_tuned_cl = MLPRegressor(alpha= 0.005, hidden_layer_sizes=(40, 25, 20), activation=\"relu\")\n",
    "\n",
    "mlp_tuned_cl.fit(X_train_scaled, y_train)\n",
    "\n",
    "y_pred = mlp_tuned_cl.predict(X_test_scaled)\n",
    "np.sqrt(mean_squared_error(y_test, y_pred))"
   ]
  },
  {
   "cell_type": "code",
   "execution_count": null,
   "metadata": {},
   "outputs": [],
   "source": []
  }
 ],
 "metadata": {
  "kernelspec": {
   "display_name": "Python 3",
   "language": "python",
   "name": "python3"
  },
  "language_info": {
   "codemirror_mode": {
    "name": "ipython",
    "version": 3
   },
   "file_extension": ".py",
   "mimetype": "text/x-python",
   "name": "python",
   "nbconvert_exporter": "python",
   "pygments_lexer": "ipython3",
   "version": "3.8.3"
  }
 },
 "nbformat": 4,
 "nbformat_minor": 4
}
