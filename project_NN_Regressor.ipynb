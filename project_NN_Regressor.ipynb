{
 "cells": [
  {
   "cell_type": "code",
   "execution_count": 1,
   "metadata": {},
   "outputs": [],
   "source": [
    "import numpy as np\n",
    "import pandas as pd \n",
    "from sklearn.model_selection import train_test_split, GridSearchCV,cross_val_score\n",
    "from sklearn.metrics import mean_squared_error, r2_score, accuracy_score, confusion_matrix, classification_report\n",
    "import matplotlib.pyplot as plt\n",
    "from sklearn.preprocessing import scale \n",
    "from sklearn import model_selection\n",
    "from sklearn.tree import DecisionTreeRegressor, DecisionTreeClassifier\n",
    "from sklearn.neighbors import KNeighborsRegressor\n",
    "from sklearn.ensemble import BaggingRegressor\n",
    "from sklearn.model_selection import train_test_split, GridSearchCV, cross_val_score\n",
    "\n",
    "from warnings import filterwarnings\n",
    "filterwarnings('ignore')"
   ]
  },
  {
   "cell_type": "code",
   "execution_count": 2,
   "metadata": {},
   "outputs": [],
   "source": [
    "data = pd.read_csv(\"last_data.csv\")"
   ]
  },
  {
   "cell_type": "code",
   "execution_count": 3,
   "metadata": {},
   "outputs": [
    {
     "data": {
      "text/html": [
       "<div>\n",
       "<style scoped>\n",
       "    .dataframe tbody tr th:only-of-type {\n",
       "        vertical-align: middle;\n",
       "    }\n",
       "\n",
       "    .dataframe tbody tr th {\n",
       "        vertical-align: top;\n",
       "    }\n",
       "\n",
       "    .dataframe thead th {\n",
       "        text-align: right;\n",
       "    }\n",
       "</style>\n",
       "<table border=\"1\" class=\"dataframe\">\n",
       "  <thead>\n",
       "    <tr style=\"text-align: right;\">\n",
       "      <th></th>\n",
       "      <th>Unnamed: 0</th>\n",
       "      <th>ID</th>\n",
       "      <th>Dates</th>\n",
       "      <th>city</th>\n",
       "      <th>Hafta_Gunu</th>\n",
       "      <th>Racer</th>\n",
       "      <th>Racer_1</th>\n",
       "      <th>LAST_RACER_SAME_AS_CURRENT_RACER</th>\n",
       "      <th>LAST_RACER_SAME_AS_CURRENT_RACER_BINARY</th>\n",
       "      <th>Speed_in_Secs</th>\n",
       "      <th>...</th>\n",
       "      <th>K</th>\n",
       "      <th>DB</th>\n",
       "      <th>SK</th>\n",
       "      <th>SKG</th>\n",
       "      <th>GKR</th>\n",
       "      <th>YP</th>\n",
       "      <th>TGK</th>\n",
       "      <th>ÖG</th>\n",
       "      <th>SGKR</th>\n",
       "      <th>Winner</th>\n",
       "    </tr>\n",
       "  </thead>\n",
       "  <tbody>\n",
       "    <tr>\n",
       "      <th>0</th>\n",
       "      <td>0</td>\n",
       "      <td>ENGİNYAR(12) KG  SK</td>\n",
       "      <td>2015-08-07</td>\n",
       "      <td>Elazığ</td>\n",
       "      <td>Hafta İçi</td>\n",
       "      <td>S.KAPLAN</td>\n",
       "      <td>S.KAPLAN</td>\n",
       "      <td>True</td>\n",
       "      <td>1</td>\n",
       "      <td>157.51</td>\n",
       "      <td>...</td>\n",
       "      <td>0</td>\n",
       "      <td>0</td>\n",
       "      <td>1</td>\n",
       "      <td>0</td>\n",
       "      <td>0</td>\n",
       "      <td>0</td>\n",
       "      <td>0</td>\n",
       "      <td>0</td>\n",
       "      <td>0</td>\n",
       "      <td>0</td>\n",
       "    </tr>\n",
       "    <tr>\n",
       "      <th>1</th>\n",
       "      <td>1</td>\n",
       "      <td>TÜRK LOKUMU(8) KG</td>\n",
       "      <td>2015-07-29</td>\n",
       "      <td>Elazığ</td>\n",
       "      <td>Hafta İçi</td>\n",
       "      <td>R.YILDIRIM</td>\n",
       "      <td>R.YILDIRIM</td>\n",
       "      <td>True</td>\n",
       "      <td>1</td>\n",
       "      <td>167.86</td>\n",
       "      <td>...</td>\n",
       "      <td>0</td>\n",
       "      <td>0</td>\n",
       "      <td>0</td>\n",
       "      <td>0</td>\n",
       "      <td>0</td>\n",
       "      <td>0</td>\n",
       "      <td>0</td>\n",
       "      <td>0</td>\n",
       "      <td>0</td>\n",
       "      <td>0</td>\n",
       "    </tr>\n",
       "    <tr>\n",
       "      <th>2</th>\n",
       "      <td>2</td>\n",
       "      <td>KINGDOM(6) KG  K</td>\n",
       "      <td>2015-07-29</td>\n",
       "      <td>Elazığ</td>\n",
       "      <td>Hafta İçi</td>\n",
       "      <td>C.TEPE</td>\n",
       "      <td>C.TEPE</td>\n",
       "      <td>True</td>\n",
       "      <td>1</td>\n",
       "      <td>147.87</td>\n",
       "      <td>...</td>\n",
       "      <td>1</td>\n",
       "      <td>0</td>\n",
       "      <td>0</td>\n",
       "      <td>0</td>\n",
       "      <td>0</td>\n",
       "      <td>0</td>\n",
       "      <td>0</td>\n",
       "      <td>0</td>\n",
       "      <td>0</td>\n",
       "      <td>0</td>\n",
       "    </tr>\n",
       "    <tr>\n",
       "      <th>3</th>\n",
       "      <td>3</td>\n",
       "      <td>ŞAHDİLDAR(10) KG  K</td>\n",
       "      <td>2015-07-21</td>\n",
       "      <td>Ankara</td>\n",
       "      <td>Hafta İçi</td>\n",
       "      <td>MÜS.ÇELİK</td>\n",
       "      <td>MÜS.ÇELİK</td>\n",
       "      <td>True</td>\n",
       "      <td>1</td>\n",
       "      <td>74.67</td>\n",
       "      <td>...</td>\n",
       "      <td>1</td>\n",
       "      <td>0</td>\n",
       "      <td>0</td>\n",
       "      <td>0</td>\n",
       "      <td>0</td>\n",
       "      <td>0</td>\n",
       "      <td>0</td>\n",
       "      <td>0</td>\n",
       "      <td>0</td>\n",
       "      <td>0</td>\n",
       "    </tr>\n",
       "    <tr>\n",
       "      <th>4</th>\n",
       "      <td>4</td>\n",
       "      <td>DEHERE VERE(8) SKG  SK</td>\n",
       "      <td>2015-07-21</td>\n",
       "      <td>Ankara</td>\n",
       "      <td>Hafta İçi</td>\n",
       "      <td>E.METİN</td>\n",
       "      <td>E.METİN</td>\n",
       "      <td>True</td>\n",
       "      <td>1</td>\n",
       "      <td>73.96</td>\n",
       "      <td>...</td>\n",
       "      <td>0</td>\n",
       "      <td>0</td>\n",
       "      <td>1</td>\n",
       "      <td>1</td>\n",
       "      <td>0</td>\n",
       "      <td>0</td>\n",
       "      <td>0</td>\n",
       "      <td>0</td>\n",
       "      <td>0</td>\n",
       "      <td>0</td>\n",
       "    </tr>\n",
       "    <tr>\n",
       "      <th>...</th>\n",
       "      <td>...</td>\n",
       "      <td>...</td>\n",
       "      <td>...</td>\n",
       "      <td>...</td>\n",
       "      <td>...</td>\n",
       "      <td>...</td>\n",
       "      <td>...</td>\n",
       "      <td>...</td>\n",
       "      <td>...</td>\n",
       "      <td>...</td>\n",
       "      <td>...</td>\n",
       "      <td>...</td>\n",
       "      <td>...</td>\n",
       "      <td>...</td>\n",
       "      <td>...</td>\n",
       "      <td>...</td>\n",
       "      <td>...</td>\n",
       "      <td>...</td>\n",
       "      <td>...</td>\n",
       "      <td>...</td>\n",
       "      <td>...</td>\n",
       "    </tr>\n",
       "    <tr>\n",
       "      <th>12354</th>\n",
       "      <td>12354</td>\n",
       "      <td>ADAMINDİBİ(1) KG  SK</td>\n",
       "      <td>2019-12-30</td>\n",
       "      <td>Bursa</td>\n",
       "      <td>Hafta İçi</td>\n",
       "      <td>E.ERGÜR</td>\n",
       "      <td>F.ARSLAN</td>\n",
       "      <td>False</td>\n",
       "      <td>0</td>\n",
       "      <td>110.45</td>\n",
       "      <td>...</td>\n",
       "      <td>0</td>\n",
       "      <td>0</td>\n",
       "      <td>1</td>\n",
       "      <td>0</td>\n",
       "      <td>0</td>\n",
       "      <td>0</td>\n",
       "      <td>0</td>\n",
       "      <td>0</td>\n",
       "      <td>0</td>\n",
       "      <td>0</td>\n",
       "    </tr>\n",
       "    <tr>\n",
       "      <th>12355</th>\n",
       "      <td>12355</td>\n",
       "      <td>KUBİ DAYI(10) KG  DB  SK</td>\n",
       "      <td>2019-12-29</td>\n",
       "      <td>Adana</td>\n",
       "      <td>Hafta Sonu</td>\n",
       "      <td>T.BALİ</td>\n",
       "      <td>M.ÖZDEMİR</td>\n",
       "      <td>False</td>\n",
       "      <td>0</td>\n",
       "      <td>131.47</td>\n",
       "      <td>...</td>\n",
       "      <td>0</td>\n",
       "      <td>1</td>\n",
       "      <td>1</td>\n",
       "      <td>0</td>\n",
       "      <td>0</td>\n",
       "      <td>0</td>\n",
       "      <td>0</td>\n",
       "      <td>0</td>\n",
       "      <td>0</td>\n",
       "      <td>0</td>\n",
       "    </tr>\n",
       "    <tr>\n",
       "      <th>12356</th>\n",
       "      <td>12356</td>\n",
       "      <td>KING OF DIAMONDS(13) DB  SK</td>\n",
       "      <td>2019-12-30</td>\n",
       "      <td>Şanlıurfa</td>\n",
       "      <td>Hafta İçi</td>\n",
       "      <td>R.DOĞAN</td>\n",
       "      <td>R.DOĞAN</td>\n",
       "      <td>True</td>\n",
       "      <td>1</td>\n",
       "      <td>150.31</td>\n",
       "      <td>...</td>\n",
       "      <td>0</td>\n",
       "      <td>1</td>\n",
       "      <td>1</td>\n",
       "      <td>0</td>\n",
       "      <td>0</td>\n",
       "      <td>0</td>\n",
       "      <td>0</td>\n",
       "      <td>0</td>\n",
       "      <td>0</td>\n",
       "      <td>0</td>\n",
       "    </tr>\n",
       "    <tr>\n",
       "      <th>12357</th>\n",
       "      <td>12357</td>\n",
       "      <td>BEY POYRAZ(2) SK</td>\n",
       "      <td>2019-12-30</td>\n",
       "      <td>Şanlıurfa</td>\n",
       "      <td>Hafta İçi</td>\n",
       "      <td>İ.AKYAVUZ</td>\n",
       "      <td>İ.AKYAVUZ</td>\n",
       "      <td>True</td>\n",
       "      <td>1</td>\n",
       "      <td>102.02</td>\n",
       "      <td>...</td>\n",
       "      <td>0</td>\n",
       "      <td>0</td>\n",
       "      <td>1</td>\n",
       "      <td>0</td>\n",
       "      <td>0</td>\n",
       "      <td>0</td>\n",
       "      <td>0</td>\n",
       "      <td>0</td>\n",
       "      <td>0</td>\n",
       "      <td>0</td>\n",
       "    </tr>\n",
       "    <tr>\n",
       "      <th>12358</th>\n",
       "      <td>12358</td>\n",
       "      <td>ZAMANIN HARİKASI(9) KG  DB  SK</td>\n",
       "      <td>2019-12-31</td>\n",
       "      <td>Adana</td>\n",
       "      <td>Hafta İçi</td>\n",
       "      <td>H.BUDAK</td>\n",
       "      <td>H.BUDAK</td>\n",
       "      <td>True</td>\n",
       "      <td>1</td>\n",
       "      <td>103.13</td>\n",
       "      <td>...</td>\n",
       "      <td>0</td>\n",
       "      <td>1</td>\n",
       "      <td>1</td>\n",
       "      <td>0</td>\n",
       "      <td>0</td>\n",
       "      <td>0</td>\n",
       "      <td>0</td>\n",
       "      <td>0</td>\n",
       "      <td>0</td>\n",
       "      <td>0</td>\n",
       "    </tr>\n",
       "  </tbody>\n",
       "</table>\n",
       "<p>12359 rows × 61 columns</p>\n",
       "</div>"
      ],
      "text/plain": [
       "       Unnamed: 0                                ID       Dates       city  \\\n",
       "0               0             ENGİNYAR(12) KG  SK    2015-08-07     Elazığ   \n",
       "1               1               TÜRK LOKUMU(8) KG    2015-07-29     Elazığ   \n",
       "2               2                KINGDOM(6) KG  K    2015-07-29     Elazığ   \n",
       "3               3             ŞAHDİLDAR(10) KG  K    2015-07-21     Ankara   \n",
       "4               4          DEHERE VERE(8) SKG  SK    2015-07-21     Ankara   \n",
       "...           ...                               ...         ...        ...   \n",
       "12354       12354            ADAMINDİBİ(1) KG  SK    2019-12-30      Bursa   \n",
       "12355       12355        KUBİ DAYI(10) KG  DB  SK    2019-12-29      Adana   \n",
       "12356       12356   KING OF DIAMONDS(13) DB  SK      2019-12-30  Şanlıurfa   \n",
       "12357       12357                BEY POYRAZ(2) SK    2019-12-30  Şanlıurfa   \n",
       "12358       12358  ZAMANIN HARİKASI(9) KG  DB  SK    2019-12-31      Adana   \n",
       "\n",
       "       Hafta_Gunu       Racer     Racer_1  LAST_RACER_SAME_AS_CURRENT_RACER  \\\n",
       "0       Hafta İçi    S.KAPLAN    S.KAPLAN                              True   \n",
       "1       Hafta İçi  R.YILDIRIM  R.YILDIRIM                              True   \n",
       "2       Hafta İçi      C.TEPE      C.TEPE                              True   \n",
       "3       Hafta İçi   MÜS.ÇELİK   MÜS.ÇELİK                              True   \n",
       "4       Hafta İçi     E.METİN     E.METİN                              True   \n",
       "...           ...         ...         ...                               ...   \n",
       "12354   Hafta İçi     E.ERGÜR    F.ARSLAN                             False   \n",
       "12355  Hafta Sonu      T.BALİ   M.ÖZDEMİR                             False   \n",
       "12356   Hafta İçi     R.DOĞAN     R.DOĞAN                              True   \n",
       "12357   Hafta İçi   İ.AKYAVUZ   İ.AKYAVUZ                              True   \n",
       "12358   Hafta İçi     H.BUDAK     H.BUDAK                              True   \n",
       "\n",
       "       LAST_RACER_SAME_AS_CURRENT_RACER_BINARY  Speed_in_Secs  ...  K  DB  SK  \\\n",
       "0                                            1         157.51  ...  0   0   1   \n",
       "1                                            1         167.86  ...  0   0   0   \n",
       "2                                            1         147.87  ...  1   0   0   \n",
       "3                                            1          74.67  ...  1   0   0   \n",
       "4                                            1          73.96  ...  0   0   1   \n",
       "...                                        ...            ...  ... ..  ..  ..   \n",
       "12354                                        0         110.45  ...  0   0   1   \n",
       "12355                                        0         131.47  ...  0   1   1   \n",
       "12356                                        1         150.31  ...  0   1   1   \n",
       "12357                                        1         102.02  ...  0   0   1   \n",
       "12358                                        1         103.13  ...  0   1   1   \n",
       "\n",
       "       SKG  GKR  YP  TGK  ÖG  SGKR  Winner  \n",
       "0        0    0   0    0   0     0       0  \n",
       "1        0    0   0    0   0     0       0  \n",
       "2        0    0   0    0   0     0       0  \n",
       "3        0    0   0    0   0     0       0  \n",
       "4        1    0   0    0   0     0       0  \n",
       "...    ...  ...  ..  ...  ..   ...     ...  \n",
       "12354    0    0   0    0   0     0       0  \n",
       "12355    0    0   0    0   0     0       0  \n",
       "12356    0    0   0    0   0     0       0  \n",
       "12357    0    0   0    0   0     0       0  \n",
       "12358    0    0   0    0   0     0       0  \n",
       "\n",
       "[12359 rows x 61 columns]"
      ]
     },
     "execution_count": 3,
     "metadata": {},
     "output_type": "execute_result"
    }
   ],
   "source": [
    "data"
   ]
  },
  {
   "cell_type": "code",
   "execution_count": 4,
   "metadata": {},
   "outputs": [],
   "source": [
    "categorical_columns = list(data.loc[:, data.dtypes == np.object].columns)"
   ]
  },
  {
   "cell_type": "code",
   "execution_count": 5,
   "metadata": {},
   "outputs": [
    {
     "data": {
      "text/plain": [
       "['ID',\n",
       " 'Dates',\n",
       " 'city',\n",
       " 'Hafta_Gunu',\n",
       " 'Racer',\n",
       " 'Racer_1',\n",
       " 'kosu_saati',\n",
       " 'at_ana',\n",
       " 'at_baba',\n",
       " 'at_soyu',\n",
       " 'Mevsim']"
      ]
     },
     "execution_count": 5,
     "metadata": {},
     "output_type": "execute_result"
    }
   ],
   "source": [
    "categorical_columns"
   ]
  },
  {
   "cell_type": "code",
   "execution_count": 6,
   "metadata": {},
   "outputs": [],
   "source": [
    "# kategorik değişkenler df'den çıkarılıyor.\n",
    "\n",
    "df = data.drop(categorical_columns, axis=1)"
   ]
  },
  {
   "cell_type": "code",
   "execution_count": 7,
   "metadata": {},
   "outputs": [],
   "source": [
    "# boolean ve önceden normalize edilmiş çıkarılması gereken değişkenler çıkarılıyor.\n",
    "\n",
    "df = df.drop([\"LAST_RACER_SAME_AS_CURRENT_RACER\", \"Unnamed: 0\", \n",
    "              \"LAST_RACER_SAME_AS_CURRENT_RACER_BINARY\", \"RANK\", \"Ranking_Score_Normalized.1\", \n",
    "             \"RANK_LATEST_1ST\", \"AG_RANKING_Score_Normalized\"], axis=1)"
   ]
  },
  {
   "cell_type": "code",
   "execution_count": 8,
   "metadata": {},
   "outputs": [],
   "source": [
    "df = df.iloc[:,:-13]"
   ]
  },
  {
   "cell_type": "code",
   "execution_count": 9,
   "metadata": {},
   "outputs": [
    {
     "data": {
      "text/html": [
       "<div>\n",
       "<style scoped>\n",
       "    .dataframe tbody tr th:only-of-type {\n",
       "        vertical-align: middle;\n",
       "    }\n",
       "\n",
       "    .dataframe tbody tr th {\n",
       "        vertical-align: top;\n",
       "    }\n",
       "\n",
       "    .dataframe thead th {\n",
       "        text-align: right;\n",
       "    }\n",
       "</style>\n",
       "<table border=\"1\" class=\"dataframe\">\n",
       "  <thead>\n",
       "    <tr style=\"text-align: right;\">\n",
       "      <th></th>\n",
       "      <th>Speed_in_Secs</th>\n",
       "      <th>GANYAN_TRANS</th>\n",
       "      <th>GANYAN_TRANS_INT</th>\n",
       "      <th>AG_Percentage</th>\n",
       "      <th>AG_RANK_AMONG_GROUP</th>\n",
       "      <th>Ranking_Score_Normalized</th>\n",
       "      <th>First_Position_Percentage</th>\n",
       "      <th>Second_Position_Percentage</th>\n",
       "      <th>Third_Position_Percentage</th>\n",
       "      <th>Fourth_Position_Percentage</th>\n",
       "      <th>...</th>\n",
       "      <th>BIRINCILIK_PERCENTAGE</th>\n",
       "      <th>IKINCILIK_PERCENTAGE</th>\n",
       "      <th>UCUNCULUK_PERCENTAGE</th>\n",
       "      <th>DORDUNCULUK_PERCENTAGE</th>\n",
       "      <th>SPEED_LATEST_1ST</th>\n",
       "      <th>SPEED_LATEST_2nd</th>\n",
       "      <th>SPEED_LATEST_3rd</th>\n",
       "      <th>SPEED_LATEST_4th</th>\n",
       "      <th>SPEED_LATEST_5th</th>\n",
       "      <th>RANK.1</th>\n",
       "    </tr>\n",
       "  </thead>\n",
       "  <tbody>\n",
       "    <tr>\n",
       "      <th>0</th>\n",
       "      <td>157.51</td>\n",
       "      <td>12.65</td>\n",
       "      <td>1265</td>\n",
       "      <td>2.0</td>\n",
       "      <td>11</td>\n",
       "      <td>46</td>\n",
       "      <td>8</td>\n",
       "      <td>8</td>\n",
       "      <td>7</td>\n",
       "      <td>9</td>\n",
       "      <td>...</td>\n",
       "      <td>2</td>\n",
       "      <td>8</td>\n",
       "      <td>0</td>\n",
       "      <td>17</td>\n",
       "      <td>11.4278</td>\n",
       "      <td>10.8861</td>\n",
       "      <td>11.4640</td>\n",
       "      <td>10.9800</td>\n",
       "      <td>9.3825</td>\n",
       "      <td>8</td>\n",
       "    </tr>\n",
       "    <tr>\n",
       "      <th>1</th>\n",
       "      <td>167.86</td>\n",
       "      <td>15.85</td>\n",
       "      <td>1585</td>\n",
       "      <td>1.0</td>\n",
       "      <td>12</td>\n",
       "      <td>7</td>\n",
       "      <td>4</td>\n",
       "      <td>6</td>\n",
       "      <td>6</td>\n",
       "      <td>7</td>\n",
       "      <td>...</td>\n",
       "      <td>4</td>\n",
       "      <td>4</td>\n",
       "      <td>9</td>\n",
       "      <td>18</td>\n",
       "      <td>10.1275</td>\n",
       "      <td>13.8776</td>\n",
       "      <td>13.4525</td>\n",
       "      <td>13.5883</td>\n",
       "      <td>13.9714</td>\n",
       "      <td>13</td>\n",
       "    </tr>\n",
       "    <tr>\n",
       "      <th>2</th>\n",
       "      <td>147.87</td>\n",
       "      <td>10.10</td>\n",
       "      <td>1010</td>\n",
       "      <td>3.0</td>\n",
       "      <td>11</td>\n",
       "      <td>53</td>\n",
       "      <td>8</td>\n",
       "      <td>8</td>\n",
       "      <td>7</td>\n",
       "      <td>8</td>\n",
       "      <td>...</td>\n",
       "      <td>10</td>\n",
       "      <td>10</td>\n",
       "      <td>16</td>\n",
       "      <td>8</td>\n",
       "      <td>13.5254</td>\n",
       "      <td>14.8968</td>\n",
       "      <td>13.9792</td>\n",
       "      <td>14.0046</td>\n",
       "      <td>13.7287</td>\n",
       "      <td>7</td>\n",
       "    </tr>\n",
       "    <tr>\n",
       "      <th>3</th>\n",
       "      <td>74.67</td>\n",
       "      <td>3.55</td>\n",
       "      <td>355</td>\n",
       "      <td>16.0</td>\n",
       "      <td>2</td>\n",
       "      <td>39</td>\n",
       "      <td>14</td>\n",
       "      <td>13</td>\n",
       "      <td>13</td>\n",
       "      <td>12</td>\n",
       "      <td>...</td>\n",
       "      <td>0</td>\n",
       "      <td>0</td>\n",
       "      <td>0</td>\n",
       "      <td>0</td>\n",
       "      <td>16.0707</td>\n",
       "      <td>0.0000</td>\n",
       "      <td>0.0000</td>\n",
       "      <td>0.0000</td>\n",
       "      <td>0.0000</td>\n",
       "      <td>7</td>\n",
       "    </tr>\n",
       "    <tr>\n",
       "      <th>4</th>\n",
       "      <td>73.96</td>\n",
       "      <td>8.80</td>\n",
       "      <td>880</td>\n",
       "      <td>5.0</td>\n",
       "      <td>8</td>\n",
       "      <td>80</td>\n",
       "      <td>8</td>\n",
       "      <td>9</td>\n",
       "      <td>10</td>\n",
       "      <td>10</td>\n",
       "      <td>...</td>\n",
       "      <td>0</td>\n",
       "      <td>0</td>\n",
       "      <td>100</td>\n",
       "      <td>0</td>\n",
       "      <td>16.2250</td>\n",
       "      <td>0.0000</td>\n",
       "      <td>0.0000</td>\n",
       "      <td>0.0000</td>\n",
       "      <td>0.0000</td>\n",
       "      <td>3</td>\n",
       "    </tr>\n",
       "    <tr>\n",
       "      <th>...</th>\n",
       "      <td>...</td>\n",
       "      <td>...</td>\n",
       "      <td>...</td>\n",
       "      <td>...</td>\n",
       "      <td>...</td>\n",
       "      <td>...</td>\n",
       "      <td>...</td>\n",
       "      <td>...</td>\n",
       "      <td>...</td>\n",
       "      <td>...</td>\n",
       "      <td>...</td>\n",
       "      <td>...</td>\n",
       "      <td>...</td>\n",
       "      <td>...</td>\n",
       "      <td>...</td>\n",
       "      <td>...</td>\n",
       "      <td>...</td>\n",
       "      <td>...</td>\n",
       "      <td>...</td>\n",
       "      <td>...</td>\n",
       "      <td>...</td>\n",
       "    </tr>\n",
       "    <tr>\n",
       "      <th>12354</th>\n",
       "      <td>110.45</td>\n",
       "      <td>43.80</td>\n",
       "      <td>4380</td>\n",
       "      <td>0.0</td>\n",
       "      <td>0</td>\n",
       "      <td>53</td>\n",
       "      <td>0</td>\n",
       "      <td>0</td>\n",
       "      <td>0</td>\n",
       "      <td>0</td>\n",
       "      <td>...</td>\n",
       "      <td>0</td>\n",
       "      <td>0</td>\n",
       "      <td>0</td>\n",
       "      <td>0</td>\n",
       "      <td>0.0000</td>\n",
       "      <td>12.6754</td>\n",
       "      <td>12.2897</td>\n",
       "      <td>13.7662</td>\n",
       "      <td>0.0000</td>\n",
       "      <td>8</td>\n",
       "    </tr>\n",
       "    <tr>\n",
       "      <th>12355</th>\n",
       "      <td>131.47</td>\n",
       "      <td>37.00</td>\n",
       "      <td>3700</td>\n",
       "      <td>1.0</td>\n",
       "      <td>10</td>\n",
       "      <td>54</td>\n",
       "      <td>2</td>\n",
       "      <td>2</td>\n",
       "      <td>6</td>\n",
       "      <td>6</td>\n",
       "      <td>...</td>\n",
       "      <td>7</td>\n",
       "      <td>12</td>\n",
       "      <td>4</td>\n",
       "      <td>9</td>\n",
       "      <td>0.0000</td>\n",
       "      <td>0.0000</td>\n",
       "      <td>15.2126</td>\n",
       "      <td>0.0000</td>\n",
       "      <td>0.0000</td>\n",
       "      <td>6</td>\n",
       "    </tr>\n",
       "    <tr>\n",
       "      <th>12356</th>\n",
       "      <td>150.31</td>\n",
       "      <td>7.95</td>\n",
       "      <td>795</td>\n",
       "      <td>2.0</td>\n",
       "      <td>5</td>\n",
       "      <td>26</td>\n",
       "      <td>8</td>\n",
       "      <td>9</td>\n",
       "      <td>10</td>\n",
       "      <td>10</td>\n",
       "      <td>...</td>\n",
       "      <td>17</td>\n",
       "      <td>5</td>\n",
       "      <td>17</td>\n",
       "      <td>14</td>\n",
       "      <td>13.3058</td>\n",
       "      <td>13.7651</td>\n",
       "      <td>14.7230</td>\n",
       "      <td>14.7424</td>\n",
       "      <td>15.0539</td>\n",
       "      <td>12</td>\n",
       "    </tr>\n",
       "    <tr>\n",
       "      <th>12357</th>\n",
       "      <td>102.02</td>\n",
       "      <td>15.70</td>\n",
       "      <td>1570</td>\n",
       "      <td>0.0</td>\n",
       "      <td>0</td>\n",
       "      <td>40</td>\n",
       "      <td>12</td>\n",
       "      <td>10</td>\n",
       "      <td>10</td>\n",
       "      <td>9</td>\n",
       "      <td>...</td>\n",
       "      <td>0</td>\n",
       "      <td>0</td>\n",
       "      <td>0</td>\n",
       "      <td>50</td>\n",
       "      <td>13.7228</td>\n",
       "      <td>12.9766</td>\n",
       "      <td>14.1961</td>\n",
       "      <td>15.1649</td>\n",
       "      <td>14.9421</td>\n",
       "      <td>10</td>\n",
       "    </tr>\n",
       "    <tr>\n",
       "      <th>12358</th>\n",
       "      <td>103.13</td>\n",
       "      <td>64.55</td>\n",
       "      <td>6455</td>\n",
       "      <td>1.0</td>\n",
       "      <td>12</td>\n",
       "      <td>14</td>\n",
       "      <td>6</td>\n",
       "      <td>7</td>\n",
       "      <td>8</td>\n",
       "      <td>10</td>\n",
       "      <td>...</td>\n",
       "      <td>13</td>\n",
       "      <td>11</td>\n",
       "      <td>11</td>\n",
       "      <td>11</td>\n",
       "      <td>12.6054</td>\n",
       "      <td>13.2531</td>\n",
       "      <td>11.9551</td>\n",
       "      <td>13.0378</td>\n",
       "      <td>13.9551</td>\n",
       "      <td>13</td>\n",
       "    </tr>\n",
       "  </tbody>\n",
       "</table>\n",
       "<p>12359 rows × 30 columns</p>\n",
       "</div>"
      ],
      "text/plain": [
       "       Speed_in_Secs  GANYAN_TRANS  GANYAN_TRANS_INT  AG_Percentage  \\\n",
       "0             157.51         12.65              1265            2.0   \n",
       "1             167.86         15.85              1585            1.0   \n",
       "2             147.87         10.10              1010            3.0   \n",
       "3              74.67          3.55               355           16.0   \n",
       "4              73.96          8.80               880            5.0   \n",
       "...              ...           ...               ...            ...   \n",
       "12354         110.45         43.80              4380            0.0   \n",
       "12355         131.47         37.00              3700            1.0   \n",
       "12356         150.31          7.95               795            2.0   \n",
       "12357         102.02         15.70              1570            0.0   \n",
       "12358         103.13         64.55              6455            1.0   \n",
       "\n",
       "       AG_RANK_AMONG_GROUP  Ranking_Score_Normalized  \\\n",
       "0                       11                        46   \n",
       "1                       12                         7   \n",
       "2                       11                        53   \n",
       "3                        2                        39   \n",
       "4                        8                        80   \n",
       "...                    ...                       ...   \n",
       "12354                    0                        53   \n",
       "12355                   10                        54   \n",
       "12356                    5                        26   \n",
       "12357                    0                        40   \n",
       "12358                   12                        14   \n",
       "\n",
       "       First_Position_Percentage  Second_Position_Percentage  \\\n",
       "0                              8                           8   \n",
       "1                              4                           6   \n",
       "2                              8                           8   \n",
       "3                             14                          13   \n",
       "4                              8                           9   \n",
       "...                          ...                         ...   \n",
       "12354                          0                           0   \n",
       "12355                          2                           2   \n",
       "12356                          8                           9   \n",
       "12357                         12                          10   \n",
       "12358                          6                           7   \n",
       "\n",
       "       Third_Position_Percentage  Fourth_Position_Percentage  ...  \\\n",
       "0                              7                           9  ...   \n",
       "1                              6                           7  ...   \n",
       "2                              7                           8  ...   \n",
       "3                             13                          12  ...   \n",
       "4                             10                          10  ...   \n",
       "...                          ...                         ...  ...   \n",
       "12354                          0                           0  ...   \n",
       "12355                          6                           6  ...   \n",
       "12356                         10                          10  ...   \n",
       "12357                         10                           9  ...   \n",
       "12358                          8                          10  ...   \n",
       "\n",
       "       BIRINCILIK_PERCENTAGE  IKINCILIK_PERCENTAGE  UCUNCULUK_PERCENTAGE  \\\n",
       "0                          2                     8                     0   \n",
       "1                          4                     4                     9   \n",
       "2                         10                    10                    16   \n",
       "3                          0                     0                     0   \n",
       "4                          0                     0                   100   \n",
       "...                      ...                   ...                   ...   \n",
       "12354                      0                     0                     0   \n",
       "12355                      7                    12                     4   \n",
       "12356                     17                     5                    17   \n",
       "12357                      0                     0                     0   \n",
       "12358                     13                    11                    11   \n",
       "\n",
       "       DORDUNCULUK_PERCENTAGE  SPEED_LATEST_1ST  SPEED_LATEST_2nd  \\\n",
       "0                          17           11.4278           10.8861   \n",
       "1                          18           10.1275           13.8776   \n",
       "2                           8           13.5254           14.8968   \n",
       "3                           0           16.0707            0.0000   \n",
       "4                           0           16.2250            0.0000   \n",
       "...                       ...               ...               ...   \n",
       "12354                       0            0.0000           12.6754   \n",
       "12355                       9            0.0000            0.0000   \n",
       "12356                      14           13.3058           13.7651   \n",
       "12357                      50           13.7228           12.9766   \n",
       "12358                      11           12.6054           13.2531   \n",
       "\n",
       "       SPEED_LATEST_3rd  SPEED_LATEST_4th  SPEED_LATEST_5th  RANK.1  \n",
       "0               11.4640           10.9800            9.3825       8  \n",
       "1               13.4525           13.5883           13.9714      13  \n",
       "2               13.9792           14.0046           13.7287       7  \n",
       "3                0.0000            0.0000            0.0000       7  \n",
       "4                0.0000            0.0000            0.0000       3  \n",
       "...                 ...               ...               ...     ...  \n",
       "12354           12.2897           13.7662            0.0000       8  \n",
       "12355           15.2126            0.0000            0.0000       6  \n",
       "12356           14.7230           14.7424           15.0539      12  \n",
       "12357           14.1961           15.1649           14.9421      10  \n",
       "12358           11.9551           13.0378           13.9551      13  \n",
       "\n",
       "[12359 rows x 30 columns]"
      ]
     },
     "execution_count": 9,
     "metadata": {},
     "output_type": "execute_result"
    }
   ],
   "source": [
    "# neural network regressor eğitimi için hazır olan dataframe\n",
    "\n",
    "df"
   ]
  },
  {
   "cell_type": "code",
   "execution_count": 10,
   "metadata": {},
   "outputs": [],
   "source": [
    "from sklearn.neural_network import MLPRegressor"
   ]
  },
  {
   "cell_type": "code",
   "execution_count": 11,
   "metadata": {},
   "outputs": [],
   "source": [
    "# RANK.1 hedef değişken olarak belirlenip geriye kalanlar bağımsız değişken olarak model için hazırlanıyor.\n",
    "\n",
    "X = df.iloc[:,:-1]\n",
    "y = df.iloc[:,-1:]"
   ]
  },
  {
   "cell_type": "code",
   "execution_count": 12,
   "metadata": {},
   "outputs": [],
   "source": [
    "X_train, X_test, y_train, y_test = train_test_split(X, y, \n",
    "                                                    test_size=0.20, \n",
    "                                                    random_state=42)"
   ]
  },
  {
   "cell_type": "code",
   "execution_count": 13,
   "metadata": {},
   "outputs": [],
   "source": [
    "# ilk neural network regressor eğitimi yapılıyor.\n",
    "\n",
    "mlp_regr = MLPRegressor(alpha=0.02, hidden_layer_sizes=(15, 10, 5)).fit(X_train, y_train)"
   ]
  },
  {
   "cell_type": "code",
   "execution_count": 14,
   "metadata": {},
   "outputs": [],
   "source": [
    "y_pred = mlp_regr.predict(X_test)"
   ]
  },
  {
   "cell_type": "code",
   "execution_count": 15,
   "metadata": {},
   "outputs": [
    {
     "data": {
      "text/plain": [
       "0.7645603117358951"
      ]
     },
     "execution_count": 15,
     "metadata": {},
     "output_type": "execute_result"
    }
   ],
   "source": [
    "r2_score(y_test, y_pred)"
   ]
  },
  {
   "cell_type": "code",
   "execution_count": 16,
   "metadata": {},
   "outputs": [
    {
     "data": {
      "text/plain": [
       "1.76638584913819"
      ]
     },
     "execution_count": 16,
     "metadata": {},
     "output_type": "execute_result"
    }
   ],
   "source": [
    "np.sqrt(mean_squared_error(y_test, y_pred))"
   ]
  },
  {
   "cell_type": "code",
   "execution_count": 17,
   "metadata": {},
   "outputs": [],
   "source": [
    "d = pd.DataFrame(y_pred)\n",
    "d.columns=[\"y_pred\"]"
   ]
  },
  {
   "cell_type": "code",
   "execution_count": 18,
   "metadata": {},
   "outputs": [
    {
     "data": {
      "text/plain": [
       "array([12.09232274, 11.07921619,  8.62609368, ...,  9.24165085,\n",
       "        7.91365455, 13.67731754])"
      ]
     },
     "execution_count": 18,
     "metadata": {},
     "output_type": "execute_result"
    }
   ],
   "source": [
    "y_pred"
   ]
  },
  {
   "cell_type": "code",
   "execution_count": 19,
   "metadata": {},
   "outputs": [
    {
     "data": {
      "text/plain": [
       "array([12, 13, 10, ..., 11,  7, 10])"
      ]
     },
     "execution_count": 19,
     "metadata": {},
     "output_type": "execute_result"
    }
   ],
   "source": [
    "yt = np.array(y_test[\"RANK.1\"])\n",
    "yt"
   ]
  },
  {
   "cell_type": "code",
   "execution_count": 20,
   "metadata": {},
   "outputs": [],
   "source": [
    "# prediction ve reality olarak y_test ve y_pred değerleri karşılaştırılıyor. ve Dataframe haline getiriliyor.\n",
    "\n",
    "dff = pd.DataFrame(y_pred)\n",
    "dff.columns = [\"predictions\"]\n",
    "dff[\"reality\"] = np.array(y_test[\"RANK.1\"])"
   ]
  },
  {
   "cell_type": "code",
   "execution_count": 21,
   "metadata": {},
   "outputs": [
    {
     "name": "stdout",
     "output_type": "stream",
     "text": [
      "624\n"
     ]
    }
   ],
   "source": [
    "# üst sayıya yuvarlanarak tahmin ediliyor\n",
    "# 15.76 = 16,   13.25 = 13 gibi\n",
    "\n",
    "# her eşleşen değer ile count 1 arttırılıyor sonucunda y_test ve y_pred eşleşen değerler toplam değerlere bölünerek\n",
    "# doğruluk yüzdesi belirleniyor.\n",
    "\n",
    "count=0\n",
    "for i in range(0,len(dff[\"reality\"])):\n",
    "#     print(round(dff[\"predictions\"][i],0))\n",
    "    if int(round(dff[\"predictions\"][i],0)) == int(dff[\"reality\"][i]):\n",
    "        count = count + 1\n",
    "print(count)"
   ]
  },
  {
   "cell_type": "code",
   "execution_count": 22,
   "metadata": {},
   "outputs": [
    {
     "data": {
      "text/plain": [
       "0.2406957928802589"
      ]
     },
     "execution_count": 22,
     "metadata": {},
     "output_type": "execute_result"
    }
   ],
   "source": [
    "# tahmin yüzdesi\n",
    "595/2472"
   ]
  },
  {
   "cell_type": "code",
   "execution_count": 23,
   "metadata": {},
   "outputs": [
    {
     "name": "stdout",
     "output_type": "stream",
     "text": [
      "671\n"
     ]
    }
   ],
   "source": [
    "# üst sayıya yuvarlanmadan direkt int'e çevrilip eşleniyor\n",
    "# 13.25 = 13,   15,98 = 15 gibi.\n",
    "\n",
    "count=0\n",
    "for i in range(0,len(dff[\"reality\"])):\n",
    "#     print(round(dff[\"predictions\"][i],0))\n",
    "    if int(dff[\"predictions\"][i]) == int(dff[\"reality\"][i]):\n",
    "        count = count + 1\n",
    "print(count)"
   ]
  },
  {
   "cell_type": "code",
   "execution_count": 24,
   "metadata": {},
   "outputs": [
    {
     "data": {
      "text/plain": [
       "0.27063106796116504"
      ]
     },
     "execution_count": 24,
     "metadata": {},
     "output_type": "execute_result"
    }
   ],
   "source": [
    "# tahmin yüzdesi\n",
    "669/2472"
   ]
  },
  {
   "cell_type": "markdown",
   "metadata": {},
   "source": [
    "## Model Tuning"
   ]
  },
  {
   "cell_type": "code",
   "execution_count": 25,
   "metadata": {},
   "outputs": [],
   "source": [
    "mlp_param = {\"alpha\": [0.1,0.01,0.02,0.005],\n",
    "             \"hidden_layer_sizes\": [(12,8,4), (15,10,5), (7,7,7)]}"
   ]
  },
  {
   "cell_type": "code",
   "execution_count": 27,
   "metadata": {},
   "outputs": [],
   "source": [
    "mlp_cv_model = GridSearchCV(mlp_regr, mlp_param, cv=10, n_jobs=-1, verbose=2)"
   ]
  },
  {
   "cell_type": "code",
   "execution_count": 28,
   "metadata": {},
   "outputs": [
    {
     "name": "stdout",
     "output_type": "stream",
     "text": [
      "Fitting 10 folds for each of 12 candidates, totalling 120 fits\n"
     ]
    },
    {
     "name": "stderr",
     "output_type": "stream",
     "text": [
      "[Parallel(n_jobs=-1)]: Using backend LokyBackend with 4 concurrent workers.\n",
      "[Parallel(n_jobs=-1)]: Done  33 tasks      | elapsed:  1.9min\n",
      "[Parallel(n_jobs=-1)]: Done 120 out of 120 | elapsed:  7.2min finished\n"
     ]
    },
    {
     "data": {
      "text/plain": [
       "GridSearchCV(cv=10,\n",
       "             estimator=MLPRegressor(alpha=0.02, hidden_layer_sizes=(15, 10, 5)),\n",
       "             n_jobs=-1,\n",
       "             param_grid={'alpha': [0.1, 0.01, 0.02, 0.005],\n",
       "                         'hidden_layer_sizes': [(12, 8, 4), (15, 10, 5),\n",
       "                                                (7, 7, 7)]},\n",
       "             verbose=2)"
      ]
     },
     "execution_count": 28,
     "metadata": {},
     "output_type": "execute_result"
    }
   ],
   "source": [
    "mlp_cv_model.fit(X_train, y_train)"
   ]
  },
  {
   "cell_type": "code",
   "execution_count": 29,
   "metadata": {},
   "outputs": [
    {
     "data": {
      "text/plain": [
       "{'alpha': 0.1, 'hidden_layer_sizes': (7, 7, 7)}"
      ]
     },
     "execution_count": 29,
     "metadata": {},
     "output_type": "execute_result"
    }
   ],
   "source": [
    "mlp_cv_model.best_params_"
   ]
  },
  {
   "cell_type": "code",
   "execution_count": 30,
   "metadata": {},
   "outputs": [],
   "source": [
    "mlp_tuned = MLPRegressor(alpha=0.1, hidden_layer_sizes=(7, 7, 7)).fit(X_train, y_train)"
   ]
  },
  {
   "cell_type": "code",
   "execution_count": 31,
   "metadata": {},
   "outputs": [],
   "source": [
    "y_pred_tuned = mlp_tuned.predict(X_test)"
   ]
  },
  {
   "cell_type": "code",
   "execution_count": 32,
   "metadata": {},
   "outputs": [
    {
     "data": {
      "text/plain": [
       "0.8371519877353418"
      ]
     },
     "execution_count": 32,
     "metadata": {},
     "output_type": "execute_result"
    }
   ],
   "source": [
    "r2_score(y_test, y_pred_tuned)"
   ]
  },
  {
   "cell_type": "code",
   "execution_count": 33,
   "metadata": {},
   "outputs": [],
   "source": [
    "# tune edilmiş yeni değerler ile tekrar tahmin edilen ve gerçek değerler karşılaştırılıyor.\n",
    "\n",
    "dff2 = pd.DataFrame(y_pred_tuned)\n",
    "dff2.columns = [\"predictions\"]\n",
    "dff2[\"reality\"] = np.array(y_test[\"RANK.1\"])"
   ]
  },
  {
   "cell_type": "code",
   "execution_count": 40,
   "metadata": {},
   "outputs": [
    {
     "name": "stdout",
     "output_type": "stream",
     "text": [
      "0.31027508090614886\n"
     ]
    }
   ],
   "source": [
    "# üst sayıya yuvarlanarak tahmin ediliyor\n",
    "\n",
    "count=0\n",
    "for i in range(0,len(dff2[\"reality\"])):\n",
    "#     print(round(dff[\"predictions\"][i],0))\n",
    "    if int(round(dff2[\"predictions\"][i],0)) == int(dff2[\"reality\"][i]):\n",
    "        count = count + 1\n",
    "print(count/len(y_pred_tuned))\n",
    "# count = 767 / 2742"
   ]
  },
  {
   "cell_type": "code",
   "execution_count": 37,
   "metadata": {},
   "outputs": [
    {
     "name": "stdout",
     "output_type": "stream",
     "text": [
      "0.2698220064724919\n"
     ]
    }
   ],
   "source": [
    "# üst sayıya yuvarlanmadan direkt int'e çevrilip eşleniyor\n",
    "\n",
    "count=0\n",
    "for i in range(0,len(dff2[\"reality\"])):\n",
    "#     print(round(dff[\"predictions\"][i],0))\n",
    "    if int(dff2[\"predictions\"][i]) == int(dff2[\"reality\"][i]):\n",
    "        count = count + 1\n",
    "print(count/len(y_pred_tuned))"
   ]
  },
  {
   "cell_type": "code",
   "execution_count": 42,
   "metadata": {},
   "outputs": [
    {
     "data": {
      "text/html": [
       "<div>\n",
       "<style scoped>\n",
       "    .dataframe tbody tr th:only-of-type {\n",
       "        vertical-align: middle;\n",
       "    }\n",
       "\n",
       "    .dataframe tbody tr th {\n",
       "        vertical-align: top;\n",
       "    }\n",
       "\n",
       "    .dataframe thead th {\n",
       "        text-align: right;\n",
       "    }\n",
       "</style>\n",
       "<table border=\"1\" class=\"dataframe\">\n",
       "  <thead>\n",
       "    <tr style=\"text-align: right;\">\n",
       "      <th></th>\n",
       "      <th>predictions</th>\n",
       "      <th>reality</th>\n",
       "    </tr>\n",
       "  </thead>\n",
       "  <tbody>\n",
       "    <tr>\n",
       "      <th>0</th>\n",
       "      <td>11.008557</td>\n",
       "      <td>12</td>\n",
       "    </tr>\n",
       "    <tr>\n",
       "      <th>1</th>\n",
       "      <td>10.800574</td>\n",
       "      <td>13</td>\n",
       "    </tr>\n",
       "    <tr>\n",
       "      <th>2</th>\n",
       "      <td>9.421778</td>\n",
       "      <td>10</td>\n",
       "    </tr>\n",
       "    <tr>\n",
       "      <th>3</th>\n",
       "      <td>14.436241</td>\n",
       "      <td>16</td>\n",
       "    </tr>\n",
       "    <tr>\n",
       "      <th>4</th>\n",
       "      <td>4.510502</td>\n",
       "      <td>4</td>\n",
       "    </tr>\n",
       "    <tr>\n",
       "      <th>...</th>\n",
       "      <td>...</td>\n",
       "      <td>...</td>\n",
       "    </tr>\n",
       "    <tr>\n",
       "      <th>2467</th>\n",
       "      <td>5.066948</td>\n",
       "      <td>6</td>\n",
       "    </tr>\n",
       "    <tr>\n",
       "      <th>2468</th>\n",
       "      <td>11.981612</td>\n",
       "      <td>15</td>\n",
       "    </tr>\n",
       "    <tr>\n",
       "      <th>2469</th>\n",
       "      <td>9.347790</td>\n",
       "      <td>11</td>\n",
       "    </tr>\n",
       "    <tr>\n",
       "      <th>2470</th>\n",
       "      <td>7.163480</td>\n",
       "      <td>7</td>\n",
       "    </tr>\n",
       "    <tr>\n",
       "      <th>2471</th>\n",
       "      <td>10.612429</td>\n",
       "      <td>10</td>\n",
       "    </tr>\n",
       "  </tbody>\n",
       "</table>\n",
       "<p>2472 rows × 2 columns</p>\n",
       "</div>"
      ],
      "text/plain": [
       "      predictions  reality\n",
       "0       11.008557       12\n",
       "1       10.800574       13\n",
       "2        9.421778       10\n",
       "3       14.436241       16\n",
       "4        4.510502        4\n",
       "...           ...      ...\n",
       "2467     5.066948        6\n",
       "2468    11.981612       15\n",
       "2469     9.347790       11\n",
       "2470     7.163480        7\n",
       "2471    10.612429       10\n",
       "\n",
       "[2472 rows x 2 columns]"
      ]
     },
     "execution_count": 42,
     "metadata": {},
     "output_type": "execute_result"
    }
   ],
   "source": [
    "dff2"
   ]
  },
  {
   "cell_type": "markdown",
   "metadata": {},
   "source": [
    "#### Model Tuning 2"
   ]
  },
  {
   "cell_type": "code",
   "execution_count": 58,
   "metadata": {},
   "outputs": [],
   "source": [
    "mlp_param2 = {\"alpha\": [0.1,0.01,0.001,0.2,0.4,0.8,1],\n",
    "             \"hidden_layer_sizes\": [(11,11,11), (15,15,15), (20,20,20)]}"
   ]
  },
  {
   "cell_type": "code",
   "execution_count": 59,
   "metadata": {},
   "outputs": [],
   "source": [
    "mlp_cv_model2 = GridSearchCV(mlp_tuned, mlp_param2, cv=10, n_jobs=-1, verbose=2)"
   ]
  },
  {
   "cell_type": "code",
   "execution_count": 60,
   "metadata": {},
   "outputs": [
    {
     "name": "stdout",
     "output_type": "stream",
     "text": [
      "Fitting 10 folds for each of 21 candidates, totalling 210 fits\n"
     ]
    },
    {
     "name": "stderr",
     "output_type": "stream",
     "text": [
      "[Parallel(n_jobs=-1)]: Using backend LokyBackend with 4 concurrent workers.\n",
      "[Parallel(n_jobs=-1)]: Done  33 tasks      | elapsed:  1.5min\n",
      "[Parallel(n_jobs=-1)]: Done 154 tasks      | elapsed:  6.7min\n",
      "[Parallel(n_jobs=-1)]: Done 210 out of 210 | elapsed:  9.2min finished\n"
     ]
    },
    {
     "data": {
      "text/plain": [
       "GridSearchCV(cv=10,\n",
       "             estimator=MLPRegressor(alpha=0.1, hidden_layer_sizes=(7, 7, 7)),\n",
       "             n_jobs=-1,\n",
       "             param_grid={'alpha': [0.1, 0.01, 0.001, 0.2, 0.4, 0.8, 1],\n",
       "                         'hidden_layer_sizes': [(11, 11, 11), (15, 15, 15),\n",
       "                                                (20, 20, 20)]},\n",
       "             verbose=2)"
      ]
     },
     "execution_count": 60,
     "metadata": {},
     "output_type": "execute_result"
    }
   ],
   "source": [
    "mlp_cv_model2.fit(X_train, y_train)"
   ]
  },
  {
   "cell_type": "code",
   "execution_count": 61,
   "metadata": {},
   "outputs": [
    {
     "data": {
      "text/plain": [
       "{'alpha': 0.8, 'hidden_layer_sizes': (11, 11, 11)}"
      ]
     },
     "execution_count": 61,
     "metadata": {},
     "output_type": "execute_result"
    }
   ],
   "source": [
    "mlp_cv_model2.best_params_"
   ]
  },
  {
   "cell_type": "code",
   "execution_count": 95,
   "metadata": {},
   "outputs": [],
   "source": [
    "mlp_tuned2 = MLPRegressor(alpha=4, hidden_layer_sizes=(5, 4, 3)).fit(X_train, y_train)"
   ]
  },
  {
   "cell_type": "code",
   "execution_count": 96,
   "metadata": {},
   "outputs": [],
   "source": [
    "y_pred_tuned2 = mlp_tuned2.predict(X_test)"
   ]
  },
  {
   "cell_type": "code",
   "execution_count": 97,
   "metadata": {},
   "outputs": [
    {
     "data": {
      "text/plain": [
       "0.8397726623018105"
      ]
     },
     "execution_count": 97,
     "metadata": {},
     "output_type": "execute_result"
    }
   ],
   "source": [
    "r2_score(y_test, y_pred_tuned2)"
   ]
  },
  {
   "cell_type": "code",
   "execution_count": 136,
   "metadata": {},
   "outputs": [
    {
     "data": {
      "text/plain": [
       "0.8244650850308797"
      ]
     },
     "execution_count": 136,
     "metadata": {},
     "output_type": "execute_result"
    }
   ],
   "source": [
    "# random_state değer atandı her uygulama sonrası farklı r2_score dönüyordu.\n",
    "\n",
    "mlp_tuned2 = MLPRegressor(alpha=8, hidden_layer_sizes=(6, 5, 4), random_state=10).fit(X_train, y_train)\n",
    "y_pred_tuned2 = mlp_tuned2.predict(X_test)\n",
    "r2_score(y_test, y_pred_tuned2)"
   ]
  },
  {
   "cell_type": "code",
   "execution_count": 180,
   "metadata": {},
   "outputs": [],
   "source": [
    "mlp = MLPRegressor(alpha=8, hidden_layer_sizes=(6, 5, 4, 4), verbose=True, \n",
    "                    learning_rate='adaptive', max_iter=500, random_state=1)"
   ]
  },
  {
   "cell_type": "code",
   "execution_count": 181,
   "metadata": {},
   "outputs": [
    {
     "name": "stdout",
     "output_type": "stream",
     "text": [
      "Iteration 1, loss = 78588.22987095\n",
      "Iteration 2, loss = 12787.36437695\n",
      "Iteration 3, loss = 4656.81993350\n",
      "Iteration 4, loss = 2762.51005484\n",
      "Iteration 5, loss = 1835.71249967\n",
      "Iteration 6, loss = 1239.32959268\n",
      "Iteration 7, loss = 838.12759485\n",
      "Iteration 8, loss = 566.65479911\n",
      "Iteration 9, loss = 380.92918727\n",
      "Iteration 10, loss = 253.09827614\n",
      "Iteration 11, loss = 168.41093112\n",
      "Iteration 12, loss = 111.49474600\n",
      "Iteration 13, loss = 73.86188841\n",
      "Iteration 14, loss = 49.42767991\n",
      "Iteration 15, loss = 33.62979379\n",
      "Iteration 16, loss = 23.43600111\n",
      "Iteration 17, loss = 17.04595786\n",
      "Iteration 18, loss = 13.02610835\n",
      "Iteration 19, loss = 10.52377314\n",
      "Iteration 20, loss = 6.47465518\n",
      "Iteration 21, loss = 5.76946486\n",
      "Iteration 22, loss = 5.49323891\n",
      "Iteration 23, loss = 5.23769981\n",
      "Iteration 24, loss = 5.04767726\n",
      "Iteration 25, loss = 4.79788456\n",
      "Iteration 26, loss = 4.54141314\n",
      "Iteration 27, loss = 4.31697878\n",
      "Iteration 28, loss = 4.03350352\n",
      "Iteration 29, loss = 3.75591881\n",
      "Iteration 30, loss = 3.51290542\n",
      "Iteration 31, loss = 3.30923542\n",
      "Iteration 32, loss = 3.13969787\n",
      "Iteration 33, loss = 3.01871206\n",
      "Iteration 34, loss = 2.91409742\n",
      "Iteration 35, loss = 2.86178809\n",
      "Iteration 36, loss = 2.79549259\n",
      "Iteration 37, loss = 2.69028358\n",
      "Iteration 38, loss = 2.58936636\n",
      "Iteration 39, loss = 2.52746789\n",
      "Iteration 40, loss = 2.47355661\n",
      "Iteration 41, loss = 2.47693936\n",
      "Iteration 42, loss = 2.41138616\n",
      "Iteration 43, loss = 2.38343357\n",
      "Iteration 44, loss = 2.36322559\n",
      "Iteration 45, loss = 2.34754890\n",
      "Iteration 46, loss = 2.32843224\n",
      "Iteration 47, loss = 2.33283455\n",
      "Iteration 48, loss = 2.31131699\n",
      "Iteration 49, loss = 2.29203585\n",
      "Iteration 50, loss = 2.30901747\n",
      "Iteration 51, loss = 2.31713771\n",
      "Iteration 52, loss = 2.28513023\n",
      "Iteration 53, loss = 2.25747125\n",
      "Iteration 54, loss = 2.26424279\n",
      "Iteration 55, loss = 2.24103295\n",
      "Iteration 56, loss = 2.23425910\n",
      "Iteration 57, loss = 2.22304654\n",
      "Iteration 58, loss = 2.21436121\n",
      "Iteration 59, loss = 2.22377818\n",
      "Iteration 60, loss = 2.20396576\n",
      "Iteration 61, loss = 2.18551992\n",
      "Iteration 62, loss = 2.18270835\n",
      "Iteration 63, loss = 2.17752817\n",
      "Iteration 64, loss = 2.17763266\n",
      "Iteration 65, loss = 2.14137030\n",
      "Iteration 66, loss = 2.13661183\n",
      "Iteration 67, loss = 2.13707782\n",
      "Iteration 68, loss = 2.11333066\n",
      "Iteration 69, loss = 2.09306601\n",
      "Iteration 70, loss = 2.08149724\n",
      "Iteration 71, loss = 2.06820157\n",
      "Iteration 72, loss = 2.06041278\n",
      "Iteration 73, loss = 2.06389436\n",
      "Iteration 74, loss = 2.03113806\n",
      "Iteration 75, loss = 2.02348484\n",
      "Iteration 76, loss = 2.04597107\n",
      "Iteration 77, loss = 1.99888607\n",
      "Iteration 78, loss = 1.98538070\n",
      "Iteration 79, loss = 1.97748556\n",
      "Iteration 80, loss = 1.97424729\n",
      "Iteration 81, loss = 1.95900761\n",
      "Iteration 82, loss = 1.95745196\n",
      "Iteration 83, loss = 1.94304278\n",
      "Iteration 84, loss = 1.93633406\n",
      "Iteration 85, loss = 1.92864229\n",
      "Iteration 86, loss = 1.91853114\n",
      "Iteration 87, loss = 1.91106885\n",
      "Iteration 88, loss = 1.90559875\n",
      "Iteration 89, loss = 1.90042683\n",
      "Iteration 90, loss = 1.88789963\n",
      "Iteration 91, loss = 1.88951429\n",
      "Iteration 92, loss = 1.88786998\n",
      "Iteration 93, loss = 1.87688081\n",
      "Iteration 94, loss = 1.88175889\n",
      "Iteration 95, loss = 1.86339123\n",
      "Iteration 96, loss = 1.85707102\n",
      "Iteration 97, loss = 1.84762907\n",
      "Iteration 98, loss = 1.83769188\n",
      "Iteration 99, loss = 1.85534614\n",
      "Iteration 100, loss = 1.85053805\n",
      "Iteration 101, loss = 1.83388767\n",
      "Iteration 102, loss = 1.82893844\n",
      "Iteration 103, loss = 1.83087675\n",
      "Iteration 104, loss = 1.81459185\n",
      "Iteration 105, loss = 1.81628426\n",
      "Iteration 106, loss = 1.80991037\n",
      "Iteration 107, loss = 1.80950663\n",
      "Iteration 108, loss = 1.81139448\n",
      "Iteration 109, loss = 1.82426464\n",
      "Iteration 110, loss = 1.83895357\n",
      "Iteration 111, loss = 1.81399306\n",
      "Iteration 112, loss = 1.81707765\n",
      "Iteration 113, loss = 1.78652969\n",
      "Iteration 114, loss = 1.79677787\n",
      "Iteration 115, loss = 1.78605794\n",
      "Iteration 116, loss = 1.80179490\n",
      "Iteration 117, loss = 1.78919552\n",
      "Iteration 118, loss = 1.76383964\n",
      "Iteration 119, loss = 1.76209539\n",
      "Iteration 120, loss = 1.76306717\n",
      "Iteration 121, loss = 1.77242544\n",
      "Iteration 122, loss = 1.76075483\n",
      "Iteration 123, loss = 1.78108092\n",
      "Iteration 124, loss = 1.77067234\n",
      "Iteration 125, loss = 1.75568282\n",
      "Iteration 126, loss = 1.74515755\n",
      "Iteration 127, loss = 1.74676115\n",
      "Iteration 128, loss = 1.74211842\n",
      "Iteration 129, loss = 1.74047012\n",
      "Iteration 130, loss = 1.72335893\n",
      "Iteration 131, loss = 1.72443482\n",
      "Iteration 132, loss = 1.71974487\n",
      "Iteration 133, loss = 1.74115652\n",
      "Iteration 134, loss = 1.72751989\n",
      "Iteration 135, loss = 1.73197990\n",
      "Iteration 136, loss = 1.75995272\n",
      "Iteration 137, loss = 1.70126980\n",
      "Iteration 138, loss = 1.71206932\n",
      "Iteration 139, loss = 1.71301944\n",
      "Iteration 140, loss = 1.70260213\n",
      "Iteration 141, loss = 1.69761975\n",
      "Iteration 142, loss = 1.70216063\n",
      "Iteration 143, loss = 1.70161441\n",
      "Iteration 144, loss = 1.69704148\n",
      "Iteration 145, loss = 1.69185057\n",
      "Iteration 146, loss = 1.71093679\n",
      "Iteration 147, loss = 1.69443879\n",
      "Iteration 148, loss = 1.67963693\n",
      "Iteration 149, loss = 1.71357775\n",
      "Iteration 150, loss = 1.69396168\n",
      "Iteration 151, loss = 1.69242196\n",
      "Iteration 152, loss = 1.68182787\n",
      "Iteration 153, loss = 1.67597606\n",
      "Iteration 154, loss = 1.66335101\n",
      "Iteration 155, loss = 1.68399438\n",
      "Iteration 156, loss = 1.66526522\n",
      "Iteration 157, loss = 1.67539784\n",
      "Iteration 158, loss = 1.67556777\n",
      "Iteration 159, loss = 1.66613548\n",
      "Iteration 160, loss = 1.66602363\n",
      "Iteration 161, loss = 1.65726554\n",
      "Iteration 162, loss = 1.64448717\n",
      "Iteration 163, loss = 1.66083917\n",
      "Iteration 164, loss = 1.65065411\n",
      "Iteration 165, loss = 1.65647868\n",
      "Iteration 166, loss = 1.71255375\n",
      "Iteration 167, loss = 1.65809750\n",
      "Iteration 168, loss = 1.63669899\n",
      "Iteration 169, loss = 1.63591267\n",
      "Iteration 170, loss = 1.65562963\n",
      "Iteration 171, loss = 1.65686004\n",
      "Iteration 172, loss = 1.65381727\n",
      "Iteration 173, loss = 1.62649021\n",
      "Iteration 174, loss = 1.62691427\n",
      "Iteration 175, loss = 1.62626144\n",
      "Iteration 176, loss = 1.63381387\n",
      "Iteration 177, loss = 1.65716871\n",
      "Iteration 178, loss = 1.62518185\n",
      "Iteration 179, loss = 1.62238782\n",
      "Iteration 180, loss = 1.62987108\n",
      "Iteration 181, loss = 1.63620404\n",
      "Iteration 182, loss = 1.65792997\n",
      "Iteration 183, loss = 1.63974896\n",
      "Iteration 184, loss = 1.62914589\n",
      "Iteration 185, loss = 1.61746886\n",
      "Iteration 186, loss = 1.60609309\n",
      "Iteration 187, loss = 1.62467845\n",
      "Iteration 188, loss = 1.61869645\n",
      "Iteration 189, loss = 1.59966744\n",
      "Iteration 190, loss = 1.62260738\n",
      "Iteration 191, loss = 1.60910425\n",
      "Iteration 192, loss = 1.59409558\n",
      "Iteration 193, loss = 1.59949676\n",
      "Iteration 194, loss = 1.58289124\n",
      "Iteration 195, loss = 1.64068422\n",
      "Iteration 196, loss = 1.58157515\n",
      "Iteration 197, loss = 1.58634779\n",
      "Iteration 198, loss = 1.60004989\n",
      "Iteration 199, loss = 1.61336578\n",
      "Iteration 200, loss = 1.59154590\n",
      "Iteration 201, loss = 1.56949571\n",
      "Iteration 202, loss = 1.58035622\n",
      "Iteration 203, loss = 1.56824513\n",
      "Iteration 204, loss = 1.57725602\n",
      "Iteration 205, loss = 1.65300470\n",
      "Iteration 206, loss = 1.58293232\n",
      "Iteration 207, loss = 1.57255598\n",
      "Iteration 208, loss = 1.56262555\n",
      "Iteration 209, loss = 1.56497130\n",
      "Iteration 210, loss = 1.54847660\n",
      "Iteration 211, loss = 1.57468740\n",
      "Iteration 212, loss = 1.55712320\n",
      "Iteration 213, loss = 1.59303879\n",
      "Iteration 214, loss = 1.55165361\n",
      "Iteration 215, loss = 1.57119747\n",
      "Iteration 216, loss = 1.56378956\n",
      "Iteration 217, loss = 1.54420778\n",
      "Iteration 218, loss = 1.53719143\n",
      "Iteration 219, loss = 1.54617178\n",
      "Iteration 220, loss = 1.52081736\n",
      "Iteration 221, loss = 1.56388450\n",
      "Iteration 222, loss = 1.55572758\n",
      "Iteration 223, loss = 1.56008317\n",
      "Iteration 224, loss = 1.54383758\n",
      "Iteration 225, loss = 1.53086814\n",
      "Iteration 226, loss = 1.55722690\n",
      "Iteration 227, loss = 1.55810862\n",
      "Iteration 228, loss = 1.53905160\n",
      "Iteration 229, loss = 1.52057249\n",
      "Iteration 230, loss = 1.52793301\n",
      "Iteration 231, loss = 1.58370533\n",
      "Iteration 232, loss = 1.50778639\n",
      "Iteration 233, loss = 1.57130530\n",
      "Iteration 234, loss = 1.49995971\n",
      "Iteration 235, loss = 1.49465464\n",
      "Iteration 236, loss = 1.51218098\n",
      "Iteration 237, loss = 1.54881705\n",
      "Iteration 238, loss = 1.49692171\n",
      "Iteration 239, loss = 1.54044943\n",
      "Iteration 240, loss = 1.51249646\n",
      "Iteration 241, loss = 1.50083123\n",
      "Iteration 242, loss = 1.52098405\n",
      "Iteration 243, loss = 1.49798466\n",
      "Iteration 244, loss = 1.50154607\n",
      "Iteration 245, loss = 1.48503988\n",
      "Iteration 246, loss = 1.65832180\n",
      "Iteration 247, loss = 1.54839622\n",
      "Iteration 248, loss = 1.53011368\n",
      "Iteration 249, loss = 1.50392885\n",
      "Iteration 250, loss = 1.47033470\n",
      "Iteration 251, loss = 1.47135677\n"
     ]
    },
    {
     "name": "stdout",
     "output_type": "stream",
     "text": [
      "Iteration 252, loss = 1.47568080\n",
      "Iteration 253, loss = 1.52127736\n",
      "Iteration 254, loss = 1.46622287\n",
      "Iteration 255, loss = 1.46432033\n",
      "Iteration 256, loss = 1.52238492\n",
      "Iteration 257, loss = 1.48540322\n",
      "Iteration 258, loss = 1.51427342\n",
      "Iteration 259, loss = 1.47821733\n",
      "Iteration 260, loss = 1.48882705\n",
      "Iteration 261, loss = 1.45106600\n",
      "Iteration 262, loss = 1.50458753\n",
      "Iteration 263, loss = 1.44888370\n",
      "Iteration 264, loss = 1.48480917\n",
      "Iteration 265, loss = 1.44140966\n",
      "Iteration 266, loss = 1.46219104\n",
      "Iteration 267, loss = 1.44859316\n",
      "Iteration 268, loss = 1.45623941\n",
      "Iteration 269, loss = 1.48437964\n",
      "Iteration 270, loss = 1.44825051\n",
      "Iteration 271, loss = 1.58712138\n",
      "Iteration 272, loss = 1.49451007\n",
      "Iteration 273, loss = 1.46061461\n",
      "Iteration 274, loss = 1.43926919\n",
      "Iteration 275, loss = 1.47146426\n",
      "Iteration 276, loss = 1.62983511\n",
      "Iteration 277, loss = 1.47026415\n",
      "Iteration 278, loss = 1.43760701\n",
      "Iteration 279, loss = 1.48231552\n",
      "Iteration 280, loss = 1.45622316\n",
      "Iteration 281, loss = 1.43293162\n",
      "Iteration 282, loss = 1.42799009\n",
      "Iteration 283, loss = 1.43375676\n",
      "Iteration 284, loss = 1.48590503\n",
      "Iteration 285, loss = 1.45436439\n",
      "Iteration 286, loss = 1.44543860\n",
      "Iteration 287, loss = 1.45622167\n",
      "Iteration 288, loss = 1.47509293\n",
      "Iteration 289, loss = 1.40014256\n",
      "Iteration 290, loss = 1.40879683\n",
      "Iteration 291, loss = 1.50317304\n",
      "Iteration 292, loss = 1.40906116\n",
      "Iteration 293, loss = 1.42630481\n",
      "Iteration 294, loss = 1.41972706\n",
      "Iteration 295, loss = 1.44366235\n",
      "Iteration 296, loss = 1.53916748\n",
      "Iteration 297, loss = 1.43477468\n",
      "Iteration 298, loss = 1.40831680\n",
      "Iteration 299, loss = 1.43346000\n",
      "Iteration 300, loss = 1.41487729\n",
      "Training loss did not improve more than tol=0.000100 for 10 consecutive epochs. Stopping.\n"
     ]
    },
    {
     "data": {
      "text/plain": [
       "MLPRegressor(alpha=8, hidden_layer_sizes=(6, 5, 4, 4), learning_rate='adaptive',\n",
       "             max_iter=500, random_state=1, verbose=True)"
      ]
     },
     "execution_count": 181,
     "metadata": {},
     "output_type": "execute_result"
    }
   ],
   "source": [
    "mlp.fit(X_train, y_train)"
   ]
  },
  {
   "cell_type": "code",
   "execution_count": 182,
   "metadata": {},
   "outputs": [],
   "source": [
    "y22 = mlp.predict(X_test)"
   ]
  },
  {
   "cell_type": "code",
   "execution_count": 183,
   "metadata": {},
   "outputs": [
    {
     "data": {
      "text/plain": [
       "0.8491347542931635"
      ]
     },
     "execution_count": 183,
     "metadata": {},
     "output_type": "execute_result"
    }
   ],
   "source": [
    "r2_score(y_test, y22)"
   ]
  },
  {
   "cell_type": "code",
   "execution_count": 184,
   "metadata": {},
   "outputs": [],
   "source": [
    "dff3 = pd.DataFrame(y22)\n",
    "dff3.columns = [\"predictions\"]\n",
    "dff3[\"reality\"] = np.array(y_test[\"RANK.1\"])"
   ]
  },
  {
   "cell_type": "code",
   "execution_count": 189,
   "metadata": {},
   "outputs": [
    {
     "name": "stdout",
     "output_type": "stream",
     "text": [
      "doğru tahmin yüzdesi:  31.19\n"
     ]
    }
   ],
   "source": [
    "# üst sayıya yuvarlanarak tahmin ediliyor\n",
    "\n",
    "count=0\n",
    "for i in range(0,len(dff3[\"reality\"])):\n",
    "\n",
    "    if int(round(dff3[\"predictions\"][i],0)) == int(dff3[\"reality\"][i]):\n",
    "        count = count + 1\n",
    "print(\"doğru tahmin yüzdesi: \",round(count/len(y22)*100,2))\n"
   ]
  },
  {
   "cell_type": "code",
   "execution_count": 190,
   "metadata": {},
   "outputs": [
    {
     "name": "stdout",
     "output_type": "stream",
     "text": [
      "doğru tahmin yüzdesi:  31.55\n"
     ]
    }
   ],
   "source": [
    "# yuvarlama olmadan sayılar hesaplanıyor\n",
    "\n",
    "count=0\n",
    "for i in range(0,len(dff3[\"reality\"])):\n",
    "#     print(round(dff[\"predictions\"][i],0))\n",
    "    if int((dff3[\"predictions\"][i])) == int(dff3[\"reality\"][i]):\n",
    "        count = count + 1\n",
    "print(\"doğru tahmin yüzdesi: \",round(count/len(y22)*100,2))"
   ]
  },
  {
   "cell_type": "code",
   "execution_count": 199,
   "metadata": {},
   "outputs": [],
   "source": [
    "mlp_2 = MLPRegressor(alpha=2, hidden_layer_sizes=(12, 12, 12, 12), verbose=True, \n",
    "                    learning_rate='adaptive', max_iter=500, random_state=2)"
   ]
  },
  {
   "cell_type": "code",
   "execution_count": 200,
   "metadata": {},
   "outputs": [
    {
     "name": "stdout",
     "output_type": "stream",
     "text": [
      "Iteration 1, loss = 26.38864718\n",
      "Iteration 2, loss = 11.90880722\n",
      "Iteration 3, loss = 7.63251823\n",
      "Iteration 4, loss = 5.85384416\n",
      "Iteration 5, loss = 4.29842484\n",
      "Iteration 6, loss = 3.31201518\n",
      "Iteration 7, loss = 2.71713638\n",
      "Iteration 8, loss = 2.42411851\n",
      "Iteration 9, loss = 2.39165278\n",
      "Iteration 10, loss = 2.35180091\n",
      "Iteration 11, loss = 2.21545215\n",
      "Iteration 12, loss = 2.18921079\n",
      "Iteration 13, loss = 2.15269974\n",
      "Iteration 14, loss = 2.12491938\n",
      "Iteration 15, loss = 2.11186354\n",
      "Iteration 16, loss = 2.09160923\n",
      "Iteration 17, loss = 2.05606734\n",
      "Iteration 18, loss = 2.01478714\n",
      "Iteration 19, loss = 2.05220449\n",
      "Iteration 20, loss = 1.96923797\n",
      "Iteration 21, loss = 1.94511071\n",
      "Iteration 22, loss = 1.91178165\n",
      "Iteration 23, loss = 1.87246217\n",
      "Iteration 24, loss = 1.81977117\n",
      "Iteration 25, loss = 1.78776652\n",
      "Iteration 26, loss = 1.76994545\n",
      "Iteration 27, loss = 1.76715878\n",
      "Iteration 28, loss = 1.75721868\n",
      "Iteration 29, loss = 1.71317319\n",
      "Iteration 30, loss = 1.66871514\n",
      "Iteration 31, loss = 1.65076577\n",
      "Iteration 32, loss = 1.62752872\n",
      "Iteration 33, loss = 1.66374402\n",
      "Iteration 34, loss = 1.58255183\n",
      "Iteration 35, loss = 1.60986185\n",
      "Iteration 36, loss = 1.72247542\n",
      "Iteration 37, loss = 1.61513460\n",
      "Iteration 38, loss = 1.61801245\n",
      "Iteration 39, loss = 1.58944083\n",
      "Iteration 40, loss = 1.53044084\n",
      "Iteration 41, loss = 1.54570202\n",
      "Iteration 42, loss = 1.53633890\n",
      "Iteration 43, loss = 1.56676812\n",
      "Iteration 44, loss = 1.59564634\n",
      "Iteration 45, loss = 1.49821182\n",
      "Iteration 46, loss = 1.51503587\n",
      "Iteration 47, loss = 1.50228011\n",
      "Iteration 48, loss = 1.51268331\n",
      "Iteration 49, loss = 1.48714502\n",
      "Iteration 50, loss = 1.54008309\n",
      "Iteration 51, loss = 1.74917604\n",
      "Iteration 52, loss = 1.48692860\n",
      "Iteration 53, loss = 1.46337521\n",
      "Iteration 54, loss = 1.48342228\n",
      "Iteration 55, loss = 1.43847376\n",
      "Iteration 56, loss = 1.43983600\n",
      "Iteration 57, loss = 1.44878162\n",
      "Iteration 58, loss = 1.46910088\n",
      "Iteration 59, loss = 1.42988157\n",
      "Iteration 60, loss = 1.42195634\n",
      "Iteration 61, loss = 1.47222237\n",
      "Iteration 62, loss = 1.62265159\n",
      "Iteration 63, loss = 1.42193814\n",
      "Iteration 64, loss = 1.40814429\n",
      "Iteration 65, loss = 1.42768480\n",
      "Iteration 66, loss = 1.42615820\n",
      "Iteration 67, loss = 1.42519874\n",
      "Iteration 68, loss = 1.48022483\n",
      "Iteration 69, loss = 1.38578739\n",
      "Iteration 70, loss = 1.40113401\n",
      "Iteration 71, loss = 1.35824468\n",
      "Iteration 72, loss = 1.40107314\n",
      "Iteration 73, loss = 1.33754908\n",
      "Iteration 74, loss = 1.37455352\n",
      "Iteration 75, loss = 1.38486789\n",
      "Iteration 76, loss = 1.40477254\n",
      "Iteration 77, loss = 1.35198722\n",
      "Iteration 78, loss = 1.35135833\n",
      "Iteration 79, loss = 1.31845075\n",
      "Iteration 80, loss = 1.34729247\n",
      "Iteration 81, loss = 1.33155343\n",
      "Iteration 82, loss = 1.33894150\n",
      "Iteration 83, loss = 1.31763241\n",
      "Iteration 84, loss = 1.28458569\n",
      "Iteration 85, loss = 1.28652973\n",
      "Iteration 86, loss = 1.28062747\n",
      "Iteration 87, loss = 1.27426128\n",
      "Iteration 88, loss = 1.25926346\n",
      "Iteration 89, loss = 1.24043742\n",
      "Iteration 90, loss = 1.24188531\n",
      "Iteration 91, loss = 1.25276493\n",
      "Iteration 92, loss = 1.24482661\n",
      "Iteration 93, loss = 1.24734980\n",
      "Iteration 94, loss = 1.23755146\n",
      "Iteration 95, loss = 1.25876028\n",
      "Iteration 96, loss = 1.26499527\n",
      "Iteration 97, loss = 1.19577083\n",
      "Iteration 98, loss = 1.19293147\n",
      "Iteration 99, loss = 1.24221422\n",
      "Iteration 100, loss = 1.35469230\n",
      "Iteration 101, loss = 1.21423049\n",
      "Iteration 102, loss = 1.22412695\n",
      "Iteration 103, loss = 1.17816000\n",
      "Iteration 104, loss = 1.19370302\n",
      "Iteration 105, loss = 1.17498849\n",
      "Iteration 106, loss = 1.19153319\n",
      "Iteration 107, loss = 1.21473138\n",
      "Iteration 108, loss = 1.20208880\n",
      "Iteration 109, loss = 1.15116472\n",
      "Iteration 110, loss = 1.26239999\n",
      "Iteration 111, loss = 1.21253385\n",
      "Iteration 112, loss = 1.14702379\n",
      "Iteration 113, loss = 1.13040259\n",
      "Iteration 114, loss = 1.13888771\n",
      "Iteration 115, loss = 1.15230594\n",
      "Iteration 116, loss = 1.12769801\n",
      "Iteration 117, loss = 1.14139587\n",
      "Iteration 118, loss = 1.10779891\n",
      "Iteration 119, loss = 1.10772633\n",
      "Iteration 120, loss = 1.12615489\n",
      "Iteration 121, loss = 1.12816561\n",
      "Iteration 122, loss = 1.18693519\n",
      "Iteration 123, loss = 1.08941006\n",
      "Iteration 124, loss = 1.10600257\n",
      "Iteration 125, loss = 1.09039358\n",
      "Iteration 126, loss = 1.09153577\n",
      "Iteration 127, loss = 1.10214617\n",
      "Iteration 128, loss = 1.11716234\n",
      "Iteration 129, loss = 1.18495239\n",
      "Iteration 130, loss = 1.11531103\n",
      "Iteration 131, loss = 1.08374844\n",
      "Iteration 132, loss = 1.10462497\n",
      "Iteration 133, loss = 1.06892642\n",
      "Iteration 134, loss = 1.07879915\n",
      "Iteration 135, loss = 1.05369406\n",
      "Iteration 136, loss = 1.05989730\n",
      "Iteration 137, loss = 1.06894407\n",
      "Iteration 138, loss = 1.05404368\n",
      "Iteration 139, loss = 1.10705260\n",
      "Iteration 140, loss = 1.06026258\n",
      "Iteration 141, loss = 1.07538147\n",
      "Iteration 142, loss = 1.10682160\n",
      "Iteration 143, loss = 1.05092766\n",
      "Iteration 144, loss = 1.05230375\n",
      "Iteration 145, loss = 1.03499505\n",
      "Iteration 146, loss = 1.05158745\n",
      "Iteration 147, loss = 1.03325698\n",
      "Iteration 148, loss = 1.03807554\n",
      "Iteration 149, loss = 1.02583304\n",
      "Iteration 150, loss = 1.05466480\n",
      "Iteration 151, loss = 1.02338501\n",
      "Iteration 152, loss = 1.04454694\n",
      "Iteration 153, loss = 1.04348305\n",
      "Iteration 154, loss = 1.07287681\n",
      "Iteration 155, loss = 1.03898055\n",
      "Iteration 156, loss = 1.02337647\n",
      "Iteration 157, loss = 1.03196147\n",
      "Iteration 158, loss = 1.04196992\n",
      "Iteration 159, loss = 1.14128059\n",
      "Iteration 160, loss = 1.07428672\n",
      "Iteration 161, loss = 1.03511474\n",
      "Iteration 162, loss = 1.03647141\n",
      "Training loss did not improve more than tol=0.000100 for 10 consecutive epochs. Stopping.\n"
     ]
    },
    {
     "data": {
      "text/plain": [
       "MLPRegressor(alpha=2, hidden_layer_sizes=(12, 12, 12, 12),\n",
       "             learning_rate='adaptive', max_iter=500, random_state=2,\n",
       "             verbose=True)"
      ]
     },
     "execution_count": 200,
     "metadata": {},
     "output_type": "execute_result"
    }
   ],
   "source": [
    "mlp_2.fit(X_train, y_train)"
   ]
  },
  {
   "cell_type": "code",
   "execution_count": 201,
   "metadata": {},
   "outputs": [],
   "source": [
    "y2 = mlp_2.predict(X_test)"
   ]
  },
  {
   "cell_type": "code",
   "execution_count": 202,
   "metadata": {},
   "outputs": [
    {
     "data": {
      "text/plain": [
       "0.8558513286496768"
      ]
     },
     "execution_count": 202,
     "metadata": {},
     "output_type": "execute_result"
    }
   ],
   "source": [
    "r2_score(y_test, y2)"
   ]
  },
  {
   "cell_type": "code",
   "execution_count": 215,
   "metadata": {},
   "outputs": [],
   "source": [
    "mlp = MLPRegressor(alpha=8, hidden_layer_sizes=(6, 5, 5, 3), verbose=True, \n",
    "                    learning_rate='adaptive', max_iter=500, random_state=4)"
   ]
  },
  {
   "cell_type": "code",
   "execution_count": 216,
   "metadata": {},
   "outputs": [
    {
     "name": "stdout",
     "output_type": "stream",
     "text": [
      "Iteration 1, loss = 14.20816826\n",
      "Iteration 2, loss = 9.14093373\n",
      "Iteration 3, loss = 6.88717367\n",
      "Iteration 4, loss = 5.56690937\n",
      "Iteration 5, loss = 4.72112710\n",
      "Iteration 6, loss = 4.06739507\n",
      "Iteration 7, loss = 3.67460060\n",
      "Iteration 8, loss = 3.30981917\n",
      "Iteration 9, loss = 3.08505445\n",
      "Iteration 10, loss = 2.92156129\n",
      "Iteration 11, loss = 2.80205108\n",
      "Iteration 12, loss = 2.72431371\n",
      "Iteration 13, loss = 2.72647896\n",
      "Iteration 14, loss = 2.63838971\n",
      "Iteration 15, loss = 2.52916897\n",
      "Iteration 16, loss = 2.51344902\n",
      "Iteration 17, loss = 2.43962575\n",
      "Iteration 18, loss = 2.41732590\n",
      "Iteration 19, loss = 2.37907144\n",
      "Iteration 20, loss = 2.33202695\n",
      "Iteration 21, loss = 2.32156711\n",
      "Iteration 22, loss = 2.25078768\n",
      "Iteration 23, loss = 2.24202764\n",
      "Iteration 24, loss = 2.26540099\n",
      "Iteration 25, loss = 2.24395287\n",
      "Iteration 26, loss = 2.17241784\n",
      "Iteration 27, loss = 2.14052631\n",
      "Iteration 28, loss = 2.10340592\n",
      "Iteration 29, loss = 2.12852637\n",
      "Iteration 30, loss = 2.18657387\n",
      "Iteration 31, loss = 2.11240980\n",
      "Iteration 32, loss = 2.03731777\n",
      "Iteration 33, loss = 2.02302077\n",
      "Iteration 34, loss = 2.05664284\n",
      "Iteration 35, loss = 2.01789283\n",
      "Iteration 36, loss = 2.00591328\n",
      "Iteration 37, loss = 1.98874144\n",
      "Iteration 38, loss = 2.01631689\n",
      "Iteration 39, loss = 1.95885717\n",
      "Iteration 40, loss = 1.95159278\n",
      "Iteration 41, loss = 1.95146102\n",
      "Iteration 42, loss = 1.98774373\n",
      "Iteration 43, loss = 1.94201317\n",
      "Iteration 44, loss = 1.92678417\n",
      "Iteration 45, loss = 1.88744101\n",
      "Iteration 46, loss = 1.94463566\n",
      "Iteration 47, loss = 1.89385579\n",
      "Iteration 48, loss = 1.94253852\n",
      "Iteration 49, loss = 1.93673082\n",
      "Iteration 50, loss = 1.86330405\n",
      "Iteration 51, loss = 1.86894307\n",
      "Iteration 52, loss = 1.86145569\n",
      "Iteration 53, loss = 1.90101198\n",
      "Iteration 54, loss = 1.86877836\n",
      "Iteration 55, loss = 1.86693133\n",
      "Iteration 56, loss = 1.86601515\n",
      "Iteration 57, loss = 1.92848485\n",
      "Iteration 58, loss = 1.79914385\n",
      "Iteration 59, loss = 1.81536786\n",
      "Iteration 60, loss = 1.80053039\n",
      "Iteration 61, loss = 1.82393405\n",
      "Iteration 62, loss = 1.78538478\n",
      "Iteration 63, loss = 1.76660751\n",
      "Iteration 64, loss = 1.77773685\n",
      "Iteration 65, loss = 1.82577278\n",
      "Iteration 66, loss = 1.74599459\n",
      "Iteration 67, loss = 1.90698790\n",
      "Iteration 68, loss = 1.79385231\n",
      "Iteration 69, loss = 1.75411419\n",
      "Iteration 70, loss = 1.74873245\n",
      "Iteration 71, loss = 1.75959825\n",
      "Iteration 72, loss = 1.73682508\n",
      "Iteration 73, loss = 1.78886658\n",
      "Iteration 74, loss = 1.79584714\n",
      "Iteration 75, loss = 1.73220256\n",
      "Iteration 76, loss = 1.68460384\n",
      "Iteration 77, loss = 1.70917532\n",
      "Iteration 78, loss = 1.71686313\n",
      "Iteration 79, loss = 1.70836326\n",
      "Iteration 80, loss = 1.68421381\n",
      "Iteration 81, loss = 1.66204137\n",
      "Iteration 82, loss = 1.77953803\n",
      "Iteration 83, loss = 1.68026168\n",
      "Iteration 84, loss = 1.70569476\n",
      "Iteration 85, loss = 1.66996709\n",
      "Iteration 86, loss = 1.66451231\n",
      "Iteration 87, loss = 1.66714183\n",
      "Iteration 88, loss = 1.68068697\n",
      "Iteration 89, loss = 1.69479040\n",
      "Iteration 90, loss = 1.67471726\n",
      "Iteration 91, loss = 1.81580223\n",
      "Iteration 92, loss = 1.64040537\n",
      "Iteration 93, loss = 1.60360329\n",
      "Iteration 94, loss = 1.61017569\n",
      "Iteration 95, loss = 1.59658490\n",
      "Iteration 96, loss = 1.60302596\n",
      "Iteration 97, loss = 1.57642894\n",
      "Iteration 98, loss = 1.62155546\n",
      "Iteration 99, loss = 1.59935868\n",
      "Iteration 100, loss = 1.62629903\n",
      "Iteration 101, loss = 1.56988104\n",
      "Iteration 102, loss = 1.58642972\n",
      "Iteration 103, loss = 1.59365310\n",
      "Iteration 104, loss = 1.64686515\n",
      "Iteration 105, loss = 1.58250139\n",
      "Iteration 106, loss = 1.61733252\n",
      "Iteration 107, loss = 1.61746519\n",
      "Iteration 108, loss = 1.63427831\n",
      "Iteration 109, loss = 1.60446720\n",
      "Iteration 110, loss = 1.59428391\n",
      "Iteration 111, loss = 1.52640314\n",
      "Iteration 112, loss = 1.52946446\n",
      "Iteration 113, loss = 1.57540336\n",
      "Iteration 114, loss = 1.64406621\n",
      "Iteration 115, loss = 1.62277186\n",
      "Iteration 116, loss = 1.55762651\n",
      "Iteration 117, loss = 1.63909063\n",
      "Iteration 118, loss = 1.57919562\n",
      "Iteration 119, loss = 1.57394361\n",
      "Iteration 120, loss = 1.57668040\n",
      "Iteration 121, loss = 1.55453630\n",
      "Iteration 122, loss = 1.48163036\n",
      "Iteration 123, loss = 1.52723706\n",
      "Iteration 124, loss = 1.49855624\n",
      "Iteration 125, loss = 1.49688015\n",
      "Iteration 126, loss = 1.51032048\n",
      "Iteration 127, loss = 1.48602664\n",
      "Iteration 128, loss = 1.51374659\n",
      "Iteration 129, loss = 1.47531343\n",
      "Iteration 130, loss = 1.47067681\n",
      "Iteration 131, loss = 1.50724666\n",
      "Iteration 132, loss = 1.52092962\n",
      "Iteration 133, loss = 1.85596150\n",
      "Iteration 134, loss = 1.47751758\n",
      "Iteration 135, loss = 1.48428315\n",
      "Iteration 136, loss = 1.47098455\n",
      "Iteration 137, loss = 1.45002889\n",
      "Iteration 138, loss = 1.59043026\n",
      "Iteration 139, loss = 1.50834262\n",
      "Iteration 140, loss = 1.50348942\n",
      "Iteration 141, loss = 1.44293468\n",
      "Iteration 142, loss = 1.47136910\n",
      "Iteration 143, loss = 1.47479383\n",
      "Iteration 144, loss = 1.42821150\n",
      "Iteration 145, loss = 1.48034844\n",
      "Iteration 146, loss = 1.42177136\n",
      "Iteration 147, loss = 1.43672393\n",
      "Iteration 148, loss = 1.42614199\n",
      "Iteration 149, loss = 1.44977243\n",
      "Iteration 150, loss = 1.47705043\n",
      "Iteration 151, loss = 1.46139378\n",
      "Iteration 152, loss = 1.44118622\n",
      "Iteration 153, loss = 1.43758811\n",
      "Iteration 154, loss = 1.47431781\n",
      "Iteration 155, loss = 1.81700904\n",
      "Iteration 156, loss = 1.44060698\n",
      "Iteration 157, loss = 1.38366598\n",
      "Iteration 158, loss = 1.43724778\n",
      "Iteration 159, loss = 1.38172065\n",
      "Iteration 160, loss = 1.38975875\n",
      "Iteration 161, loss = 1.39272052\n",
      "Iteration 162, loss = 1.40111617\n",
      "Iteration 163, loss = 1.46850910\n",
      "Iteration 164, loss = 1.41872744\n",
      "Iteration 165, loss = 1.50488299\n",
      "Iteration 166, loss = 1.38508431\n",
      "Iteration 167, loss = 1.38910560\n",
      "Iteration 168, loss = 1.49884278\n",
      "Iteration 169, loss = 1.39979036\n",
      "Iteration 170, loss = 1.41665536\n",
      "Training loss did not improve more than tol=0.000100 for 10 consecutive epochs. Stopping.\n"
     ]
    },
    {
     "data": {
      "text/plain": [
       "MLPRegressor(alpha=8, hidden_layer_sizes=(6, 5, 5, 3), learning_rate='adaptive',\n",
       "             max_iter=500, random_state=4, verbose=True)"
      ]
     },
     "execution_count": 216,
     "metadata": {},
     "output_type": "execute_result"
    }
   ],
   "source": [
    "mlp.fit(X_train, y_train)"
   ]
  },
  {
   "cell_type": "code",
   "execution_count": 229,
   "metadata": {},
   "outputs": [
    {
     "data": {
      "text/plain": [
       "0.8195003566536093"
      ]
     },
     "execution_count": 229,
     "metadata": {},
     "output_type": "execute_result"
    }
   ],
   "source": [
    "yhat = mlp.predict(X_test)\n",
    "r2_score(y_test, yhat)"
   ]
  },
  {
   "cell_type": "code",
   "execution_count": 231,
   "metadata": {},
   "outputs": [
    {
     "data": {
      "text/plain": [
       "0.7867196733535202"
      ]
     },
     "execution_count": 231,
     "metadata": {},
     "output_type": "execute_result"
    }
   ],
   "source": [
    "# tahminleri yhat'i int değere çevirerek yapıyoruz\n",
    "\n",
    "yhat = mlp.predict(X_test)\n",
    "r2_score(y_test, yhat.astype('int32') )"
   ]
  },
  {
   "cell_type": "code",
   "execution_count": 230,
   "metadata": {},
   "outputs": [
    {
     "data": {
      "text/plain": [
       "array([11.37017494, 10.37390739,  8.61416813, ...,  8.97391199,\n",
       "        7.64230629, 10.86070656])"
      ]
     },
     "execution_count": 230,
     "metadata": {},
     "output_type": "execute_result"
    }
   ],
   "source": [
    "yhat"
   ]
  },
  {
   "cell_type": "code",
   "execution_count": 226,
   "metadata": {},
   "outputs": [
    {
     "data": {
      "text/plain": [
       "array([11, 10,  8, ...,  8,  7, 10], dtype=int32)"
      ]
     },
     "execution_count": 226,
     "metadata": {},
     "output_type": "execute_result"
    }
   ],
   "source": [
    "yhat.astype('int32') "
   ]
  },
  {
   "cell_type": "code",
   "execution_count": 219,
   "metadata": {},
   "outputs": [
    {
     "data": {
      "text/plain": [
       "0.8202962590963786"
      ]
     },
     "execution_count": 219,
     "metadata": {},
     "output_type": "execute_result"
    }
   ],
   "source": [
    "from sklearn.metrics import explained_variance_score\n",
    "explained_variance_score(y_test, yhat)"
   ]
  },
  {
   "cell_type": "markdown",
   "metadata": {},
   "source": [
    "### predictions ve reality sonuçları arasında LinearRegression ile denklem kurulup daha doğru sonuçlara ulaşılmaya çalışılıyor"
   ]
  },
  {
   "cell_type": "code",
   "execution_count": 220,
   "metadata": {},
   "outputs": [
    {
     "data": {
      "text/html": [
       "<div>\n",
       "<style scoped>\n",
       "    .dataframe tbody tr th:only-of-type {\n",
       "        vertical-align: middle;\n",
       "    }\n",
       "\n",
       "    .dataframe tbody tr th {\n",
       "        vertical-align: top;\n",
       "    }\n",
       "\n",
       "    .dataframe thead th {\n",
       "        text-align: right;\n",
       "    }\n",
       "</style>\n",
       "<table border=\"1\" class=\"dataframe\">\n",
       "  <thead>\n",
       "    <tr style=\"text-align: right;\">\n",
       "      <th></th>\n",
       "      <th>predictions</th>\n",
       "      <th>reality</th>\n",
       "    </tr>\n",
       "  </thead>\n",
       "  <tbody>\n",
       "    <tr>\n",
       "      <th>0</th>\n",
       "      <td>11.159000</td>\n",
       "      <td>12</td>\n",
       "    </tr>\n",
       "    <tr>\n",
       "      <th>1</th>\n",
       "      <td>11.145561</td>\n",
       "      <td>13</td>\n",
       "    </tr>\n",
       "    <tr>\n",
       "      <th>2</th>\n",
       "      <td>9.152412</td>\n",
       "      <td>10</td>\n",
       "    </tr>\n",
       "    <tr>\n",
       "      <th>3</th>\n",
       "      <td>15.425638</td>\n",
       "      <td>16</td>\n",
       "    </tr>\n",
       "    <tr>\n",
       "      <th>4</th>\n",
       "      <td>4.967270</td>\n",
       "      <td>4</td>\n",
       "    </tr>\n",
       "    <tr>\n",
       "      <th>...</th>\n",
       "      <td>...</td>\n",
       "      <td>...</td>\n",
       "    </tr>\n",
       "    <tr>\n",
       "      <th>2467</th>\n",
       "      <td>6.201878</td>\n",
       "      <td>6</td>\n",
       "    </tr>\n",
       "    <tr>\n",
       "      <th>2468</th>\n",
       "      <td>12.324198</td>\n",
       "      <td>15</td>\n",
       "    </tr>\n",
       "    <tr>\n",
       "      <th>2469</th>\n",
       "      <td>9.512863</td>\n",
       "      <td>11</td>\n",
       "    </tr>\n",
       "    <tr>\n",
       "      <th>2470</th>\n",
       "      <td>7.405432</td>\n",
       "      <td>7</td>\n",
       "    </tr>\n",
       "    <tr>\n",
       "      <th>2471</th>\n",
       "      <td>10.829195</td>\n",
       "      <td>10</td>\n",
       "    </tr>\n",
       "  </tbody>\n",
       "</table>\n",
       "<p>2472 rows × 2 columns</p>\n",
       "</div>"
      ],
      "text/plain": [
       "      predictions  reality\n",
       "0       11.159000       12\n",
       "1       11.145561       13\n",
       "2        9.152412       10\n",
       "3       15.425638       16\n",
       "4        4.967270        4\n",
       "...           ...      ...\n",
       "2467     6.201878        6\n",
       "2468    12.324198       15\n",
       "2469     9.512863       11\n",
       "2470     7.405432        7\n",
       "2471    10.829195       10\n",
       "\n",
       "[2472 rows x 2 columns]"
      ]
     },
     "execution_count": 220,
     "metadata": {},
     "output_type": "execute_result"
    }
   ],
   "source": [
    "dff3"
   ]
  },
  {
   "cell_type": "code",
   "execution_count": 239,
   "metadata": {},
   "outputs": [],
   "source": [
    "xx = dff3[\"predictions\"]\n",
    "yy = dff3[\"reality\"]"
   ]
  },
  {
   "cell_type": "code",
   "execution_count": 241,
   "metadata": {},
   "outputs": [
    {
     "data": {
      "text/plain": [
       "array([0.        , 1.01539373])"
      ]
     },
     "execution_count": 241,
     "metadata": {},
     "output_type": "execute_result"
    }
   ],
   "source": [
    "from sklearn.linear_model import LinearRegression\n",
    "import statsmodels.api as sm\n",
    "\n",
    "xx = sm.add_constant(xx) \n",
    "\n",
    "reg = LinearRegression().fit(xx, yy)\n",
    "reg.coef_"
   ]
  },
  {
   "cell_type": "code",
   "execution_count": 243,
   "metadata": {},
   "outputs": [
    {
     "data": {
      "text/plain": [
       "-0.22892042755602837"
      ]
     },
     "execution_count": 243,
     "metadata": {},
     "output_type": "execute_result"
    }
   ],
   "source": [
    "reg.intercept_"
   ]
  },
  {
   "cell_type": "code",
   "execution_count": 244,
   "metadata": {},
   "outputs": [],
   "source": [
    "def fonk(x):\n",
    "    return x*1.01539373 -0.22892042755602837"
   ]
  },
  {
   "cell_type": "code",
   "execution_count": 246,
   "metadata": {},
   "outputs": [
    {
     "data": {
      "text/plain": [
       "12.284992948922513"
      ]
     },
     "execution_count": 246,
     "metadata": {},
     "output_type": "execute_result"
    }
   ],
   "source": [
    "fonk(12.324198)"
   ]
  },
  {
   "cell_type": "markdown",
   "metadata": {},
   "source": [
    "## predictions ve reality ile OLS"
   ]
  },
  {
   "cell_type": "code",
   "execution_count": 21,
   "metadata": {},
   "outputs": [
    {
     "data": {
      "text/html": [
       "<div>\n",
       "<style scoped>\n",
       "    .dataframe tbody tr th:only-of-type {\n",
       "        vertical-align: middle;\n",
       "    }\n",
       "\n",
       "    .dataframe tbody tr th {\n",
       "        vertical-align: top;\n",
       "    }\n",
       "\n",
       "    .dataframe thead th {\n",
       "        text-align: right;\n",
       "    }\n",
       "</style>\n",
       "<table border=\"1\" class=\"dataframe\">\n",
       "  <thead>\n",
       "    <tr style=\"text-align: right;\">\n",
       "      <th></th>\n",
       "      <th>predictions</th>\n",
       "      <th>reality</th>\n",
       "    </tr>\n",
       "  </thead>\n",
       "  <tbody>\n",
       "    <tr>\n",
       "      <th>0</th>\n",
       "      <td>12.092323</td>\n",
       "      <td>12</td>\n",
       "    </tr>\n",
       "    <tr>\n",
       "      <th>1</th>\n",
       "      <td>11.079216</td>\n",
       "      <td>13</td>\n",
       "    </tr>\n",
       "    <tr>\n",
       "      <th>2</th>\n",
       "      <td>8.626094</td>\n",
       "      <td>10</td>\n",
       "    </tr>\n",
       "    <tr>\n",
       "      <th>3</th>\n",
       "      <td>16.328157</td>\n",
       "      <td>16</td>\n",
       "    </tr>\n",
       "    <tr>\n",
       "      <th>4</th>\n",
       "      <td>5.438222</td>\n",
       "      <td>4</td>\n",
       "    </tr>\n",
       "    <tr>\n",
       "      <th>...</th>\n",
       "      <td>...</td>\n",
       "      <td>...</td>\n",
       "    </tr>\n",
       "    <tr>\n",
       "      <th>2467</th>\n",
       "      <td>5.405540</td>\n",
       "      <td>6</td>\n",
       "    </tr>\n",
       "    <tr>\n",
       "      <th>2468</th>\n",
       "      <td>11.970637</td>\n",
       "      <td>15</td>\n",
       "    </tr>\n",
       "    <tr>\n",
       "      <th>2469</th>\n",
       "      <td>9.241651</td>\n",
       "      <td>11</td>\n",
       "    </tr>\n",
       "    <tr>\n",
       "      <th>2470</th>\n",
       "      <td>7.913655</td>\n",
       "      <td>7</td>\n",
       "    </tr>\n",
       "    <tr>\n",
       "      <th>2471</th>\n",
       "      <td>13.677318</td>\n",
       "      <td>10</td>\n",
       "    </tr>\n",
       "  </tbody>\n",
       "</table>\n",
       "<p>2472 rows × 2 columns</p>\n",
       "</div>"
      ],
      "text/plain": [
       "      predictions  reality\n",
       "0       12.092323       12\n",
       "1       11.079216       13\n",
       "2        8.626094       10\n",
       "3       16.328157       16\n",
       "4        5.438222        4\n",
       "...           ...      ...\n",
       "2467     5.405540        6\n",
       "2468    11.970637       15\n",
       "2469     9.241651       11\n",
       "2470     7.913655        7\n",
       "2471    13.677318       10\n",
       "\n",
       "[2472 rows x 2 columns]"
      ]
     },
     "execution_count": 21,
     "metadata": {},
     "output_type": "execute_result"
    }
   ],
   "source": [
    "dff"
   ]
  },
  {
   "cell_type": "code",
   "execution_count": 22,
   "metadata": {},
   "outputs": [],
   "source": [
    "import statsmodels.api as sm\n",
    "X = dff[[\"predictions\"]]\n",
    "\n",
    "X = sm.add_constant(X)  \n",
    "\n",
    "y= dff[\"reality\"]"
   ]
  },
  {
   "cell_type": "code",
   "execution_count": 23,
   "metadata": {},
   "outputs": [
    {
     "data": {
      "text/html": [
       "<table class=\"simpletable\">\n",
       "<caption>OLS Regression Results</caption>\n",
       "<tr>\n",
       "  <th>Dep. Variable:</th>         <td>reality</td>     <th>  R-squared:         </th> <td>   0.786</td>\n",
       "</tr>\n",
       "<tr>\n",
       "  <th>Model:</th>                   <td>OLS</td>       <th>  Adj. R-squared:    </th> <td>   0.786</td>\n",
       "</tr>\n",
       "<tr>\n",
       "  <th>Method:</th>             <td>Least Squares</td>  <th>  F-statistic:       </th> <td>   9083.</td>\n",
       "</tr>\n",
       "<tr>\n",
       "  <th>Date:</th>             <td>Mon, 28 Sep 2020</td> <th>  Prob (F-statistic):</th>  <td>  0.00</td> \n",
       "</tr>\n",
       "<tr>\n",
       "  <th>Time:</th>                 <td>20:31:43</td>     <th>  Log-Likelihood:    </th> <td> -4794.8</td>\n",
       "</tr>\n",
       "<tr>\n",
       "  <th>No. Observations:</th>      <td>  2472</td>      <th>  AIC:               </th> <td>   9594.</td>\n",
       "</tr>\n",
       "<tr>\n",
       "  <th>Df Residuals:</th>          <td>  2470</td>      <th>  BIC:               </th> <td>   9605.</td>\n",
       "</tr>\n",
       "<tr>\n",
       "  <th>Df Model:</th>              <td>     1</td>      <th>                     </th>     <td> </td>   \n",
       "</tr>\n",
       "<tr>\n",
       "  <th>Covariance Type:</th>      <td>nonrobust</td>    <th>                     </th>     <td> </td>   \n",
       "</tr>\n",
       "</table>\n",
       "<table class=\"simpletable\">\n",
       "<tr>\n",
       "       <td></td>          <th>coef</th>     <th>std err</th>      <th>t</th>      <th>P>|t|</th>  <th>[0.025</th>    <th>0.975]</th>  \n",
       "</tr>\n",
       "<tr>\n",
       "  <th>const</th>       <td>    0.5221</td> <td>    0.096</td> <td>    5.434</td> <td> 0.000</td> <td>    0.334</td> <td>    0.710</td>\n",
       "</tr>\n",
       "<tr>\n",
       "  <th>predictions</th> <td>    0.9023</td> <td>    0.009</td> <td>   95.307</td> <td> 0.000</td> <td>    0.884</td> <td>    0.921</td>\n",
       "</tr>\n",
       "</table>\n",
       "<table class=\"simpletable\">\n",
       "<tr>\n",
       "  <th>Omnibus:</th>       <td>38.970</td> <th>  Durbin-Watson:     </th> <td>   1.992</td>\n",
       "</tr>\n",
       "<tr>\n",
       "  <th>Prob(Omnibus):</th> <td> 0.000</td> <th>  Jarque-Bera (JB):  </th> <td>  57.858</td>\n",
       "</tr>\n",
       "<tr>\n",
       "  <th>Skew:</th>          <td> 0.165</td> <th>  Prob(JB):          </th> <td>2.73e-13</td>\n",
       "</tr>\n",
       "<tr>\n",
       "  <th>Kurtosis:</th>      <td> 3.673</td> <th>  Cond. No.          </th> <td>    29.0</td>\n",
       "</tr>\n",
       "</table><br/><br/>Warnings:<br/>[1] Standard Errors assume that the covariance matrix of the errors is correctly specified."
      ],
      "text/plain": [
       "<class 'statsmodels.iolib.summary.Summary'>\n",
       "\"\"\"\n",
       "                            OLS Regression Results                            \n",
       "==============================================================================\n",
       "Dep. Variable:                reality   R-squared:                       0.786\n",
       "Model:                            OLS   Adj. R-squared:                  0.786\n",
       "Method:                 Least Squares   F-statistic:                     9083.\n",
       "Date:                Mon, 28 Sep 2020   Prob (F-statistic):               0.00\n",
       "Time:                        20:31:43   Log-Likelihood:                -4794.8\n",
       "No. Observations:                2472   AIC:                             9594.\n",
       "Df Residuals:                    2470   BIC:                             9605.\n",
       "Df Model:                           1                                         \n",
       "Covariance Type:            nonrobust                                         \n",
       "===============================================================================\n",
       "                  coef    std err          t      P>|t|      [0.025      0.975]\n",
       "-------------------------------------------------------------------------------\n",
       "const           0.5221      0.096      5.434      0.000       0.334       0.710\n",
       "predictions     0.9023      0.009     95.307      0.000       0.884       0.921\n",
       "==============================================================================\n",
       "Omnibus:                       38.970   Durbin-Watson:                   1.992\n",
       "Prob(Omnibus):                  0.000   Jarque-Bera (JB):               57.858\n",
       "Skew:                           0.165   Prob(JB):                     2.73e-13\n",
       "Kurtosis:                       3.673   Cond. No.                         29.0\n",
       "==============================================================================\n",
       "\n",
       "Warnings:\n",
       "[1] Standard Errors assume that the covariance matrix of the errors is correctly specified.\n",
       "\"\"\""
      ]
     },
     "execution_count": 23,
     "metadata": {},
     "output_type": "execute_result"
    }
   ],
   "source": [
    "lm = sm.OLS(y, X)\n",
    "model = lm.fit()\n",
    "model.summary()"
   ]
  },
  {
   "cell_type": "code",
   "execution_count": 26,
   "metadata": {},
   "outputs": [],
   "source": [
    "# katsayılar ile bulunan denklemin fonksiyonu \n",
    "\n",
    "def fonk(x):\n",
    "    return x*0.9023 + 0.5221"
   ]
  },
  {
   "cell_type": "code",
   "execution_count": 29,
   "metadata": {},
   "outputs": [
    {
     "data": {
      "text/plain": [
       "11.323205765099999"
      ]
     },
     "execution_count": 29,
     "metadata": {},
     "output_type": "execute_result"
    }
   ],
   "source": [
    "fonk(11.970637)"
   ]
  },
  {
   "cell_type": "code",
   "execution_count": 33,
   "metadata": {},
   "outputs": [
    {
     "data": {
      "text/html": [
       "<div>\n",
       "<style scoped>\n",
       "    .dataframe tbody tr th:only-of-type {\n",
       "        vertical-align: middle;\n",
       "    }\n",
       "\n",
       "    .dataframe tbody tr th {\n",
       "        vertical-align: top;\n",
       "    }\n",
       "\n",
       "    .dataframe thead th {\n",
       "        text-align: right;\n",
       "    }\n",
       "</style>\n",
       "<table border=\"1\" class=\"dataframe\">\n",
       "  <thead>\n",
       "    <tr style=\"text-align: right;\">\n",
       "      <th></th>\n",
       "      <th>predictions</th>\n",
       "      <th>reality</th>\n",
       "    </tr>\n",
       "  </thead>\n",
       "  <tbody>\n",
       "    <tr>\n",
       "      <th>4</th>\n",
       "      <td>5.438222</td>\n",
       "      <td>4</td>\n",
       "    </tr>\n",
       "    <tr>\n",
       "      <th>6</th>\n",
       "      <td>13.174056</td>\n",
       "      <td>12</td>\n",
       "    </tr>\n",
       "    <tr>\n",
       "      <th>7</th>\n",
       "      <td>11.196901</td>\n",
       "      <td>10</td>\n",
       "    </tr>\n",
       "    <tr>\n",
       "      <th>12</th>\n",
       "      <td>10.524541</td>\n",
       "      <td>8</td>\n",
       "    </tr>\n",
       "    <tr>\n",
       "      <th>14</th>\n",
       "      <td>11.038665</td>\n",
       "      <td>9</td>\n",
       "    </tr>\n",
       "    <tr>\n",
       "      <th>...</th>\n",
       "      <td>...</td>\n",
       "      <td>...</td>\n",
       "    </tr>\n",
       "    <tr>\n",
       "      <th>2456</th>\n",
       "      <td>7.971881</td>\n",
       "      <td>6</td>\n",
       "    </tr>\n",
       "    <tr>\n",
       "      <th>2457</th>\n",
       "      <td>11.636884</td>\n",
       "      <td>10</td>\n",
       "    </tr>\n",
       "    <tr>\n",
       "      <th>2458</th>\n",
       "      <td>12.884202</td>\n",
       "      <td>10</td>\n",
       "    </tr>\n",
       "    <tr>\n",
       "      <th>2461</th>\n",
       "      <td>9.280015</td>\n",
       "      <td>8</td>\n",
       "    </tr>\n",
       "    <tr>\n",
       "      <th>2471</th>\n",
       "      <td>13.677318</td>\n",
       "      <td>10</td>\n",
       "    </tr>\n",
       "  </tbody>\n",
       "</table>\n",
       "<p>864 rows × 2 columns</p>\n",
       "</div>"
      ],
      "text/plain": [
       "      predictions  reality\n",
       "4        5.438222        4\n",
       "6       13.174056       12\n",
       "7       11.196901       10\n",
       "12      10.524541        8\n",
       "14      11.038665        9\n",
       "...           ...      ...\n",
       "2456     7.971881        6\n",
       "2457    11.636884       10\n",
       "2458    12.884202       10\n",
       "2461     9.280015        8\n",
       "2471    13.677318       10\n",
       "\n",
       "[864 rows x 2 columns]"
      ]
     },
     "execution_count": 33,
     "metadata": {},
     "output_type": "execute_result"
    }
   ],
   "source": [
    "dff[dff[\"predictions\"]-dff[\"reality\"]>1]"
   ]
  },
  {
   "cell_type": "code",
   "execution_count": 37,
   "metadata": {},
   "outputs": [],
   "source": [
    "# ols sonucunda bulunan denklemdeki değerlere predictions değerleri yazılıyor. ve tahminler güncelleniyor.\n",
    "# güncellenen değerler ols kolonuna yazılıyor\n",
    "\n",
    "dff[\"ols\"] = dff[\"predictions\"].apply(lambda x: fonk(x))"
   ]
  },
  {
   "cell_type": "code",
   "execution_count": 45,
   "metadata": {},
   "outputs": [
    {
     "data": {
      "text/html": [
       "<div>\n",
       "<style scoped>\n",
       "    .dataframe tbody tr th:only-of-type {\n",
       "        vertical-align: middle;\n",
       "    }\n",
       "\n",
       "    .dataframe tbody tr th {\n",
       "        vertical-align: top;\n",
       "    }\n",
       "\n",
       "    .dataframe thead th {\n",
       "        text-align: right;\n",
       "    }\n",
       "</style>\n",
       "<table border=\"1\" class=\"dataframe\">\n",
       "  <thead>\n",
       "    <tr style=\"text-align: right;\">\n",
       "      <th></th>\n",
       "      <th>predictions</th>\n",
       "      <th>reality</th>\n",
       "      <th>ols</th>\n",
       "    </tr>\n",
       "  </thead>\n",
       "  <tbody>\n",
       "    <tr>\n",
       "      <th>0</th>\n",
       "      <td>12.092323</td>\n",
       "      <td>12</td>\n",
       "      <td>11.433003</td>\n",
       "    </tr>\n",
       "    <tr>\n",
       "      <th>1</th>\n",
       "      <td>11.079216</td>\n",
       "      <td>13</td>\n",
       "      <td>10.518877</td>\n",
       "    </tr>\n",
       "    <tr>\n",
       "      <th>2</th>\n",
       "      <td>8.626094</td>\n",
       "      <td>10</td>\n",
       "      <td>8.305424</td>\n",
       "    </tr>\n",
       "    <tr>\n",
       "      <th>3</th>\n",
       "      <td>16.328157</td>\n",
       "      <td>16</td>\n",
       "      <td>15.254996</td>\n",
       "    </tr>\n",
       "    <tr>\n",
       "      <th>4</th>\n",
       "      <td>5.438222</td>\n",
       "      <td>4</td>\n",
       "      <td>5.429008</td>\n",
       "    </tr>\n",
       "    <tr>\n",
       "      <th>...</th>\n",
       "      <td>...</td>\n",
       "      <td>...</td>\n",
       "      <td>...</td>\n",
       "    </tr>\n",
       "    <tr>\n",
       "      <th>2467</th>\n",
       "      <td>5.405540</td>\n",
       "      <td>6</td>\n",
       "      <td>5.399519</td>\n",
       "    </tr>\n",
       "    <tr>\n",
       "      <th>2468</th>\n",
       "      <td>11.970637</td>\n",
       "      <td>15</td>\n",
       "      <td>11.323206</td>\n",
       "    </tr>\n",
       "    <tr>\n",
       "      <th>2469</th>\n",
       "      <td>9.241651</td>\n",
       "      <td>11</td>\n",
       "      <td>8.860842</td>\n",
       "    </tr>\n",
       "    <tr>\n",
       "      <th>2470</th>\n",
       "      <td>7.913655</td>\n",
       "      <td>7</td>\n",
       "      <td>7.662590</td>\n",
       "    </tr>\n",
       "    <tr>\n",
       "      <th>2471</th>\n",
       "      <td>13.677318</td>\n",
       "      <td>10</td>\n",
       "      <td>12.863144</td>\n",
       "    </tr>\n",
       "  </tbody>\n",
       "</table>\n",
       "<p>2472 rows × 3 columns</p>\n",
       "</div>"
      ],
      "text/plain": [
       "      predictions  reality        ols\n",
       "0       12.092323       12  11.433003\n",
       "1       11.079216       13  10.518877\n",
       "2        8.626094       10   8.305424\n",
       "3       16.328157       16  15.254996\n",
       "4        5.438222        4   5.429008\n",
       "...           ...      ...        ...\n",
       "2467     5.405540        6   5.399519\n",
       "2468    11.970637       15  11.323206\n",
       "2469     9.241651       11   8.860842\n",
       "2470     7.913655        7   7.662590\n",
       "2471    13.677318       10  12.863144\n",
       "\n",
       "[2472 rows x 3 columns]"
      ]
     },
     "execution_count": 45,
     "metadata": {},
     "output_type": "execute_result"
    }
   ],
   "source": [
    "dff"
   ]
  },
  {
   "cell_type": "code",
   "execution_count": 42,
   "metadata": {},
   "outputs": [
    {
     "name": "stdout",
     "output_type": "stream",
     "text": [
      "doğru tahmin yüzdesi:  25.49\n"
     ]
    }
   ],
   "source": [
    "count=0\n",
    "for i in range(0,len(dff[\"reality\"])):\n",
    "#     print(round(dff[\"predictions\"][i],0))\n",
    "    if int((dff[\"predictions\"][i])) == int(dff[\"reality\"][i]):\n",
    "        count = count + 1\n",
    "print(\"doğru tahmin yüzdesi: \",round(count/len(y)*100,2))"
   ]
  },
  {
   "cell_type": "code",
   "execution_count": 41,
   "metadata": {},
   "outputs": [
    {
     "name": "stdout",
     "output_type": "stream",
     "text": [
      "doğru tahmin yüzdesi:  24.23\n"
     ]
    }
   ],
   "source": [
    "# yuvarlama olmadan sayılar hesaplanıyor\n",
    "\n",
    "count=0\n",
    "for i in range(0,len(dff[\"reality\"])):\n",
    "#     print(round(dff[\"predictions\"][i],0))\n",
    "    if int((dff[\"ols\"][i])) == int(dff[\"reality\"][i]):\n",
    "        count = count + 1\n",
    "print(\"doğru tahmin yüzdesi: \",round(count/len(y)*100,2))"
   ]
  },
  {
   "cell_type": "code",
   "execution_count": 43,
   "metadata": {},
   "outputs": [
    {
     "name": "stdout",
     "output_type": "stream",
     "text": [
      "doğru tahmin yüzdesi:  22.69\n"
     ]
    }
   ],
   "source": [
    "\n",
    "count=0\n",
    "for i in range(0,len(dff[\"reality\"])):\n",
    "\n",
    "    if int(round(dff[\"predictions\"][i],0)) == int(dff[\"reality\"][i]):\n",
    "        count = count + 1\n",
    "print(\"doğru tahmin yüzdesi: \",round(count/len(y)*100,2))"
   ]
  },
  {
   "cell_type": "code",
   "execution_count": 44,
   "metadata": {},
   "outputs": [
    {
     "name": "stdout",
     "output_type": "stream",
     "text": [
      "doğru tahmin yüzdesi:  23.91\n"
     ]
    }
   ],
   "source": [
    "count=0\n",
    "for i in range(0,len(dff[\"reality\"])):\n",
    "\n",
    "    if int(round(dff[\"ols\"][i],0)) == int(dff[\"reality\"][i]):\n",
    "        count = count + 1\n",
    "print(\"doğru tahmin yüzdesi: \",round(count/len(y)*100,2))"
   ]
  },
  {
   "cell_type": "code",
   "execution_count": null,
   "metadata": {},
   "outputs": [],
   "source": []
  }
 ],
 "metadata": {
  "kernelspec": {
   "display_name": "Python 3",
   "language": "python",
   "name": "python3"
  },
  "language_info": {
   "codemirror_mode": {
    "name": "ipython",
    "version": 3
   },
   "file_extension": ".py",
   "mimetype": "text/x-python",
   "name": "python",
   "nbconvert_exporter": "python",
   "pygments_lexer": "ipython3",
   "version": "3.8.3"
  }
 },
 "nbformat": 4,
 "nbformat_minor": 4
}
